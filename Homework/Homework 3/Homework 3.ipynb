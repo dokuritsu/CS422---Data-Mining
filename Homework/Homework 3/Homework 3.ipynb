{
 "cells": [
  {
   "cell_type": "markdown",
   "metadata": {},
   "source": [
    "# Recitation Problems - Chapter 5\n",
    "\n",
    "## Exercise 2 - Consider data from Table 5.20\n",
    "\n",
    "### a. Compute the support for itemsets {e}, {b,d}, and {b,d,e} by treating each transaction ID as a market basket. Note: 10 transaction in total. \n",
    "\n",
    "Support Count for {e} = # of transactions containing e = 8\n",
    "\n",
    "**Support for {e}** = Support count/ total transactions = ($\\frac{8}{10}$) = **0.8**\n",
    "\n",
    "Support Count for {b,d} = # of transactions containing b & d = 2\n",
    "\n",
    "**Support for {b,d} = ** = ($\\frac{2}{10}$) = **0.2**\n",
    "\n",
    "Support Count for {b,d,e} = # of transactions containing b, d, & e = 2\n",
    "\n",
    "**Support for {b,d,e}** = ($\\frac{2}{10}$) = **0.2**\n",
    "\n",
    "### b. Use results from (a) to compute confidence for association rules {b,d} --> {e} and {e} --> {b,d}. Is confidence a symmetric measure?\n",
    "\n",
    "**Confidence for {b,d} --> {e}** = Support for {b,d,e} / Support for {b,d} = ($\\frac{0.2}{0.2}$) = **1**\n",
    "\n",
    "**Confidence for {e} --> {b,d}** = Support for {b,d,e} / Support for {e} = ($\\frac{0.2}{0.8}$) = **0.25**\n",
    "\n",
    "Based on the above, **confidence is not a symmetric measure**.\n",
    "\n",
    "### c. Repeat (a) by treating Customer ID as a market basket. Note: 5 total transactions\n",
    "\n",
    "Support Count for {e} = # of transactions containing e = 4\n",
    "\n",
    "**Support for {e}** = Support count/ total transactions = ($\\frac{4}{5}$) = **0.8**\n",
    "\n",
    "Support Count for {b,d} = # of transactions containing b & d = 5\n",
    "\n",
    "**Support for {b,d}** = ($\\frac{5}{5}$) = **1**\n",
    "\n",
    "Support Count for {b,d,e} = # of transactions containing b, d, & e = 4\n",
    "\n",
    "**Support for {b,d,e}** = ($\\frac{4}{5}$) = **0.8**\n",
    "\n",
    "### d. Use results from (c) to repeat (b). \n",
    "\n",
    "**Confidence for {b,d} --> {e}** = Support for {b,d,e} / Support for {b,d} = ($\\frac{0.8}{1}$) = **0.8**\n",
    "\n",
    "**Confidence for {e} --> {b,d}** = Support for {b,d,e} / Support for {e} = ($\\frac{0.8}{0.8}$) = **1**\n",
    "\n",
    "### e. Suppose ($s_1$) and ($c_1$) are support and confidence values for rule *r* when treating Transaction ID as a market basket and ($s_2$) and ($c_2$) are support and confidence values for rule *r* when treating Customer ID as a market basket. Discuss whether there is a relationship between  ($s_1$) & ($s_2$) or ($c_1$) & ($c_2$).\n",
    "\n",
    "I do not think there is any significant relationship between either of two. The only thing that remains equal among the two is that the support for {e} is 0.8. Everything else is different. "
   ]
  },
  {
   "cell_type": "code",
   "execution_count": null,
   "metadata": {},
   "outputs": [],
   "source": []
  }
 ],
 "metadata": {
  "kernelspec": {
   "display_name": "Python 3",
   "language": "python",
   "name": "python3"
  },
  "language_info": {
   "codemirror_mode": {
    "name": "ipython",
    "version": 3
   },
   "file_extension": ".py",
   "mimetype": "text/x-python",
   "name": "python",
   "nbconvert_exporter": "python",
   "pygments_lexer": "ipython3",
   "version": "3.7.4"
  }
 },
 "nbformat": 4,
 "nbformat_minor": 2
}
