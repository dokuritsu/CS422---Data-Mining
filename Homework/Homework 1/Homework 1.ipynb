{
 "cells": [
  {
   "cell_type": "markdown",
   "metadata": {},
   "source": [
    "# CS422 - Homework #1\n",
    "-----------------------------------------------------------------------------------------------------------------------------\n",
    "## By: Laura Pereda\n",
    "\n",
    "## Recitation Problems\n",
    "\n",
    "### Chapter 1:\n",
    "#### Exercise 1 - Discuss whether each of the following are data mining tasks:\n",
    "* A. No, simply divinding customers based on a characteristic is not data mining. It's just querying.\n",
    "* B. No. Again, dividing customers based on a characteristic isn't data mining, but querying.\n",
    "* C. No, computing sales seems more like accounting than data mining.\n",
    "* D. No, this follows more towards querying in a specific order than data mining.\n",
    "* E. No, since the dice is fair data mining would not be useful here. Probability analysis or statistics seems more like it.\n",
    "* F. Yes, creating models based on previous data follows along the lines of a data mining task.\n",
    "* G. Yes, a model could be created to follow normal heart rate and use past info to determine abnormal heart rates.\n",
    "* H. Yes, creating models on past seismic waves associated with earthquakes.\n",
    "* I. No, this is just extraction, which is not enough to make this a data mining task.\n",
    "\n",
    "### Chapter 2:\n",
    "#### Exercise 2 - Classifying attributes as binary, discrete, or continuous. In addition, classify as either qualitative (nominal or ordinal) or quantitative (interval or ratio). \n",
    "* A. Binary; Quantitative, Ordinal\n",
    "* B. Continuous; Quantitative, Ratio\n",
    "* C. Discrete; Qualitative, Ordinal Ex. You can't really cut up people's opinions into parts nor does a unit of measurement exist to measure them. Most simple responses would fall under \"good, better, best\". Just enough to have some order.\n",
    "* D. Continuous; Quantitative, Ratio\n",
    "* E. Discrete; Qualitative, Ordinal\n",
    "* F. Continuous; Quantitative, Interval Ex. The height above sea lvl is always changing but it can be measured. \n",
    "* G. Discrete; Quantitative, Ratio\n",
    "* H. Discrete; Qualitative, Nominal\n",
    "* I. Discrete; Qualitative, Ordinal\n",
    "* J. Discrete; Qualitative, Ordinal\n",
    "* K. Continuous; Quantitative, Interval Ex. Distance always changing, can be measure, not sure about dividing/multiplying\n",
    "* L. Discrete; Quantitative, Interval Ex. Density is within a measurement.\n",
    "* M. Discrete; Qualitative, Nominal\n",
    "\n",
    "#### Exercise 7 - Which of the following quantities is likely to show more temporal autocorrelation: daily rainfall or daily temperature? Why?\n",
    "    Tricky question, but seeing as I live within an area that temperature is categorized within four seasons, with each season having its own set of temperature changes, I would say daily temperature best represents temporal autocorrelation. Daily rainfall can be inconsistent throughout some seasons, sometimes not even showing at all. The location of the area also determines the amount of rainfall. Daily temperature just seems more reliable. \n",
    "    \n",
    "#### Exercise 15 - Given a set of _m_ objects that is divided into _k_ groups of size **m i**. If the goal is to obtain a sample of size n < m, what is the difference between the following two sampling schemes? Assume sampling with replacement\n",
    "    The first scheme represents **stratified sampling** where there are prespecified groups of objects and we take an equal number of objects from each group. There is a variation in where we take a number proportional to the size of that particular group. The second scheme represents a simple random sampling where each object has the same probability of being selected, especially since we assume the sampling is with replacement. Sampling only works if it is a good representation of the original data set. While simple random sampling with replacement makes it easier to analyze because the probability remains the same for each object, if these m objects are different types that it will fail to represent those types of objects that are less frequent. Stratified sampling is able to cover that. \n",
    "    \n",
    "#### Exercise 16 - Talks about the inverse document frequency transformation.\n",
    "* A. What is the effect of this transformation if a term occurs in one document? In every document?\n",
    "    \n",
    "    If the term appears in one document then it will have the maximum weight of 1, which would indicate the term uniquness. If the term appears in every document, it would have the lowest weight of 0, which would indicate its lack of uniqueness. \n",
    "    \n",
    "    \n",
    "* B. What might be the purpose of this transformation?\n",
    "    \n",
    "    In information retrieval, eliminating the \"noise\" as used in data mining is very important to create efficiency and improve the time to retrieve results. This transformation will help with eliminating stop words, i.e the, a, in, is, etc.\n",
    "    \n",
    "#### Exercise 17 - Apply square root transformation to a ratio attribute x to obtain a new attribute x*. As part of analysis, you identify an interval (a, b) in which x* has a linear relationship to another attribute y.\n",
    "* A. What is the corresponding interval (a, b) in terms of x?\n",
    "\n",
    "     (a^2, b^2 )\n",
    "     \n",
    "* B. Give an equation that relates y to x. \n",
    "\n",
    "    y = x^2\n",
    "    \n",
    "#### Exercise 18 - Compares and contrast some similarity and distance measures.\n",
    "* A. x = 0101010001 & y = 0100011000 \n",
    "\n",
    "    Hamming distance = 3\n",
    "    Jaccard similarity = f(11)/ (f(10) + f(10) + f(11)) = 2/5\n",
    "    \n",
    "* B. Which approach (Jaccard or Hamming distance) is similar to Simple Matching Coefficient and which is more simiar to cosine measure?\n",
    "\n",
    "    The Hamming distance is similar to the SMC. The SMC is defined as \"the number of matching attribute values\"/\"number of attributes\". It measure the similarity of objects while the hamming distance measures differences. Opposites but similar principles."
   ]
  },
  {
   "cell_type": "markdown",
   "metadata": {},
   "source": [
    "## Practicum Problems\n",
    "### Problem 1 - Titanic Database"
   ]
  },
  {
   "cell_type": "code",
   "execution_count": 1,
   "metadata": {},
   "outputs": [],
   "source": [
    "import numpy as np\n",
    "import pandas as pd\n",
    "\n",
    "from sklearn import datasets\n",
    "from sklearn.impute import SimpleImputer\n",
    "\n",
    "import seaborn as sns\n",
    "\n",
    "import matplotlib.pyplot as plt\n",
    "%matplotlib inline"
   ]
  },
  {
   "cell_type": "code",
   "execution_count": 2,
   "metadata": {},
   "outputs": [
    {
     "data": {
      "image/png": "[encoded data removed]",
      "text/plain": [
       "<Figure size 446.875x720 with 2 Axes>"
      ]
     },
     "metadata": {
      "needs_background": "light"
     },
     "output_type": "display_data"
    }
   ],
   "source": [
    "titanic_ds = sns.load_dataset(\"titanic\")\n",
    "bins = np.arange(0, 70, 5)\n",
    "g = sns.FacetGrid(titanic_ds, row=\"sex\", hue=\"survived\", margin_titles=True, height=5, aspect=1.1)\n",
    "g.map(sns.distplot, 'age', kde=False, bins=bins, hist_kws=dict(alpha=0.6))\n",
    "g.add_legend()\n",
    "plt.show()"
   ]
  },
  {
   "cell_type": "markdown",
   "metadata": {},
   "source": [
    "From above, the relationship between age and gender shows more women survived vs men. For a man to survive, he would had to have been below the age of 10. In this case, the results do make sense since within the evacuation procedure, women and children were prioritized before men. As unfortunate as that it, the result from this histogram follow along those lines. \n",
    "\n",
    "### Problem 2 - Auto MPG Dataset"
   ]
  },
  {
   "cell_type": "code",
   "execution_count": 4,
   "metadata": {},
   "outputs": [],
   "source": [
    "import os\n",
    "\n",
    "autompg_ds = pd.read_csv('auto-mpg.csv', na_values=[\"?\"])\n",
    "autompg_ds = autompg_ds.drop(columns='name')"
   ]
  },
  {
   "cell_type": "markdown",
   "metadata": {},
   "source": [
    "Demonstrate variance with missing values in horsepower:"
   ]
  },
  {
   "cell_type": "code",
   "execution_count": 5,
   "metadata": {},
   "outputs": [
    {
     "data": {
      "text/plain": [
       "mpg                 61.089611\n",
       "cylinders            2.893415\n",
       "displacement     10872.199152\n",
       "horsepower        1481.569393\n",
       "weight          717140.990526\n",
       "acceleration         7.604848\n",
       "model_year          13.672443\n",
       "origin               0.643292\n",
       "dtype: float64"
      ]
     },
     "execution_count": 5,
     "metadata": {},
     "output_type": "execute_result"
    }
   ],
   "source": [
    "autompg_ds.var()"
   ]
  },
  {
   "cell_type": "markdown",
   "metadata": {},
   "source": [
    "Demonstrate variance with mean replacing the missing values in horsepower:"
   ]
  },
  {
   "cell_type": "code",
   "execution_count": 6,
   "metadata": {},
   "outputs": [],
   "source": [
    "imp_mean = SimpleImputer(missing_values=np.nan, strategy='mean')\n",
    "imp_mean.fit(autompg_ds)\n",
    "autompg_ds[autompg_ds.columns] = imp_mean.fit_transform(autompg_ds)\n",
    "# autompg_ds['horsepower'].values.tolist() //Check to see if NaN was replaced"
   ]
  },
  {
   "cell_type": "code",
   "execution_count": 115,
   "metadata": {},
   "outputs": [
    {
     "data": {
      "text/plain": [
       "mpg                 61.089611\n",
       "cylinders            2.893415\n",
       "displacement     10872.199152\n",
       "horsepower        1459.177916\n",
       "weight          717140.990526\n",
       "acceleration         7.604848\n",
       "model_year          13.672443\n",
       "origin               0.643292\n",
       "dtype: float64"
      ]
     },
     "execution_count": 115,
     "metadata": {},
     "output_type": "execute_result"
    }
   ],
   "source": [
    "autompg_ds.var()"
   ]
  },
  {
   "cell_type": "markdown",
   "metadata": {},
   "source": [
    "Demonstrate variance with median replacing the missing values in horsepower:"
   ]
  },
  {
   "cell_type": "code",
   "execution_count": 8,
   "metadata": {},
   "outputs": [],
   "source": [
    "autompg_ds2 = pd.read_csv('auto-mpg.csv', na_values=[\"?\"])\n",
    "autompg_ds2 = autompg_ds2.drop(columns='name')\n",
    "imp_mean = SimpleImputer(missing_values=np.nan, strategy='median')\n",
    "imp_mean.fit(autompg_ds2)\n",
    "autompg_ds2[autompg_ds2.columns] = imp_mean.fit_transform(autompg_ds2)\n",
    "# autompg_ds2['horsepower'].values.tolist() //Check to see if NaN was replaced"
   ]
  },
  {
   "cell_type": "code",
   "execution_count": 9,
   "metadata": {},
   "outputs": [
    {
     "data": {
      "text/plain": [
       "mpg                 61.089611\n",
       "cylinders            2.893415\n",
       "displacement     10872.199152\n",
       "horsepower        1460.969052\n",
       "weight          717140.990526\n",
       "acceleration         7.604848\n",
       "model_year          13.672443\n",
       "origin               0.643292\n",
       "dtype: float64"
      ]
     },
     "execution_count": 9,
     "metadata": {},
     "output_type": "execute_result"
    }
   ],
   "source": [
    "autompg_ds2.var()"
   ]
  },
  {
   "cell_type": "markdown",
   "metadata": {},
   "source": [
    "Demonstrate variance with mode replacing the missing values in horsepower:"
   ]
  },
  {
   "cell_type": "code",
   "execution_count": 10,
   "metadata": {},
   "outputs": [],
   "source": [
    "autompg_ds3 = pd.read_csv('auto-mpg.csv', na_values=[\"?\"])\n",
    "autompg_ds3 = autompg_ds3.drop(columns='name')\n",
    "imp_mean = SimpleImputer(missing_values=np.nan, strategy='median')\n",
    "imp_mean.fit(autompg_ds3)\n",
    "autompg_ds2[autompg_ds3.columns] = imp_mean.fit_transform(autompg_ds3)\n",
    "# autompg_ds2['horsepower'].values.tolist() //Check to see if NaN was replaced"
   ]
  },
  {
   "cell_type": "code",
   "execution_count": 11,
   "metadata": {},
   "outputs": [
    {
     "data": {
      "text/plain": [
       "mpg                 61.089611\n",
       "cylinders            2.893415\n",
       "displacement     10872.199152\n",
       "horsepower        1481.569393\n",
       "weight          717140.990526\n",
       "acceleration         7.604848\n",
       "model_year          13.672443\n",
       "origin               0.643292\n",
       "dtype: float64"
      ]
     },
     "execution_count": 11,
     "metadata": {},
     "output_type": "execute_result"
    }
   ],
   "source": [
    "autompg_ds3.var()"
   ]
  },
  {
   "cell_type": "markdown",
   "metadata": {},
   "source": [
    "--------------------------------------------------------------------------------------\n",
    "* Original: 1481.569393\n",
    "* Mean:     1459.177916\n",
    "* Median:   1460.969052\n",
    "* Mode:     1481.569393\n",
    "\n",
    "The mean imputation resulted in the lowest variance. SThis is because we are replacing the missing values with the mean. As the data becomes to take on the average, the variability of the data will decrease to 0 and thus not capture the actual data. On the otherhand, it seems the mode was able to maintain the original variance of the data, thus I would utilize the mode more often to replace any missing data."
   ]
  },
  {
   "cell_type": "markdown",
   "metadata": {},
   "source": [
    "### Problem 3 - Iris Dataset"
   ]
  },
  {
   "cell_type": "code",
   "execution_count": 64,
   "metadata": {},
   "outputs": [
    {
     "data": {
      "text/plain": [
       "array([4.22824171, 0.24267075, 0.0782095 ])"
      ]
     },
     "execution_count": 64,
     "metadata": {},
     "output_type": "execute_result"
    }
   ],
   "source": [
    "iris = datasets.load_iris()\n",
    "iris_df = pd.DataFrame(iris.data, columns=iris.feature_names)\n",
    "\n",
    "from sklearn import decomposition\n",
    "pca = decomposition.PCA(n_components=3)\n",
    "pca.fit(iris_df.iloc[:,0:4])\n",
    "pca.explained_variance_"
   ]
  },
  {
   "cell_type": "code",
   "execution_count": 60,
   "metadata": {},
   "outputs": [
    {
     "data": {
      "text/plain": [
       "array([0.92461872, 0.05306648, 0.01710261])"
      ]
     },
     "execution_count": 60,
     "metadata": {},
     "output_type": "execute_result"
    }
   ],
   "source": [
    "pca.explained_variance_ratio_"
   ]
  },
  {
   "cell_type": "code",
   "execution_count": 61,
   "metadata": {},
   "outputs": [
    {
     "data": {
      "text/plain": [
       "SPL    0.685694\n",
       "SPW    0.189979\n",
       "PTL    3.116278\n",
       "PTW    0.581006\n",
       "dtype: float64"
      ]
     },
     "execution_count": 61,
     "metadata": {},
     "output_type": "execute_result"
    }
   ],
   "source": [
    "iris_df.var()"
   ]
  },
  {
   "cell_type": "markdown",
   "metadata": {},
   "source": [
    "Calculate the percentage of variance to the original features:"
   ]
  },
  {
   "cell_type": "code",
   "execution_count": 62,
   "metadata": {},
   "outputs": [
    {
     "name": "stdout",
     "output_type": "stream",
     "text": [
      "14.994542918291165 4.154401626781096 68.14579712864128 12.705258326286472\n"
     ]
    }
   ],
   "source": [
    "total_var =  0.685694 + 0.189979 + 3.116278 + 0.581006\n",
    "first_var = (0.685694/total_var)*100\n",
    "second_var = (0.189979/total_var)*100\n",
    "third_var = (3.116278/total_var)*100\n",
    "fourth_var = (0.581006/total_var)*100\n",
    "\n",
    "print(first_var, second_var, third_var, fourth_var)"
   ]
  },
  {
   "cell_type": "markdown",
   "metadata": {},
   "source": [
    "The percentage of variance for the PCA components are vastly different from the percentage of variance for the original features. For example, the first feature has a variance of 14%, but the first PCA has a variance of 92%. My understanding of PCA is still a little blurry, but from what I have researched it seems that PCA helps creating new attributes out of old attributes but highlights the ones that show as much variation as possible. So, reduce data but still show equal or more information about the original data set. In this case, the first PCA was able to produce a variance of 92% which is more than any of the original features could produce."
   ]
  },
  {
   "cell_type": "markdown",
   "metadata": {},
   "source": [
    "### Problem 4 - Plot Projection of each feature onto the 1st PCA from #3"
   ]
  },
  {
   "cell_type": "code",
   "execution_count": 63,
   "metadata": {},
   "outputs": [
    {
     "data": {
      "text/html": [
       "<div>\n",
       "<style scoped>\n",
       "    .dataframe tbody tr th:only-of-type {\n",
       "        vertical-align: middle;\n",
       "    }\n",
       "\n",
       "    .dataframe tbody tr th {\n",
       "        vertical-align: top;\n",
       "    }\n",
       "\n",
       "    .dataframe thead th {\n",
       "        text-align: right;\n",
       "    }\n",
       "</style>\n",
       "<table border=\"1\" class=\"dataframe\">\n",
       "  <thead>\n",
       "    <tr style=\"text-align: right;\">\n",
       "      <th></th>\n",
       "      <th>PC1</th>\n",
       "      <th>PC2</th>\n",
       "      <th>PC3</th>\n",
       "    </tr>\n",
       "  </thead>\n",
       "  <tbody>\n",
       "    <tr>\n",
       "      <td>0</td>\n",
       "      <td>-2.684126</td>\n",
       "      <td>0.319397</td>\n",
       "      <td>-0.027915</td>\n",
       "    </tr>\n",
       "    <tr>\n",
       "      <td>1</td>\n",
       "      <td>-2.714142</td>\n",
       "      <td>-0.177001</td>\n",
       "      <td>-0.210464</td>\n",
       "    </tr>\n",
       "    <tr>\n",
       "      <td>2</td>\n",
       "      <td>-2.888991</td>\n",
       "      <td>-0.144949</td>\n",
       "      <td>0.017900</td>\n",
       "    </tr>\n",
       "    <tr>\n",
       "      <td>3</td>\n",
       "      <td>-2.745343</td>\n",
       "      <td>-0.318299</td>\n",
       "      <td>0.031559</td>\n",
       "    </tr>\n",
       "    <tr>\n",
       "      <td>4</td>\n",
       "      <td>-2.728717</td>\n",
       "      <td>0.326755</td>\n",
       "      <td>0.090079</td>\n",
       "    </tr>\n",
       "  </tbody>\n",
       "</table>\n",
       "</div>"
      ],
      "text/plain": [
       "        PC1       PC2       PC3\n",
       "0 -2.684126  0.319397 -0.027915\n",
       "1 -2.714142 -0.177001 -0.210464\n",
       "2 -2.888991 -0.144949  0.017900\n",
       "3 -2.745343 -0.318299  0.031559\n",
       "4 -2.728717  0.326755  0.090079"
      ]
     },
     "execution_count": 63,
     "metadata": {},
     "output_type": "execute_result"
    }
   ],
   "source": [
    "#Creating new pca\n",
    "pca1 = decomposition.PCA(n_components=3)\n",
    "pca_ds = pca1.fit_transform(iris_df)\n",
    "pca_df = pd.DataFrame(data=pca_ds, columns=['PC1', 'PC2', 'PC3'])\n",
    "pca_df.head()"
   ]
  },
  {
   "cell_type": "code",
   "execution_count": 68,
   "metadata": {},
   "outputs": [
    {
     "name": "stdout",
     "output_type": "stream",
     "text": [
      "Plotting the first PCA against the first feature (sepal length in cm):\n"
     ]
    },
    {
     "data": {
      "text/plain": [
       "<matplotlib.collections.PathCollection at 0x227bcb6e7c8>"
      ]
     },
     "execution_count": 68,
     "metadata": {},
     "output_type": "execute_result"
    },
    {
     "data": {
      "image/png": "[encoded data removed]",
      "text/plain": [
       "<Figure size 432x288 with 1 Axes>"
      ]
     },
     "metadata": {
      "needs_background": "light"
     },
     "output_type": "display_data"
    }
   ],
   "source": [
    "print(\"Plotting the PC1 against the first feature (sepal length in cm):\")\n",
    "plt.scatter(pca_df['PC1'], iris_df['sepal length (cm)'])"
   ]
  },
  {
   "cell_type": "code",
   "execution_count": 72,
   "metadata": {},
   "outputs": [
    {
     "name": "stdout",
     "output_type": "stream",
     "text": [
      "Plotting the PC1 against the second feature (sepal width in cm):\n"
     ]
    },
    {
     "data": {
      "text/plain": [
       "<matplotlib.collections.PathCollection at 0x227bca15b08>"
      ]
     },
     "execution_count": 72,
     "metadata": {},
     "output_type": "execute_result"
    },
    {
     "data": {
      "image/png": "[encoded data removed]",
      "text/plain": [
       "<Figure size 432x288 with 1 Axes>"
      ]
     },
     "metadata": {
      "needs_background": "light"
     },
     "output_type": "display_data"
    }
   ],
   "source": [
    "print(\"Plotting the PC1 against the second feature (sepal width in cm):\")\n",
    "plt.scatter(pca_df['PC1'], iris_df['sepal width (cm)'])"
   ]
  },
  {
   "cell_type": "code",
   "execution_count": null,
   "metadata": {},
   "outputs": [],
   "source": [
    "print(\"Plotting the PC1 against the third feature ():\")\n",
    "plt.scatter(pca_df['PC1'], iris_df['sepal width (cm)'])"
   ]
  }
 ],
 "metadata": {
  "kernelspec": {
   "display_name": "Python 3",
   "language": "python",
   "name": "python3"
  },
  "language_info": {
   "codemirror_mode": {
    "name": "ipython",
    "version": 3
   },
   "file_extension": ".py",
   "mimetype": "text/x-python",
   "name": "python",
   "nbconvert_exporter": "python",
   "pygments_lexer": "ipython3",
   "version": "3.7.4"
  }
 },
 "nbformat": 4,
 "nbformat_minor": 2
}
