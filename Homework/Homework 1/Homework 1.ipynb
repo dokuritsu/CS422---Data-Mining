{
 "cells": [
  {
   "cell_type": "markdown",
   "metadata": {},
   "source": [
    "# CS422 - Homework #1\n",
    "-----------------------------------------------------------------------------------------------------------------------------\n",
    "## By: Laura Pereda\n",
    "\n",
    "### Recitation Problems\n",
    "\n",
    "#### Chapter 1:\n",
    "##### Exercise 1 - Discuss whether each of the following are data mining tasks:\n",
    "* A. No, simply divinding customers based on a characteristic is not data mining. It's just querying.\n",
    "* B. No. Again, dividing customers based on a characteristic isn't data mining, but querying.\n",
    "* C. No, computing sales seems more like accounting than data mining.\n",
    "* D. No, this follows more towards querying in a specific order than data mining.\n",
    "* E. No, since the dice is fair data mining would not be useful here. Probability analysis or statistics seems more like it.\n",
    "* F. Yes, creating models based on previous data follows along the lines of a data mining task.\n",
    "* G. Yes, a model could be created to follow normal heart rate and use past info to determine abnormal heart rates.\n",
    "* H. Yes, creating models on past seismic waves associated with earthquakes.\n",
    "* I. No, this is just extraction, which is not enough to make this a data mining task.\n",
    "\n",
    "#### Chapter 2:\n",
    "##### Exercise 2 - Classifying attributes as binary, discrete, or continuous. In addition, classify as either qualitative (nominal or ordinal) or quantitative (interval or ratio). \n",
    "* A. Binary; Quantitative (Interval)\n",
    "* B. "
   ]
  }
 ],
 "metadata": {
  "kernelspec": {
   "display_name": "Python 3",
   "language": "python",
   "name": "python3"
  },
  "language_info": {
   "codemirror_mode": {
    "name": "ipython",
    "version": 3
   },
   "file_extension": ".py",
   "mimetype": "text/x-python",
   "name": "python",
   "nbconvert_exporter": "python",
   "pygments_lexer": "ipython3",
   "version": "3.7.1"
  }
 },
 "nbformat": 4,
 "nbformat_minor": 2
}
