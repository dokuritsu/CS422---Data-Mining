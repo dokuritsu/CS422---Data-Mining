{
 "cells": [
  {
   "cell_type": "markdown",
   "metadata": {},
   "source": [
    "# CS422 - Homework #1\n",
    "-----------------------------------------------------------------------------------------------------------------------------\n",
    "## By: Laura Pereda\n",
    "\n",
    "## Recitation Problems\n",
    "\n",
    "### Chapter 1:\n",
    "#### Exercise 1 - Discuss whether each of the following are data mining tasks:\n",
    "* A. No, simply divinding customers based on a characteristic is not data mining. It's just querying.\n",
    "* B. No. Again, dividing customers based on a characteristic isn't data mining, but querying.\n",
    "* C. No, computing sales seems more like accounting than data mining.\n",
    "* D. No, this follows more towards querying in a specific order than data mining.\n",
    "* E. No, since the dice is fair data mining would not be useful here. Probability analysis or statistics seems more like it.\n",
    "* F. Yes, creating models based on previous data follows along the lines of a data mining task.\n",
    "* G. Yes, a model could be created to follow normal heart rate and use past info to determine abnormal heart rates.\n",
    "* H. Yes, creating models on past seismic waves associated with earthquakes.\n",
    "* I. No, this is just extraction, which is not enough to make this a data mining task.\n",
    "\n",
    "### Chapter 2:\n",
    "#### Exercise 2 - Classifying attributes as binary, discrete, or continuous. In addition, classify as either qualitative (nominal or ordinal) or quantitative (interval or ratio). \n",
    "* A. Binary; Quantitative, Ordinal\n",
    "* B. Continuous; Quantitative, Ratio\n",
    "* C. Discrete; Qualitative, Ordinal Ex. You can't really cut up people's opinions into parts nor does a unit of measurement exist to measure them. Most simple responses would fall under \"good, better, best\". Just enough to have some order.\n",
    "* D. Continuous; Quantitative, Ratio\n",
    "* E. Discrete; Qualitative, Ordinal\n",
    "* F. Continuous; Quantitative, Interval Ex. The height above sea lvl is always changing but it can be measured. \n",
    "* G. Discrete; Quantitative, Ratio\n",
    "* H. Discrete; Qualitative, Nominal\n",
    "* I. Discrete; Qualitative, Ordinal\n",
    "* J. Discrete; Qualitative, Ordinal\n",
    "* K. Continuous; Quantitative, Interval Ex. Distance always changing, can be measure, not sure about dividing/multiplying\n",
    "* L. Discrete; Quantitative, Interval Ex. Density is within a measurement.\n",
    "* M. Discrete; Qualitative, Nominal\n",
    "\n",
    "#### Exercise 7 - Which of the following quantities is likely to show more temporal autocorrelation: daily rainfall or daily temperature? Why?\n",
    "    Tricky question, but seeing as I live within an area that temperature is categorized within four seasons, with each season having its own set of temperature changes, I would say daily temperature best represents temporal autocorrelation. Daily rainfall can be inconsistent throughout some seasons, sometimes not even showing at all. The location of the area also determines the amount of rainfall. Daily temperature just seems more reliable. \n",
    "    \n",
    "#### Exercise 15 - Given a set of _m_ objects that is divided into _k_ groups of size **m i**. If the goal is to obtain a sample of size n < m, what is the difference between the following two sampling schemes? Assume sampling with replacement\n",
    "    The first scheme represents **stratified sampling** where there are prespecified groups of objects and we take an equal number of objects from each group. There is a variation in where we take a number proportional to the size of that particular group. The second scheme represents a simple random sampling where each object has the same probability of being selected, especially since we assume the sampling is with replacement. Sampling only works if it is a good representation of the original data set. While simple random sampling with replacement makes it easier to analyze because the probability remains the same for each object, if these m objects are different types that it will fail to represent those types of objects that are less frequent. Stratified sampling is able to cover that. \n",
    "    \n",
    "#### Exercise 16 - Talks about the inverse document frequency transformation.\n",
    "* A. What is the effect of this transformation if a term occurs in one document? In every document?\n",
    "    \n",
    "    If the term appears in one document then it will have the maximum weight of 1, which would indicate the term uniquness. If the term appears in every document, it would have the lowest weight of 0, which would indicate its lack of uniqueness. \n",
    "    \n",
    "    \n",
    "* B. What might be the purpose of this transformation?\n",
    "    \n",
    "    In information retrieval, eliminating the \"noise\" as used in data mining is very important to create efficiency and improve the time to retrieve results. This transformation will help with eliminating stop words, i.e the, a, in, is, etc.\n",
    "    \n",
    "#### Exercise 17 - Apply square root transformation to a ratio attribute x to obtain a new attribute x*. As part of analysis, you identify an interval (a, b) in which x* has a linear relationship to another attribute y.\n",
    "* A. What is the corresponding interval (a, b) in terms of x?\n",
    "\n",
    "     (a^2, b^2 )\n",
    "     \n",
    "* B. Give an equation that relates y to x. \n",
    "\n",
    "    y = x^2\n",
    "    \n",
    "#### Exercise 18 - Compares and contrast some similarity and distance measures.\n",
    "* A. x = 0101010001 & y = 0100011000 \n",
    "\n",
    "    Hamming distance = 3\n",
    "    Jaccard similarity = f(11)/ (f(10) + f(10) + f(11)) = 2/5\n",
    "    \n",
    "* B. Which approach (Jaccard or Hamming distance) is similar to Simple Matching Coefficient and which is more simiar to cosine measure?\n",
    "\n",
    "    The Hamming distance is similar to the SMC. The SMC is defined as \"the number of matching attribute values\"/\"number of attributes\". It measure the similarity of objects while the hamming distance measures differences. Opposites but similar principles."
   ]
  },
  {
   "cell_type": "markdown",
   "metadata": {},
   "source": [
    "## Practicum Problems\n",
    "### Problem 1 - Titanic Database"
   ]
  },
  {
   "cell_type": "code",
   "execution_count": 133,
   "metadata": {},
   "outputs": [],
   "source": [
    "import numpy as np\n",
    "import pandas as pd\n",
    "\n",
    "from sklearn import datasets\n",
    "from sklearn.impute import SimpleImputer\n",
    "\n",
    "import seaborn as sns\n",
    "\n",
    "import matplotlib.pyplot as plt\n",
    "%matplotlib inline"
   ]
  },
  {
   "cell_type": "code",
   "execution_count": 70,
   "metadata": {},
   "outputs": [
    {
     "data": {
      "image/png": "[encoded data removed]",
      "text/plain": [
       "<Figure size 446.875x720 with 2 Axes>"
      ]
     },
     "metadata": {
      "needs_background": "light"
     },
     "output_type": "display_data"
    }
   ],
   "source": [
    "titanic_ds = sns.load_dataset(\"titanic\")\n",
    "bins = np.arange(0, 70, 5)\n",
    "g = sns.FacetGrid(titanic_ds, row=\"sex\", hue=\"survived\", margin_titles=True, height=5, aspect=1.1)\n",
    "g.map(sns.distplot, 'age', kde=False, bins=bins, hist_kws=dict(alpha=0.6))\n",
    "g.add_legend()\n",
    "plt.show()"
   ]
  },
  {
   "cell_type": "markdown",
   "metadata": {},
   "source": [
    "From above, the relationship between age and gender shows more women survived vs men. For a man to survive, he would had to have been below the age of 10. In this case, the results do make sense since within the evacuation procedure, women and children were prioritized before men. As unfortunate as that it, the result from this histogram follow along those lines. \n",
    "\n",
    "### Problem 2 - Auto MPG Dataset"
   ]
  },
  {
   "cell_type": "code",
   "execution_count": 125,
   "metadata": {},
   "outputs": [],
   "source": [
    "import os\n",
    "\n",
    "autompg_ds = pd.read_csv('auto-mpg.csv', na_values=[\"?\"])\n",
    "autompg_ds = autompg_ds.drop(columns='name')"
   ]
  },
  {
   "cell_type": "markdown",
   "metadata": {},
   "source": [
    "Demonstrate variance with missing values in horsepower:"
   ]
  },
  {
   "cell_type": "code",
   "execution_count": 105,
   "metadata": {},
   "outputs": [
    {
     "data": {
      "text/plain": [
       "mpg                 61.089611\n",
       "cylinders            2.893415\n",
       "displacement     10872.199152\n",
       "horsepower        1481.569393\n",
       "weight          717140.990526\n",
       "acceleration         7.604848\n",
       "model_year          13.672443\n",
       "origin               0.643292\n",
       "dtype: float64"
      ]
     },
     "execution_count": 105,
     "metadata": {},
     "output_type": "execute_result"
    }
   ],
   "source": [
    "autompg_ds.var()"
   ]
  },
  {
   "cell_type": "markdown",
   "metadata": {},
   "source": [
    "Demonstrate variance with mean replacing the missing values in horsepower:"
   ]
  },
  {
   "cell_type": "code",
   "execution_count": 118,
   "metadata": {},
   "outputs": [],
   "source": [
    "imp_mean = SimpleImputer(missing_values=np.nan, strategy='mean')\n",
    "imp_mean.fit(autompg_ds)\n",
    "autompg_ds[autompg_ds.columns] = imp_mean.fit_transform(autompg_ds)\n",
    "# autompg_ds['horsepower'].values.tolist() //Check to see if NaN was replaced"
   ]
  },
  {
   "cell_type": "code",
   "execution_count": 115,
   "metadata": {},
   "outputs": [
    {
     "data": {
      "text/plain": [
       "mpg                 61.089611\n",
       "cylinders            2.893415\n",
       "displacement     10872.199152\n",
       "horsepower        1459.177916\n",
       "weight          717140.990526\n",
       "acceleration         7.604848\n",
       "model_year          13.672443\n",
       "origin               0.643292\n",
       "dtype: float64"
      ]
     },
     "execution_count": 115,
     "metadata": {},
     "output_type": "execute_result"
    }
   ],
   "source": [
    "autompg_ds.var()"
   ]
  },
  {
   "cell_type": "markdown",
   "metadata": {},
   "source": [
    "Demonstrate variance with median replacing the missing values in horsepower:"
   ]
  },
  {
   "cell_type": "code",
   "execution_count": 121,
   "metadata": {},
   "outputs": [],
   "source": [
    "autompg_ds2 = pd.read_csv('auto-mpg.csv', na_values=[\"?\"])\n",
    "autompg_ds2 = autompg_ds2.drop(columns='name')\n",
    "imp_mean = SimpleImputer(missing_values=np.nan, strategy='median')\n",
    "imp_mean.fit(autompg_ds2)\n",
    "autompg_ds2[autompg_ds2.columns] = imp_mean.fit_transform(autompg_ds2)\n",
    "# autompg_ds2['horsepower'].values.tolist() //Check to see if NaN was replaced"
   ]
  },
  {
   "cell_type": "code",
   "execution_count": 122,
   "metadata": {},
   "outputs": [
    {
     "data": {
      "text/plain": [
       "mpg                 61.089611\n",
       "cylinders            2.893415\n",
       "displacement     10872.199152\n",
       "horsepower        1460.969052\n",
       "weight          717140.990526\n",
       "acceleration         7.604848\n",
       "model_year          13.672443\n",
       "origin               0.643292\n",
       "dtype: float64"
      ]
     },
     "execution_count": 122,
     "metadata": {},
     "output_type": "execute_result"
    }
   ],
   "source": [
    "autompg_ds2.var()"
   ]
  },
  {
   "cell_type": "markdown",
   "metadata": {},
   "source": [
    "Demonstrate variance with mode replacing the missing values in horsepower:"
   ]
  },
  {
   "cell_type": "code",
   "execution_count": 123,
   "metadata": {},
   "outputs": [],
   "source": [
    "autompg_ds3 = pd.read_csv('auto-mpg.csv', na_values=[\"?\"])\n",
    "autompg_ds3 = autompg_ds3.drop(columns='name')\n",
    "imp_mean = SimpleImputer(missing_values=np.nan, strategy='median')\n",
    "imp_mean.fit(autompg_ds3)\n",
    "autompg_ds2[autompg_ds3.columns] = imp_mean.fit_transform(autompg_ds3)\n",
    "# autompg_ds2['horsepower'].values.tolist() //Check to see if NaN was replaced"
   ]
  },
  {
   "cell_type": "code",
   "execution_count": 124,
   "metadata": {},
   "outputs": [
    {
     "data": {
      "text/plain": [
       "mpg                 61.089611\n",
       "cylinders            2.893415\n",
       "displacement     10872.199152\n",
       "horsepower        1481.569393\n",
       "weight          717140.990526\n",
       "acceleration         7.604848\n",
       "model_year          13.672443\n",
       "origin               0.643292\n",
       "dtype: float64"
      ]
     },
     "execution_count": 124,
     "metadata": {},
     "output_type": "execute_result"
    }
   ],
   "source": [
    "autompg_ds3.var()"
   ]
  },
  {
   "cell_type": "markdown",
   "metadata": {},
   "source": [
    "--------------------------------------------------------------------------------------\n",
    "* Original: 1481.569393\n",
    "* Mean:     1459.177916\n",
    "* Median:   1460.969052\n",
    "* Mode:     1481.569393\n",
    "\n",
    "The mean imputation resulted in the lowest variance. SThis is because we are replacing the missing values with the mean. As the data becomes to take on the average, the variability of the data will decrease to 0 and thus not capture the actual data. On the otherhand, it seems the mode was able to maintain the original variance of the data, thus I would utilize the mode more often to replace any missing data."
   ]
  },
  {
   "cell_type": "markdown",
   "metadata": {},
   "source": [
    "### Problem 3 - Iris Dataset"
   ]
  },
  {
   "cell_type": "code",
   "execution_count": 153,
   "metadata": {},
   "outputs": [
    {
     "data": {
      "text/plain": [
       "array([0.92461872, 0.05306648, 0.01710261, 0.00521218])"
      ]
     },
     "execution_count": 153,
     "metadata": {},
     "output_type": "execute_result"
    }
   ],
   "source": [
    "iris = datasets.load_iris()\n",
    "iris_df = pd.DataFrame(iris.data, columns=iris.feature_names)\n",
    "\n",
    "from sklearn import decomposition\n",
    "pca = decomposition.PCA(n_components=4)\n",
    "pca.fit(iris_df.iloc[:,0:4])\n",
    "pca.explained_variance_ratio_"
   ]
  },
  {
   "cell_type": "code",
   "execution_count": 144,
   "metadata": {},
   "outputs": [
    {
     "data": {
      "text/plain": [
       "sepal length (cm)    0.685694\n",
       "sepal width (cm)     0.189979\n",
       "petal length (cm)    3.116278\n",
       "petal width (cm)     0.581006\n",
       "dtype: float64"
      ]
     },
     "execution_count": 144,
     "metadata": {},
     "output_type": "execute_result"
    }
   ],
   "source": [
    "iris_df.var()"
   ]
  },
  {
   "cell_type": "markdown",
   "metadata": {},
   "source": [
    "Calculate the percentage of variance to the original features:"
   ]
  },
  {
   "cell_type": "code",
   "execution_count": 151,
   "metadata": {},
   "outputs": [
    {
     "name": "stdout",
     "output_type": "stream",
     "text": [
      "14.994542918291165\n"
     ]
    }
   ],
   "source": [
    "total_var =  0.685694 + 0.189979 + 3.116278 + 0.581006\n",
    "sepal_var = (0.685694/total_var)*100\n",
    "print(sepal_var)"
   ]
  },
  {
   "cell_type": "code",
   "execution_count": null,
   "metadata": {},
   "outputs": [],
   "source": []
  }
 ],
 "metadata": {
  "kernelspec": {
   "display_name": "Python 3",
   "language": "python",
   "name": "python3"
  },
  "language_info": {
   "codemirror_mode": {
    "name": "ipython",
    "version": 3
   },
   "file_extension": ".py",
   "mimetype": "text/x-python",
   "name": "python",
   "nbconvert_exporter": "python",
   "pygments_lexer": "ipython3",
   "version": "3.7.1"
  }
 },
 "nbformat": 4,
 "nbformat_minor": 2
}
