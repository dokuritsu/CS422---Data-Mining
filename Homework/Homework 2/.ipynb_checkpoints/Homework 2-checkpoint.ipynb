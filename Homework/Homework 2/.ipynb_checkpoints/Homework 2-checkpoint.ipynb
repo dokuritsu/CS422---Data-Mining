{
 "cells": [
  {
   "cell_type": "markdown",
   "metadata": {},
   "source": [
    "# CS422 - Homework 2 \n",
    "\n",
    "## By: Laura Pereda\n",
    "\n",
    "### Recitation Problems - Chapter 3\n",
    "\n",
    "#### Exercise #2 - Utilize Table 3.5 \n",
    "a. Compute the Gini index for overall collection of training examples\n",
    "    \n",
    "Gini = 1 - $ $$\\left(\\frac{5}{10}\\right)$$^2 $ - $ $$\\left(\\frac{5}{10}\\right)$$^2 $ = **0.5**\n",
    "\n",
    "b. Compute the Gini index for the __Customer ID__ attribute\n",
    "\n",
    "Since Customer ID is a unique attribute, the split would result in one node per leaf. This will lead to a Gini of 0 for each Customer ID, which means the overall would also be 0.\n",
    "\n",
    "c. Compute the Gini index for the __Gender__ attribute: __Male__ and __Female__\n",
    "\n",
    "Males - Total Males: 6 in Class 0 & 4 in Class 1. *Gini = 1 - $ $$\\left(\\frac{6}{10}\\right)$$^2 $ - $ $$\\left(\\frac{4}{10}\\right)$$^2 $ = 0.48*\n",
    "\n",
    "Female - Total Females: 4 in Class 0 & 6 in Class 1. *Gini = 1 - $ $$\\left(\\frac{4}{10}\\right)$$^2 $ - $ $$\\left(\\frac{6}{10}\\right)$$^2 $ = 0.48*\n",
    "\n",
    "**Weighted Gini = ($\\frac{10}{20}$) * (0.48) + ($\\frac{10}{20}$) * (0.48) = 0.48**\n",
    "\n",
    "d. Compute the Gini index for the __Car Type__ attribute. There are three car types: __Family__, __Sports__, and __Luxury__. \n",
    "\n",
    "Family: 1 in Class 0 & 3 in Class 1. *Gini = 1 - $ $$\\left(\\frac{1}{4}\\right)$$^2 $ - $ $$\\left(\\frac{3}{4}\\right)$$^2 $ = 0.375*\n",
    "\n",
    "Sports: 8 in Class 0 & 0 in Class 1. *Gini = 1 - $ $$\\left(\\frac{8}{8}\\right)$$^2 $ - 0 = 0*\n",
    "\n",
    "Luxury: 1 in Class 0 & 7 in Class 1. *Gini = 1 - $ $$\\left(\\frac{1}{8}\\right)$$^2 $ - $ $$\\left(\\frac{7}{8}\\right)$$^2 $ = 0.21875*\n",
    "\n",
    "**Weighted Gini = ($\\frac{4}{20}$) * (0.375) + ($\\frac{8}{20}$) * (0) + ($\\frac{8}{20}$) * (0.21875) = 0.1625**\n",
    "\n",
    "e. Compute the Gini index for the __Shirt Size__ attribute using multiway split. There are 4 types: **Small**, **Medium**, **Large**, and **Extra Large**.\n",
    "\n",
    "Small: 3 in Class 0 & 2 in Class 1. *Gini = 1 - $ $$\\left(\\frac{3}{5}\\right)$$^2 $ - $ $$\\left(\\frac{2}{5}\\right)$$^2 $ = 0.48*\n",
    "\n",
    "Medium: 3 in Class 0 & 4 in Class 1. *Gini = 1 - $ $$\\left(\\frac{3}{7}\\right)$$^2 $ - $ $$\\left(\\frac{4}{7}\\right)$$^2 $ = 0.49*\n",
    "\n",
    "Large: 2 in Class 0 & 2 in Class 1. *Gini = 1 - $ $$\\left(\\frac{2}{4}\\right)$$^2 $ - $ $$\\left(\\frac{2}{4}\\right)$$^2 $ = 0.5*\n",
    "\n",
    "XLarge: 2 in Class 0 & 2 in Class 1. *Gini = 1 - $ $$\\left(\\frac{2}{4}\\right)$$^2 $ - $ $$\\left(\\frac{2}{4}\\right)$$^2 $ = 0.5*\n",
    "\n",
    "**Weighted Gini = ($\\frac{5}{20}$) * (0.48) + (($\\frac{7}{20}$) * (0.49) + ($\\frac{4}{20}$) * (0.5) + ($\\frac{4}{20}$) * (0.5) = 0.4915**\n",
    "\n",
    "f. Which attribute is better?\n",
    "\n",
    "The best attribute is __Car Type__ because it produced the lowest weighted avg Gini index.\n",
    "\n",
    "g. Why shouldn't the __Customer ID__ be used as attribute test condition even though it computed the lowest Gini?\n",
    "\n",
    "Impurity alone is not enough to determine a good attribute test condition. The __Customer ID__ attribute is a unique attribute for each instance. Even if we train using the current __Customer IDs__, these will be insufficient when it comes to testing against new ones. Thus, __Customer ID__ is not a good attribute test condition.\n",
    "\n",
    "#### Exercise 3 - Use Table 3.6 for Binary Classification\n",
    "\n",
    "a. What is the entropy for collection of training examples with respect to class attribute?\n",
    "\n",
    "Entropy = -($\\frac{4}{9}$)log($\\frac{4}{9}$) - ($\\frac{5}{9}$)log($\\frac{5}{9}$) = **0.9911**\n",
    "\n",
    "b. Information gains of $a_1$ & $a_2$ relative to these training examples?\n",
    "\n",
    "| $a_1$ |  + |   | - |   |\n",
    "|---|---|---|---|---|\n",
    "| T  | 3  |   | 1  |   |\n",
    "|   |   |   |   |   |\n",
    "| F  | 1  |   | 4  |   |\n",
    "\n",
    "E ($a_1$) = ($\\frac{4}{9}$) [-($\\frac{3}{4}$)log($\\frac{3}{4}$) - ($\\frac{1}{4}$)log($\\frac{1}{4}$)] + ($\\frac{5}{9}$) [-($\\frac{1}{5}$)log($\\frac{1}{5}$) - ($\\frac{4}{5}$)log($\\frac{1}{5}$)] = 0.7616\n",
    "\n",
    "Thus, the information gain for $a_1$ is 0.9911 - 0.7616 = **0.2294**\n",
    "\n",
    "| $a_2$ |  + |   | - |   |\n",
    "|---|---|---|---|---|\n",
    "| T  | 2  |   | 3  |   |\n",
    "|   |   |   |   |   |\n",
    "| F  | 2  |   | 2  |   |\n",
    "\n",
    "E ($a_2$) = ($\\frac{5}{9}$) [-($\\frac{2}{5}$)log($\\frac{2}{5}$) - ($\\frac{3}{5}$)log($\\frac{3}{5}$)] + ($\\frac{4}{9}$) [-($\\frac{2}{4}$)log($\\frac{2}{4}$) - ($\\frac{2}{4}$)log($\\frac{2}{4}$)] = *0.9839*\n",
    "\n",
    "Thus, the information gain for $a_2$ is 0.9911 - 0.9839 = **0.0072**\n",
    "\n",
    "c. For $a_3$, compute the information gain for every possible split. Since it's a continous variable, the **median** will be used to determine the split point.\n",
    "\n",
    "| Split  | 2.0  |   | 3.5  |   | 4.5  |   | 5.5  |   | 6.5  |   | 7.5  |  |\n",
    "|---|---|---|---|---|---|---|---|---|---|---|---|---|\n",
    "|   |  <= | >  | <=  | >  | <=  | >  | <=  | >  | <=  | >  | <=  | >  |\n",
    "| +  | 1  | 3  | 1  | 3  | 2  | 2  | 2  | 2  | 3  | 1  | 4  | 0  |\n",
    "| _  | 0  | 5  | 1  | 4  | 1  | 4  | 3  | 2  | 3  | 2  | 4  | 1  |\n",
    "\n",
    "E(<= 2.0) = -($\\frac{1}{1}$) * log($\\frac{1}{1}$) - (0) * log(0) = 0\n",
    "\n",
    "E( > 2.0) = -($\\frac{3}{8}$) * log($\\frac{3}{8}$) - ($\\frac{5}{8}$) * log($\\frac{5}{8}$) = 0.9544\n",
    "\n",
    "Avg = [($\\frac{1}{9}$) * (0) + ($\\frac{8}{9}$) * 0.9544)] = 0.8483\n",
    "\n",
    "Gain: 0.9911 - 0.8483 = **0.1427**\n",
    "\n",
    "--------------------------------------\n",
    "\n",
    "E(<= 3.5) = -($\\frac{1}{2}$) * log($\\frac{1}{2}$) - ($\\frac{1}{2}$) * log($\\frac{1}{2}$) = 1\n",
    "\n",
    "E( > 3.5) = -($\\frac{3}{7}$) * log($\\frac{3}{7}$) - ($\\frac{4}{7}$) * log($\\frac{4}{7}$) = 0.9852\n",
    "\n",
    "Avg = [($\\frac{2}{9}$) * (1) + ($\\frac{7}{9}$) * (0.9852)] = 0.9884\n",
    "\n",
    "Gain = 0.9911 - 0.9884 = **0.0026**\n",
    "\n",
    "-------------------------------------\n",
    "E(<= 4.5) = -($\\frac{2}{3}$) * log($\\frac{2}{3}$) - ($\\frac{1}{3}$) * log($\\frac{1}{3}$) = 0.91829\n",
    "\n",
    "E( > 4.5) = -($\\frac{2}{6}$) * log($\\frac{2}{6}$) - ($\\frac{4}{6}$) * log($\\frac{4}{6}$) = 0.91829\n",
    "\n",
    "Avg = [($\\frac{3}{9}$) * (0.91829) + ($\\frac{6}{9}$) * (0.91829)] = 0.91829\n",
    "\n",
    "Gain = 0.9911 - 0.91829 = **0.07281**\n",
    "\n",
    "------------------------------------\n",
    "E(<= 5.5) = -($\\frac{2}{5}$) * log($\\frac{2}{5}$) - ($\\frac{3}{5}$) * log($\\frac{3}{5}$) = 0.97095\n",
    "\n",
    "E( > 5.5) = -($\\frac{2}{4}$) * log($\\frac{2}{4}$) - ($\\frac{2}{4}$) * log($\\frac{2}{4}$) = 1\n",
    "\n",
    "Avg = [($\\frac{5}{9}$) * (0.97095) + ($\\frac{4}{9}$) * (1)] = 0.98386\n",
    "\n",
    "Gain = 0.9911 - 0.98386 = **0.00723**\n",
    "\n",
    "--------------------------------------\n",
    "E(<= 6.5) = -($\\frac{3}{6}$) * log($\\frac{3}{6}$) - ($\\frac{3}{6}$) * log($\\frac{3}{6}$) = 1\n",
    "\n",
    "E( > 6.5) = -($\\frac{1}{3}$) * log($\\frac{1}{3}$) - ($\\frac{2}{3}$) * log($\\frac{2}{3}$) = 0.91829\n",
    "\n",
    "Avg = [($\\frac{6}{9}$) * (1) + ($\\frac{3}{9}$) * (0.91829)] = 0.97276\n",
    "\n",
    "Gain = 0.9911 - 0.97276 = **0.01833**\n",
    "\n",
    "--------------------------------------\n",
    "E(<= 7.5) = -($\\frac{4}{8}$) * log($\\frac{4}{8}$) - ($\\frac{4}{8}$) * log($\\frac{4}{8}$) = 1\n",
    "\n",
    "E( > 7.5) = -(0) * log(0) - ($\\frac{1}{1}$) * log($\\frac{1}{1}$) = 0\n",
    "\n",
    "Avg = [($\\frac{8}{9}$) * (1) + ($\\frac{1}{9}$) * (0)] = 0.8888\n",
    "\n",
    "Gain = 0.9911 - 0.8888 = **0.10221**\n",
    "\n",
    "d. What is the best split among all 3?\n",
    "\n",
    "$a_1$ has the highest information gain of **0.2294**, so it is the best split.\n",
    "\n",
    "e. What is the best split among $a_1$ and $a_2$ according to the classification error rate?\n",
    "\n",
    "For $a_1$: ($\\frac{2}{9}$)\n",
    "\n",
    "For $a_2$: ($\\frac{4}{9}$)\n",
    "\n",
    "Thus, since $a_1$ has the smaller error rate it is the best split.\n",
    "\n",
    "f. What is the best split among $a_1$ and $a_2$ according to the Gini index?\n",
    "\n",
    "Gini for $a_1$ = ($\\frac{4}{9}$)[1 - $ $$\\left(\\frac{3}{4}\\right)$$^2 $ - $ $$\\left(\\frac{1}{4}\\right)$$^2 $] + ($\\frac{5}{9}$)[1 - $ $$\\left(\\frac{1}{5}\\right)$$^2 $ - $ $$\\left(\\frac{4}{5}\\right)$$^2 $] = 0.3444\n",
    "\n",
    "Gini for $a_2$ = ($\\frac{5}{9}$)[1 - $ $$\\left(\\frac{2}{5}\\right)$$^2 $ - $ $$\\left(\\frac{3}{5}\\right)$$^2 $] + ($\\frac{4}{9}$)[1 - $ $$\\left(\\frac{2}{4}\\right)$$^2 $ - $ $$\\left(\\frac{2}{4}\\right)$$^2 $] = 0.4889\n",
    "\n",
    "Since $a_1$ has the smaller gini index, it produces the better split.\n",
    "\n",
    "#### Exercise 5 - Use the Table on pg. 187 for a binary class problem\n",
    "\n",
    "a. Calculate the information gain when splitting on A and B. Which attribute would the decision tree induction choose?\n",
    "\n",
    "Entropy (before) = -($\\frac{4}{10}$) * log($\\frac{4}{10}$) - ($\\frac{6}{10}$) * log($\\frac{6}{10}$) = 0.9710\n",
    "\n",
    "|  |  A = T |   | A = F |   |\n",
    "|---|---|---|---|---|\n",
    "| +  | 4 |   | 0  |   |\n",
    "|   |   |   |   |   |\n",
    "| -  | 3  |   | 3  |   |\n",
    "\n",
    "Entropy (A = T) = -($\\frac{4}{7}$) * log($\\frac{4}{7}$) - ($\\frac{3}{7}$) * log($\\frac{3}{7}$) = 0.9852\n",
    "\n",
    "Entropy (A = F) = -(0) * log(0) - ($\\frac{3}{3}$) * log($\\frac{3}{3}$) = 0\n",
    "\n",
    "Avg = [($\\frac{7}{10}$) * (0.9852) + ($\\frac{3}{10}$) * (0)] = 0.68964\n",
    "\n",
    "Gain = 0.9710 - 0.68964 = 0.28136\n",
    "\n",
    "------------------------------------------\n",
    "|  |  B = T |   | B = F |   |\n",
    "|---|---|---|---|---|\n",
    "| +  | 3 |   | 1  |   |\n",
    "|   |   |   |   |   |\n",
    "| -  | 1  |   | 5  |   |\n",
    "\n",
    "Entropy (B = T) = -($\\frac{3}{4}$) * log($\\frac{3}{4}$) - ($\\frac{1}{4}$) * log($\\frac{1}{4}$) = 0.8113\n",
    "\n",
    "Entropy (B = F) = -($\\frac{1}{6}$) * log($\\frac{1}{6}$) - ($\\frac{5}{6}$) * log($\\frac{5}{6}$) = 0.6500\n",
    "\n",
    "Avg = [($\\frac{4}{10}$) * (0.8113) + ($\\frac{6}{10}$) * (0.6500)] = 0.7145\n",
    "\n",
    "Gain = 0.9710 - 0.7145 = 0.2564\n",
    "\n",
    "The attribute A will be chosen to split the node since it has a higher gain.\n",
    "\n",
    "b. Calculate the Gini index when splitting on A & B. Which attribute will be chosen?\n",
    "\n",
    "Gini (Before) = 1 - $ $$\\left(\\frac{4}{10}\\right)$$^2 $ - $ $$\\left(\\frac{6}{10}\\right)$$^2 $ = 0.48\n",
    "\n",
    "Gini (A = T) = 1 - $ $$\\left(\\frac{4}{7}\\right)$$^2 $ - $ $$\\left(\\frac{3}{7}\\right)$$^2 $ = 0.4898\n",
    "\n",
    "Gini (A = F) = 1 - 0 - $ $$\\left(\\frac{3}{3}\\right)$$^2 $ = 0\n",
    "\n",
    "Avg. = [($\\frac{7}{10}$) * (0.4898) + ($\\frac{3}{10}$) * (0)] = 0.3428\n",
    "\n",
    "Gain = 0.48 - 0.3428 = 0.1371\n",
    "\n",
    "Gini (B = T) = 1 - $ $$\\left(\\frac{3}{4}\\right)$$^2 $ - $ $$\\left(\\frac{1}{4}\\right)$$^2 $ = 0.3750\n",
    "\n",
    "Gini (B = F) = 1 - $ $$\\left(\\frac{1}{6}\\right)$$^2 $ - $ $$\\left(\\frac{5}{6}\\right)$$^2 $ = 0.2778\n",
    "\n",
    "Avg. = [($\\frac{4}{10}$) * (0.3750) + ($\\frac{6}{10}$) * (0.2778)] = 0.31668\n",
    "\n",
    "Gain = 0.48 - 0.31668 = 0.16332\n",
    "\n",
    "Since B has a higher info. gain, it will be chosen to split the node.\n",
    "\n",
    "c. Do entropy and gini favor different attributes?\n",
    "\n",
    "Althought we split on A & B for both entropy and gini, the results showed that entropy favored A and gini favored B. This indicates that they do not behave in the same manner despite having similar range. So yes, I would say they both favor different attributes.\n",
    "\n",
    "#### Exercise 6 - Splitting on the parent node P into 2 child nodes, $C_1$ and $C_2$, using attribute test condition. Use table below:\n",
    "\n",
    "|  |  P | C1  | C2 |   |\n",
    "|---|---|---|---|---|\n",
    "| Class 0 | 7 | 3  | 4  |   |\n",
    "|   |   |   |   |   |\n",
    "| Class 1 | 3  | 0  | 3  |   |\n",
    "\n",
    "a. Calculate the Gini index and misclassification error rate for parent P. \n",
    "\n",
    "Gini = 1 - $ $$\\left(\\frac{7}{10}\\right)$$^2 $ - $ $$\\left(\\frac{3}{10}\\right)$$^2 $ = **0.42**\n",
    "\n",
    "Error Rate = 1 - max[$\\frac{7}{10}$, $\\frac{3}{10}$] = **0.3**\n",
    "\n",
    "b. Calcuate the weighted Gini index of child nodes. Would you consider the attribute test if Gini is used as impurity measure?\n",
    "\n",
    "Gini (C1) = 1 - $ $$\\left(\\frac{3}{3}\\right)$$^2 $ - 0 = 0\n",
    "\n",
    "Gini (C2) = 1 - $ $$\\left(\\frac{4}{7}\\right)$$^2 $ - $ $$\\left(\\frac{3}{7}\\right)$$^2 $ = 0.5\n",
    "\n",
    "Weighted = ($\\frac{3}{10}$)(0) + ($\\frac{7}{10}$)(0.5) = **0.35**\n",
    "\n",
    "In the case that if the gini attributed is low indicates less impurity, then I would agree to utilize it. \n",
    "\n",
    "c. Calculate the weighted misclassification rate of the child node. Would you consider the attribute test if misclassification rate is used as impurity measure?\n",
    "\n",
    "Error rate (C1) = 1 - max($\\frac{3}{3}$, $\\frac{0}{3}$) = 0\n",
    "\n",
    "Error rate (C2) = 1 - max($\\frac{4}{7}$, $\\frac{3}{7}$) = 0.4285\n",
    "\n",
    "Weighted = ($\\frac{3}{10}$)(0) + ($\\frac{7}{10}$)(0.4285) = **0.3**\n",
    "\n",
    "In this case, I would be a little concerned since I had just calculated the impurity measure using the Gini index, which was slightly bigger. As much as I would like the impurity measure to be smaller, if the Gini index indicates the impurity is higher, then it is more accurate. Thus, I would choose the Gini index over misclassification error rate.\n",
    "\n",
    "#### Exercise 7 - Creating decision tree through greedy alg.\n",
    "\n",
    "a. Compute 2 lvl decision tree using greedy approach. Using the classification error rate as the criterion for splitting. What is the overall error rate of the induced tree?\n",
    "\n",
    "Split on Lvl 1 - Compute classification error on __X__, __Y__, and __Z__\n",
    "\n",
    "| X |  $C_1$ |   | $C_2$ |   |\n",
    "|---|---|---|---|---|\n",
    "| 0  | 60  |   | 60  |   |\n",
    "|   |   |   |   |   |\n",
    "| 1  | 40  |   | 40  |   |\n",
    "\n",
    "Error Rate (X/C1) = 1 - max($\\frac{60}{100}$, $\\frac{40}{100}$) = 0.4\n",
    "\n",
    "Error Rate (X/C2) = 1 - max($\\frac{60}{100}$, $\\frac{40}{100}$) = 0.4\n",
    "\n",
    "Weighted = ($\\frac{100}{200}$) * (0.4) + ($\\frac{100}{200}$) * (0.4) = 0.4\n",
    "\n",
    "| Y |  $C_1$ |   | $C_2$ |   |\n",
    "|---|---|---|---|---|\n",
    "| 0  | 40   |   | 60  |   |\n",
    "|   |   |   |   |   |\n",
    "| 1  | 60  |   | 40  |   |\n",
    "\n",
    "Error Rate (Y/C1) = 1- max($\\frac{40}{100}$, $\\frac{60}{100}$) = 0.4\n",
    "\n",
    "Error Rate (Y/C2) = 1- max($\\frac{60}{100}$, $\\frac{40}{100}$) = 0.4\n",
    "\n",
    "Weighted = ($\\frac{100}{200}$) * (0.4) + ($\\frac{100}{200}$) * (0.4) = 0.4\n",
    "\n",
    "| Z |  $C_1$ |   | $C_2$ |   |\n",
    "|---|---|---|---|---|\n",
    "| 0  | 30   |   | 70  |   |\n",
    "|   |   |   |   |   |\n",
    "| 1  | 70  |   | 30  |   |\n",
    "\n"
   ]
  },
  {
   "cell_type": "markdown",
   "metadata": {},
   "source": [
    "### Practicum Problems\n",
    "\n",
    "#### Problem 1 - Iris Dataset"
   ]
  },
  {
   "cell_type": "code",
   "execution_count": 2,
   "metadata": {},
   "outputs": [],
   "source": [
    "import numpy as np\n",
    "import pandas as pd\n",
    "\n",
    "from sklearn.datasets import load_breast_cancer\n",
    "from sklearn.datasets import load_iris\n",
    "\n",
    "from sklearn import tree\n",
    "from sklearn.tree import DecisionTreeClassifier\n",
    "from sklearn.tree import export_graphviz\n",
    "from sklearn.impute import SimpleImputer\n",
    "\n",
    "from sklearn import model_selection\n",
    "from sklearn import metrics\n",
    "\n",
    "import matplotlib.pyplot as plt\n",
    "\n",
    "%matplotlib inline"
   ]
  },
  {
   "cell_type": "code",
   "execution_count": 117,
   "metadata": {},
   "outputs": [
    {
     "name": "stdout",
     "output_type": "stream",
     "text": [
      "(120, 4) (120,)\n",
      "(30, 4) (30,)\n"
     ]
    }
   ],
   "source": [
    "#Load iris dataset\n",
    "iris = load_iris()\n",
    "\n",
    "#Create dataframe\n",
    "iris_df = pd.DataFrame(iris.data, columns=iris.feature_names)\n",
    "\n",
    "#Set up data as samples and features\n",
    "X = iris.data\n",
    "y = iris.target\n",
    "\n",
    "#Using the train_test_split function to make a split\n",
    "#Note: the \"test_size = 0.2\" indicates the percentage of the data that should be held for testing. In this case, 80/20\n",
    "X_train, X_test, y_train, y_test = model_selection.train_test_split(X, y, test_size=0.2)\n",
    "\n",
    "#For self, total = 150. X_train = 120/150 = 0.8 & X_test = 30/150 = 0.2\n",
    "print(X_train.shape, y_train.shape)\n",
    "print(X_test.shape, y_test.shape)"
   ]
  },
  {
   "cell_type": "code",
   "execution_count": 3,
   "metadata": {},
   "outputs": [
    {
     "data": {
      "text/plain": [
       "[Text(167.4, 163.07999999999998, 'X[3] <= 0.8\\ngini = 0.666\\nsamples = 120\\nvalue = [42, 39, 39]'),\n",
       " Text(83.7, 54.360000000000014, 'gini = 0.0\\nsamples = 42\\nvalue = [42, 0, 0]'),\n",
       " Text(251.10000000000002, 54.360000000000014, 'gini = 0.5\\nsamples = 78\\nvalue = [0, 39, 39]')]"
      ]
     },
     "execution_count": 3,
     "metadata": {},
     "output_type": "execute_result"
    },
    {
     "data": {
      "image/png": "[encoded data removed]",
      "text/plain": [
       "<Figure size 432x288 with 1 Axes>"
      ]
     },
     "metadata": {
      "needs_background": "light"
     },
     "output_type": "display_data"
    }
   ],
   "source": [
    "#Defining and fitting a decision tree instance\n",
    "#DecisionTreeClassifier parameters are: min of 2 instances in leaves, no splits of subsets below 5, and a maximal tree depth\n",
    "#from 1 to 5\n",
    "classifier = tree.DecisionTreeClassifier(max_depth=1, min_samples_split=5, min_samples_leaf=2)\n",
    "classifier = classifier.fit(X_train, y_train)\n",
    "\n",
    "#Setting up expectations and prediction\n",
    "expected = y_test\n",
    "predicted = classifier.predict(X_test)\n",
    "\n",
    "#Show a visual representation of the tree\n",
    "tree.plot_tree(classifier)"
   ]
  },
  {
   "cell_type": "code",
   "execution_count": 4,
   "metadata": {},
   "outputs": [
    {
     "name": "stdout",
     "output_type": "stream",
     "text": [
      "Expected:  [1 0 1 1 0 1 1 0 1 0 1 0 1 2 2 2 2 2 1 2 0 0 2 1 2 2 1 2 2 0]\n",
      "Predicted: [1 0 1 1 0 1 1 0 1 0 1 0 1 1 1 1 1 1 1 1 0 0 1 1 1 1 1 1 1 0]\n",
      "              precision    recall  f1-score   support\n",
      "\n",
      "           0       1.00      1.00      1.00         8\n",
      "           1       0.50      1.00      0.67        11\n",
      "           2       0.00      0.00      0.00        11\n",
      "\n",
      "    accuracy                           0.63        30\n",
      "   macro avg       0.50      0.67      0.56        30\n",
      "weighted avg       0.45      0.63      0.51        30\n",
      "\n"
     ]
    },
    {
     "name": "stderr",
     "output_type": "stream",
     "text": [
      "C:\\Users\\dokur\\Anaconda3\\lib\\site-packages\\sklearn\\metrics\\classification.py:1437: UndefinedMetricWarning: Precision and F-score are ill-defined and being set to 0.0 in labels with no predicted samples.\n",
      "  'precision', 'predicted', average, warn_for)\n"
     ]
    }
   ],
   "source": [
    "#Look at main classification metrics for tree of depth 1\n",
    "print(\"Expected: \", expected)\n",
    "print(\"Predicted:\", predicted)\n",
    "print(metrics.classification_report(expected, predicted))"
   ]
  },
  {
   "cell_type": "code",
   "execution_count": 5,
   "metadata": {},
   "outputs": [
    {
     "data": {
      "text/plain": [
       "[Text(133.92000000000002, 181.2, 'X[2] <= 2.45\\ngini = 0.666\\nsamples = 120\\nvalue = [42, 39, 39]'),\n",
       " Text(66.96000000000001, 108.72, 'gini = 0.0\\nsamples = 42\\nvalue = [42, 0, 0]'),\n",
       " Text(200.88000000000002, 108.72, 'X[3] <= 1.75\\ngini = 0.5\\nsamples = 78\\nvalue = [0, 39, 39]'),\n",
       " Text(133.92000000000002, 36.23999999999998, 'gini = 0.206\\nsamples = 43\\nvalue = [0, 38, 5]'),\n",
       " Text(267.84000000000003, 36.23999999999998, 'gini = 0.056\\nsamples = 35\\nvalue = [0, 1, 34]')]"
      ]
     },
     "execution_count": 5,
     "metadata": {},
     "output_type": "execute_result"
    },
    {
     "data": {
      "image/png": "[encoded data removed]",
      "text/plain": [
       "<Figure size 432x288 with 1 Axes>"
      ]
     },
     "metadata": {
      "needs_background": "light"
     },
     "output_type": "display_data"
    }
   ],
   "source": [
    "#For tree depth of 2\n",
    "classifier = tree.DecisionTreeClassifier(max_depth=2, min_samples_split=5, min_samples_leaf=2)\n",
    "classifier = classifier.fit(X_train, y_train)\n",
    "\n",
    "expected = y_test\n",
    "predicted = classifier.predict(X_test)\n",
    "\n",
    "tree.plot_tree(classifier)"
   ]
  },
  {
   "cell_type": "code",
   "execution_count": 6,
   "metadata": {},
   "outputs": [
    {
     "name": "stdout",
     "output_type": "stream",
     "text": [
      "Expected:  [1 0 1 1 0 1 1 0 1 0 1 0 1 2 2 2 2 2 1 2 0 0 2 1 2 2 1 2 2 0]\n",
      "Predicted: [1 0 1 1 0 1 1 0 1 0 1 0 1 2 2 2 2 2 1 2 0 0 2 1 2 2 1 2 2 0]\n",
      "              precision    recall  f1-score   support\n",
      "\n",
      "           0       1.00      1.00      1.00         8\n",
      "           1       1.00      1.00      1.00        11\n",
      "           2       1.00      1.00      1.00        11\n",
      "\n",
      "    accuracy                           1.00        30\n",
      "   macro avg       1.00      1.00      1.00        30\n",
      "weighted avg       1.00      1.00      1.00        30\n",
      "\n"
     ]
    }
   ],
   "source": [
    "#Look at main classification metrics for tree of depth 2\n",
    "print(\"Expected: \", expected)\n",
    "print(\"Predicted:\", predicted)\n",
    "print(metrics.classification_report(expected, predicted))"
   ]
  },
  {
   "cell_type": "code",
   "execution_count": 7,
   "metadata": {},
   "outputs": [
    {
     "data": {
      "text/plain": [
       "[Text(125.55000000000001, 190.26, 'X[2] <= 2.45\\ngini = 0.666\\nsamples = 120\\nvalue = [42, 39, 39]'),\n",
       " Text(83.7, 135.9, 'gini = 0.0\\nsamples = 42\\nvalue = [42, 0, 0]'),\n",
       " Text(167.4, 135.9, 'X[3] <= 1.75\\ngini = 0.5\\nsamples = 78\\nvalue = [0, 39, 39]'),\n",
       " Text(83.7, 81.53999999999999, 'X[2] <= 4.95\\ngini = 0.206\\nsamples = 43\\nvalue = [0, 38, 5]'),\n",
       " Text(41.85, 27.180000000000007, 'gini = 0.051\\nsamples = 38\\nvalue = [0, 37, 1]'),\n",
       " Text(125.55000000000001, 27.180000000000007, 'gini = 0.32\\nsamples = 5\\nvalue = [0, 1, 4]'),\n",
       " Text(251.10000000000002, 81.53999999999999, 'X[2] <= 4.85\\ngini = 0.056\\nsamples = 35\\nvalue = [0, 1, 34]'),\n",
       " Text(209.25, 27.180000000000007, 'gini = 0.444\\nsamples = 3\\nvalue = [0, 1, 2]'),\n",
       " Text(292.95, 27.180000000000007, 'gini = 0.0\\nsamples = 32\\nvalue = [0, 0, 32]')]"
      ]
     },
     "execution_count": 7,
     "metadata": {},
     "output_type": "execute_result"
    },
    {
     "data": {
      "image/png": "[encoded data removed]",
      "text/plain": [
       "<Figure size 432x288 with 1 Axes>"
      ]
     },
     "metadata": {
      "needs_background": "light"
     },
     "output_type": "display_data"
    }
   ],
   "source": [
    "#For tree depth of 3\n",
    "classifier = tree.DecisionTreeClassifier(max_depth=3, min_samples_split=5, min_samples_leaf=2)\n",
    "classifier = classifier.fit(X_train, y_train)\n",
    "\n",
    "expected = y_test\n",
    "predicted = classifier.predict(X_test)\n",
    "\n",
    "tree.plot_tree(classifier)"
   ]
  },
  {
   "cell_type": "code",
   "execution_count": 8,
   "metadata": {},
   "outputs": [
    {
     "name": "stdout",
     "output_type": "stream",
     "text": [
      "Expected:  [1 0 1 1 0 1 1 0 1 0 1 0 1 2 2 2 2 2 1 2 0 0 2 1 2 2 1 2 2 0]\n",
      "Predicted: [1 0 1 1 0 1 1 0 1 0 1 0 1 2 2 2 2 2 1 2 0 0 2 1 2 2 2 2 2 0]\n",
      "              precision    recall  f1-score   support\n",
      "\n",
      "           0       1.00      1.00      1.00         8\n",
      "           1       1.00      0.91      0.95        11\n",
      "           2       0.92      1.00      0.96        11\n",
      "\n",
      "    accuracy                           0.97        30\n",
      "   macro avg       0.97      0.97      0.97        30\n",
      "weighted avg       0.97      0.97      0.97        30\n",
      "\n"
     ]
    }
   ],
   "source": [
    "#Look at main classification metrics for tree of depth 3\n",
    "print(\"Expected: \", expected)\n",
    "print(\"Predicted:\", predicted)\n",
    "print(metrics.classification_report(expected, predicted))"
   ]
  },
  {
   "cell_type": "code",
   "execution_count": 9,
   "metadata": {},
   "outputs": [
    {
     "data": {
      "text/plain": [
       "[Text(167.4, 195.696, 'X[2] <= 2.45\\ngini = 0.666\\nsamples = 120\\nvalue = [42, 39, 39]'),\n",
       " Text(136.96363636363637, 152.208, 'gini = 0.0\\nsamples = 42\\nvalue = [42, 0, 0]'),\n",
       " Text(197.83636363636364, 152.208, 'X[3] <= 1.75\\ngini = 0.5\\nsamples = 78\\nvalue = [0, 39, 39]'),\n",
       " Text(121.74545454545455, 108.72, 'X[2] <= 4.95\\ngini = 0.206\\nsamples = 43\\nvalue = [0, 38, 5]'),\n",
       " Text(60.872727272727275, 65.232, 'X[0] <= 4.95\\ngini = 0.051\\nsamples = 38\\nvalue = [0, 37, 1]'),\n",
       " Text(30.436363636363637, 21.744, 'gini = 0.5\\nsamples = 2\\nvalue = [0, 1, 1]'),\n",
       " Text(91.30909090909091, 21.744, 'gini = 0.0\\nsamples = 36\\nvalue = [0, 36, 0]'),\n",
       " Text(182.61818181818182, 65.232, 'X[1] <= 2.9\\ngini = 0.32\\nsamples = 5\\nvalue = [0, 1, 4]'),\n",
       " Text(152.1818181818182, 21.744, 'gini = 0.0\\nsamples = 3\\nvalue = [0, 0, 3]'),\n",
       " Text(213.05454545454546, 21.744, 'gini = 0.5\\nsamples = 2\\nvalue = [0, 1, 1]'),\n",
       " Text(273.92727272727274, 108.72, 'X[2] <= 4.85\\ngini = 0.056\\nsamples = 35\\nvalue = [0, 1, 34]'),\n",
       " Text(243.4909090909091, 65.232, 'gini = 0.444\\nsamples = 3\\nvalue = [0, 1, 2]'),\n",
       " Text(304.3636363636364, 65.232, 'gini = 0.0\\nsamples = 32\\nvalue = [0, 0, 32]')]"
      ]
     },
     "execution_count": 9,
     "metadata": {},
     "output_type": "execute_result"
    },
    {
     "data": {
      "image/png": "[encoded data removed]",
      "text/plain": [
       "<Figure size 432x288 with 1 Axes>"
      ]
     },
     "metadata": {
      "needs_background": "light"
     },
     "output_type": "display_data"
    }
   ],
   "source": [
    "#For tree depth of 4\n",
    "classifier = tree.DecisionTreeClassifier(max_depth=4, min_samples_split=5, min_samples_leaf=2)\n",
    "classifier = classifier.fit(X_train, y_train)\n",
    "\n",
    "expected = y_test\n",
    "predicted = classifier.predict(X_test)\n",
    "\n",
    "tree.plot_tree(classifier)"
   ]
  },
  {
   "cell_type": "code",
   "execution_count": 10,
   "metadata": {},
   "outputs": [
    {
     "name": "stdout",
     "output_type": "stream",
     "text": [
      "Expected:  [1 0 1 1 0 1 1 0 1 0 1 0 1 2 2 2 2 2 1 2 0 0 2 1 2 2 1 2 2 0]\n",
      "Predicted: [1 0 1 1 0 1 1 0 1 0 1 0 1 2 2 2 2 2 1 2 0 0 2 1 2 2 2 2 2 0]\n",
      "              precision    recall  f1-score   support\n",
      "\n",
      "           0       1.00      1.00      1.00         8\n",
      "           1       1.00      0.91      0.95        11\n",
      "           2       0.92      1.00      0.96        11\n",
      "\n",
      "    accuracy                           0.97        30\n",
      "   macro avg       0.97      0.97      0.97        30\n",
      "weighted avg       0.97      0.97      0.97        30\n",
      "\n"
     ]
    }
   ],
   "source": [
    "#Look at main classification metrics for tree of depth 4\n",
    "print(\"Expected: \", expected)\n",
    "print(\"Predicted:\", predicted)\n",
    "print(metrics.classification_report(expected, predicted))"
   ]
  },
  {
   "cell_type": "code",
   "execution_count": 11,
   "metadata": {},
   "outputs": [
    {
     "data": {
      "text/plain": [
       "[Text(167.4, 195.696, 'X[3] <= 0.8\\ngini = 0.666\\nsamples = 120\\nvalue = [42, 39, 39]'),\n",
       " Text(136.96363636363637, 152.208, 'gini = 0.0\\nsamples = 42\\nvalue = [42, 0, 0]'),\n",
       " Text(197.83636363636364, 152.208, 'X[3] <= 1.75\\ngini = 0.5\\nsamples = 78\\nvalue = [0, 39, 39]'),\n",
       " Text(121.74545454545455, 108.72, 'X[2] <= 4.95\\ngini = 0.206\\nsamples = 43\\nvalue = [0, 38, 5]'),\n",
       " Text(60.872727272727275, 65.232, 'X[0] <= 4.95\\ngini = 0.051\\nsamples = 38\\nvalue = [0, 37, 1]'),\n",
       " Text(30.436363636363637, 21.744, 'gini = 0.5\\nsamples = 2\\nvalue = [0, 1, 1]'),\n",
       " Text(91.30909090909091, 21.744, 'gini = 0.0\\nsamples = 36\\nvalue = [0, 36, 0]'),\n",
       " Text(182.61818181818182, 65.232, 'X[0] <= 6.5\\ngini = 0.32\\nsamples = 5\\nvalue = [0, 1, 4]'),\n",
       " Text(152.1818181818182, 21.744, 'gini = 0.0\\nsamples = 3\\nvalue = [0, 0, 3]'),\n",
       " Text(213.05454545454546, 21.744, 'gini = 0.5\\nsamples = 2\\nvalue = [0, 1, 1]'),\n",
       " Text(273.92727272727274, 108.72, 'X[2] <= 4.85\\ngini = 0.056\\nsamples = 35\\nvalue = [0, 1, 34]'),\n",
       " Text(243.4909090909091, 65.232, 'gini = 0.444\\nsamples = 3\\nvalue = [0, 1, 2]'),\n",
       " Text(304.3636363636364, 65.232, 'gini = 0.0\\nsamples = 32\\nvalue = [0, 0, 32]')]"
      ]
     },
     "execution_count": 11,
     "metadata": {},
     "output_type": "execute_result"
    },
    {
     "data": {
      "image/png": "[encoded data removed]",
      "text/plain": [
       "<Figure size 432x288 with 1 Axes>"
      ]
     },
     "metadata": {
      "needs_background": "light"
     },
     "output_type": "display_data"
    }
   ],
   "source": [
    "#For tree depth of 5\n",
    "classifier = tree.DecisionTreeClassifier(max_depth=5, min_samples_split=5, min_samples_leaf=2)\n",
    "classifier = classifier.fit(X_train, y_train)\n",
    "\n",
    "expected = y_test\n",
    "predicted = classifier.predict(X_test)\n",
    "\n",
    "tree.plot_tree(classifier)"
   ]
  },
  {
   "cell_type": "code",
   "execution_count": 12,
   "metadata": {},
   "outputs": [
    {
     "name": "stdout",
     "output_type": "stream",
     "text": [
      "Expected:  [1 0 1 1 0 1 1 0 1 0 1 0 1 2 2 2 2 2 1 2 0 0 2 1 2 2 1 2 2 0]\n",
      "Predicted: [1 0 1 1 0 1 1 0 1 0 1 0 1 2 2 2 2 2 1 2 0 0 2 1 2 2 2 2 2 0]\n",
      "              precision    recall  f1-score   support\n",
      "\n",
      "           0       1.00      1.00      1.00         8\n",
      "           1       1.00      0.91      0.95        11\n",
      "           2       0.92      1.00      0.96        11\n",
      "\n",
      "    accuracy                           0.97        30\n",
      "   macro avg       0.97      0.97      0.97        30\n",
      "weighted avg       0.97      0.97      0.97        30\n",
      "\n"
     ]
    }
   ],
   "source": [
    "#Look at main classification metrics for tree of depth 5\n",
    "print(\"Expected: \", expected)\n",
    "print(\"Predicted:\", predicted)\n",
    "print(metrics.classification_report(expected, predicted))"
   ]
  },
  {
   "cell_type": "markdown",
   "metadata": {},
   "source": [
    "Based on the above, the tree with the max-depth of 2 indicated the highest recall for all three classses (0:1, 1:1, 2:1). After max-depth of 3, the recall becomes constant among all three classes (0:1, 1:91, 2:1) meaning that the tree is a pure as it can possibly be based on the training set. That indicates that at max-depth of 2, the recall is the highest because it has not done enough splits within the tree to calculate the proper recall. Precision, on the other hand, is the lowest at max-depth of 1 because it has not predicted one of the classes (class 2). F1-score is based on both precision and recall, and since recall and precision were highest in the tre of max-depth of 2, it is also the highest in the tree of max-depth of 2.\n",
    "\n",
    "From my understanding, macro-average will compute the metric independently for each class and then take the average (hence treating all classes equally), whereas a micro-average will aggregate the contributions of all classes to compute the average metric. Weighted macro-average is similar to macro-average, but each metric is given an additional weight to further balance it out."
   ]
  },
  {
   "cell_type": "markdown",
   "metadata": {},
   "source": [
    "#### Problem 2 - Breast Cancer Dataset (Discrete)"
   ]
  },
  {
   "cell_type": "code",
   "execution_count": 91,
   "metadata": {},
   "outputs": [
    {
     "data": {
      "text/html": [
       "<div>\n",
       "<style scoped>\n",
       "    .dataframe tbody tr th:only-of-type {\n",
       "        vertical-align: middle;\n",
       "    }\n",
       "\n",
       "    .dataframe tbody tr th {\n",
       "        vertical-align: top;\n",
       "    }\n",
       "\n",
       "    .dataframe thead th {\n",
       "        text-align: right;\n",
       "    }\n",
       "</style>\n",
       "<table border=\"1\" class=\"dataframe\">\n",
       "  <thead>\n",
       "    <tr style=\"text-align: right;\">\n",
       "      <th></th>\n",
       "      <th>Clump Thickness</th>\n",
       "      <th>Uniformity of Cell Size</th>\n",
       "      <th>Uniformity of Cell Shape</th>\n",
       "      <th>Marginal Adhesion</th>\n",
       "      <th>Simple Epithelial Cell Size</th>\n",
       "      <th>Bare Nuclei</th>\n",
       "      <th>Bland Chromatin</th>\n",
       "      <th>Normal Nucleoli</th>\n",
       "      <th>Mitoses</th>\n",
       "      <th>Class (2 for benign, 4 for malignant)</th>\n",
       "    </tr>\n",
       "  </thead>\n",
       "  <tbody>\n",
       "    <tr>\n",
       "      <td>0</td>\n",
       "      <td>5.0</td>\n",
       "      <td>1.0</td>\n",
       "      <td>1.0</td>\n",
       "      <td>1.0</td>\n",
       "      <td>2.0</td>\n",
       "      <td>1.0</td>\n",
       "      <td>3.0</td>\n",
       "      <td>1.0</td>\n",
       "      <td>1.0</td>\n",
       "      <td>2.0</td>\n",
       "    </tr>\n",
       "    <tr>\n",
       "      <td>1</td>\n",
       "      <td>5.0</td>\n",
       "      <td>4.0</td>\n",
       "      <td>4.0</td>\n",
       "      <td>5.0</td>\n",
       "      <td>7.0</td>\n",
       "      <td>10.0</td>\n",
       "      <td>3.0</td>\n",
       "      <td>2.0</td>\n",
       "      <td>1.0</td>\n",
       "      <td>2.0</td>\n",
       "    </tr>\n",
       "    <tr>\n",
       "      <td>2</td>\n",
       "      <td>3.0</td>\n",
       "      <td>1.0</td>\n",
       "      <td>1.0</td>\n",
       "      <td>1.0</td>\n",
       "      <td>2.0</td>\n",
       "      <td>2.0</td>\n",
       "      <td>3.0</td>\n",
       "      <td>1.0</td>\n",
       "      <td>1.0</td>\n",
       "      <td>2.0</td>\n",
       "    </tr>\n",
       "    <tr>\n",
       "      <td>3</td>\n",
       "      <td>6.0</td>\n",
       "      <td>8.0</td>\n",
       "      <td>8.0</td>\n",
       "      <td>1.0</td>\n",
       "      <td>3.0</td>\n",
       "      <td>4.0</td>\n",
       "      <td>3.0</td>\n",
       "      <td>7.0</td>\n",
       "      <td>1.0</td>\n",
       "      <td>2.0</td>\n",
       "    </tr>\n",
       "    <tr>\n",
       "      <td>4</td>\n",
       "      <td>4.0</td>\n",
       "      <td>1.0</td>\n",
       "      <td>1.0</td>\n",
       "      <td>3.0</td>\n",
       "      <td>2.0</td>\n",
       "      <td>1.0</td>\n",
       "      <td>3.0</td>\n",
       "      <td>1.0</td>\n",
       "      <td>1.0</td>\n",
       "      <td>2.0</td>\n",
       "    </tr>\n",
       "    <tr>\n",
       "      <td>...</td>\n",
       "      <td>...</td>\n",
       "      <td>...</td>\n",
       "      <td>...</td>\n",
       "      <td>...</td>\n",
       "      <td>...</td>\n",
       "      <td>...</td>\n",
       "      <td>...</td>\n",
       "      <td>...</td>\n",
       "      <td>...</td>\n",
       "      <td>...</td>\n",
       "    </tr>\n",
       "    <tr>\n",
       "      <td>694</td>\n",
       "      <td>3.0</td>\n",
       "      <td>1.0</td>\n",
       "      <td>1.0</td>\n",
       "      <td>1.0</td>\n",
       "      <td>3.0</td>\n",
       "      <td>2.0</td>\n",
       "      <td>1.0</td>\n",
       "      <td>1.0</td>\n",
       "      <td>1.0</td>\n",
       "      <td>2.0</td>\n",
       "    </tr>\n",
       "    <tr>\n",
       "      <td>695</td>\n",
       "      <td>2.0</td>\n",
       "      <td>1.0</td>\n",
       "      <td>1.0</td>\n",
       "      <td>1.0</td>\n",
       "      <td>2.0</td>\n",
       "      <td>1.0</td>\n",
       "      <td>1.0</td>\n",
       "      <td>1.0</td>\n",
       "      <td>1.0</td>\n",
       "      <td>2.0</td>\n",
       "    </tr>\n",
       "    <tr>\n",
       "      <td>696</td>\n",
       "      <td>5.0</td>\n",
       "      <td>10.0</td>\n",
       "      <td>10.0</td>\n",
       "      <td>3.0</td>\n",
       "      <td>7.0</td>\n",
       "      <td>3.0</td>\n",
       "      <td>8.0</td>\n",
       "      <td>10.0</td>\n",
       "      <td>2.0</td>\n",
       "      <td>4.0</td>\n",
       "    </tr>\n",
       "    <tr>\n",
       "      <td>697</td>\n",
       "      <td>4.0</td>\n",
       "      <td>8.0</td>\n",
       "      <td>6.0</td>\n",
       "      <td>4.0</td>\n",
       "      <td>3.0</td>\n",
       "      <td>4.0</td>\n",
       "      <td>10.0</td>\n",
       "      <td>6.0</td>\n",
       "      <td>1.0</td>\n",
       "      <td>4.0</td>\n",
       "    </tr>\n",
       "    <tr>\n",
       "      <td>698</td>\n",
       "      <td>4.0</td>\n",
       "      <td>8.0</td>\n",
       "      <td>8.0</td>\n",
       "      <td>5.0</td>\n",
       "      <td>4.0</td>\n",
       "      <td>5.0</td>\n",
       "      <td>10.0</td>\n",
       "      <td>4.0</td>\n",
       "      <td>1.0</td>\n",
       "      <td>4.0</td>\n",
       "    </tr>\n",
       "  </tbody>\n",
       "</table>\n",
       "<p>699 rows × 10 columns</p>\n",
       "</div>"
      ],
      "text/plain": [
       "     Clump Thickness  Uniformity of Cell Size  Uniformity of Cell Shape  \\\n",
       "0                5.0                      1.0                       1.0   \n",
       "1                5.0                      4.0                       4.0   \n",
       "2                3.0                      1.0                       1.0   \n",
       "3                6.0                      8.0                       8.0   \n",
       "4                4.0                      1.0                       1.0   \n",
       "..               ...                      ...                       ...   \n",
       "694              3.0                      1.0                       1.0   \n",
       "695              2.0                      1.0                       1.0   \n",
       "696              5.0                     10.0                      10.0   \n",
       "697              4.0                      8.0                       6.0   \n",
       "698              4.0                      8.0                       8.0   \n",
       "\n",
       "     Marginal Adhesion  Simple Epithelial Cell Size  Bare Nuclei  \\\n",
       "0                  1.0                          2.0          1.0   \n",
       "1                  5.0                          7.0         10.0   \n",
       "2                  1.0                          2.0          2.0   \n",
       "3                  1.0                          3.0          4.0   \n",
       "4                  3.0                          2.0          1.0   \n",
       "..                 ...                          ...          ...   \n",
       "694                1.0                          3.0          2.0   \n",
       "695                1.0                          2.0          1.0   \n",
       "696                3.0                          7.0          3.0   \n",
       "697                4.0                          3.0          4.0   \n",
       "698                5.0                          4.0          5.0   \n",
       "\n",
       "     Bland Chromatin  Normal Nucleoli  Mitoses  \\\n",
       "0                3.0              1.0      1.0   \n",
       "1                3.0              2.0      1.0   \n",
       "2                3.0              1.0      1.0   \n",
       "3                3.0              7.0      1.0   \n",
       "4                3.0              1.0      1.0   \n",
       "..               ...              ...      ...   \n",
       "694              1.0              1.0      1.0   \n",
       "695              1.0              1.0      1.0   \n",
       "696              8.0             10.0      2.0   \n",
       "697             10.0              6.0      1.0   \n",
       "698             10.0              4.0      1.0   \n",
       "\n",
       "     Class (2 for benign, 4 for malignant)  \n",
       "0                                      2.0  \n",
       "1                                      2.0  \n",
       "2                                      2.0  \n",
       "3                                      2.0  \n",
       "4                                      2.0  \n",
       "..                                     ...  \n",
       "694                                    2.0  \n",
       "695                                    2.0  \n",
       "696                                    4.0  \n",
       "697                                    4.0  \n",
       "698                                    4.0  \n",
       "\n",
       "[699 rows x 10 columns]"
      ]
     },
     "execution_count": 91,
     "metadata": {},
     "output_type": "execute_result"
    }
   ],
   "source": [
    "#Create dataframe\n",
    "bc_df = pd.read_csv(\"breast-cancer-wisconsin.data\", names=['ID','Clump Thickness','Uniformity of Cell Size','Uniformity of Cell Shape','Marginal Adhesion','Simple Epithelial Cell Size','Bare Nuclei','Bland Chromatin','Normal Nucleoli','Mitoses','Class (2 for benign, 4 for malignant)'], na_values=[\"?\"])\n",
    "bc_df = bc_df.drop(columns=['ID'])\n",
    "imputer = SimpleImputer(missing_values=np.nan, strategy='most_frequent')\n",
    "imputer.fit(bc_df)\n",
    "bc_df[bc_df.columns] = imputer.fit_transform(bc_df)\n",
    "bc_df"
   ]
  },
  {
   "cell_type": "code",
   "execution_count": 5,
   "metadata": {},
   "outputs": [
    {
     "name": "stdout",
     "output_type": "stream",
     "text": [
      "(559, 9) (559,)\n",
      "(140, 9) (140,)\n"
     ]
    }
   ],
   "source": [
    "#Set-up data as samples and features\n",
    "X = bc_df.drop('Class (2 for benign, 4 for malignant)', axis = 1)\n",
    "y = bc_df['Class (2 for benign, 4 for malignant)']\n",
    "\n",
    "#Using the train_test_split function to make a split\n",
    "X_train, X_test, y_train, y_test = model_selection.train_test_split(X, y, test_size=0.2)\n",
    "\n",
    "#For self, total = 569. X_train = 455/569 = 0.8 & X_test = 114/569 = 0.2\n",
    "print(X_train.shape, y_train.shape)\n",
    "print(X_test.shape, y_test.shape)"
   ]
  },
  {
   "cell_type": "code",
   "execution_count": 132,
   "metadata": {},
   "outputs": [
    {
     "data": {
      "text/plain": [
       "[Text(167.4, 181.2, 'X[1] <= 3.5\\ngini = 0.446\\nsamples = 559\\nvalue = [371, 188]'),\n",
       " Text(83.7, 108.72, 'X[5] <= 5.5\\ngini = 0.138\\nsamples = 390\\nvalue = [361, 29]'),\n",
       " Text(41.85, 36.23999999999998, 'gini = 0.058\\nsamples = 370\\nvalue = [359, 11]'),\n",
       " Text(125.55000000000001, 36.23999999999998, 'gini = 0.18\\nsamples = 20\\nvalue = [2, 18]'),\n",
       " Text(251.10000000000002, 108.72, 'X[5] <= 1.5\\ngini = 0.111\\nsamples = 169\\nvalue = [10, 159]'),\n",
       " Text(209.25, 36.23999999999998, 'gini = 0.43\\nsamples = 16\\nvalue = [5, 11]'),\n",
       " Text(292.95, 36.23999999999998, 'gini = 0.063\\nsamples = 153\\nvalue = [5, 148]')]"
      ]
     },
     "execution_count": 132,
     "metadata": {},
     "output_type": "execute_result"
    },
    {
     "data": {
      "image/png": "[encoded data removed]",
      "text/plain": [
       "<Figure size 432x288 with 1 Axes>"
      ]
     },
     "metadata": {
      "needs_background": "light"
     },
     "output_type": "display_data"
    }
   ],
   "source": [
    "#Defining and fitting a decision tree instance\n",
    "classifier = tree.DecisionTreeClassifier(max_depth=2, min_samples_leaf=2, min_samples_split=5)\n",
    "classifier = classifier.fit(X_train, y_train)\n",
    "\n",
    "#Setting up expectations and prediction\n",
    "expected = y_test\n",
    "predicted = classifier.predict(X_test)\n",
    "\n",
    "#Show a visual representation of the tree\n",
    "tree.plot_tree(classifier)"
   ]
  },
  {
   "cell_type": "code",
   "execution_count": 133,
   "metadata": {},
   "outputs": [],
   "source": [
    "#Create functinos for the following\n",
    "def gini(p):\n",
    "   return (p)*(1 - (p)) + (1 - p)*(1 - (1-p))\n",
    "\n",
    "def entropy(p):\n",
    "   return - p*np.log2(p) - (1 - p)*np.log2((1 - p))\n",
    "\n",
    "def classification_error(p):\n",
    "   return 1 - np.max([p, 1 - p])"
   ]
  },
  {
   "cell_type": "code",
   "execution_count": 137,
   "metadata": {},
   "outputs": [
    {
     "data": {
      "text/plain": [
       "0.42184964845862627"
      ]
     },
     "execution_count": 137,
     "metadata": {},
     "output_type": "execute_result"
    }
   ],
   "source": [
    "#Calculate gini before split\n",
    "gini(169/559)"
   ]
  },
  {
   "cell_type": "code",
   "execution_count": 138,
   "metadata": {},
   "outputs": [
    {
     "data": {
      "text/plain": [
       "0.3023255813953488"
      ]
     },
     "execution_count": 138,
     "metadata": {},
     "output_type": "execute_result"
    }
   ],
   "source": [
    "#Calculate classification error\n",
    "classification_error(169/559)"
   ]
  },
  {
   "cell_type": "code",
   "execution_count": 139,
   "metadata": {},
   "outputs": [
    {
     "data": {
      "text/plain": [
       "0.8841151220488479"
      ]
     },
     "execution_count": 139,
     "metadata": {},
     "output_type": "execute_result"
    }
   ],
   "source": [
    "#Calculate entropy before split\n",
    "entropy(169/559)"
   ]
  },
  {
   "cell_type": "code",
   "execution_count": 140,
   "metadata": {},
   "outputs": [
    {
     "data": {
      "text/plain": [
       "0.3402100266069391"
      ]
     },
     "execution_count": 140,
     "metadata": {},
     "output_type": "execute_result"
    }
   ],
   "source": [
    "#Calculate avg entropy after split\n",
    "(169/559)*entropy(153/169) + (390/559)*entropy(370/390)"
   ]
  },
  {
   "cell_type": "code",
   "execution_count": 141,
   "metadata": {},
   "outputs": [
    {
     "data": {
      "text/plain": [
       "0.5439050954419088"
      ]
     },
     "execution_count": 141,
     "metadata": {},
     "output_type": "execute_result"
    }
   ],
   "source": [
    "#Calculate information gain\n",
    "0.8841151220488479 - 0.3402100266069391"
   ]
  },
  {
   "cell_type": "code",
   "execution_count": 142,
   "metadata": {},
   "outputs": [
    {
     "data": {
      "text/plain": [
       "'mean texture'"
      ]
     },
     "execution_count": 142,
     "metadata": {},
     "output_type": "execute_result"
    }
   ],
   "source": [
    "#Findout the feature of the first split\n",
    "breastCancer.feature_names[1]"
   ]
  },
  {
   "cell_type": "markdown",
   "metadata": {},
   "source": [
    "From the above calculations, we can determine that:\n",
    "\n",
    "* The gini of the first split is: 0.422\n",
    "\n",
    "* The misclassification error of the first split is: 0.302\n",
    "\n",
    "* The entropy of the first split is: 0.884\n",
    "\n",
    "* The information gain of the first split is: 0.544\n",
    "\n",
    "The feature that was selected for the first split is 'mean texture', which was determine throughout the training phase as the most valuable."
   ]
  },
  {
   "cell_type": "markdown",
   "metadata": {},
   "source": [
    "#### Problem 3 - Breast Cancer Dataset (Continous)"
   ]
  },
  {
   "cell_type": "code",
   "execution_count": 103,
   "metadata": {
    "scrolled": true
   },
   "outputs": [
    {
     "data": {
      "text/html": [
       "<div>\n",
       "<style scoped>\n",
       "    .dataframe tbody tr th:only-of-type {\n",
       "        vertical-align: middle;\n",
       "    }\n",
       "\n",
       "    .dataframe tbody tr th {\n",
       "        vertical-align: top;\n",
       "    }\n",
       "\n",
       "    .dataframe thead th {\n",
       "        text-align: right;\n",
       "    }\n",
       "</style>\n",
       "<table border=\"1\" class=\"dataframe\">\n",
       "  <thead>\n",
       "    <tr style=\"text-align: right;\">\n",
       "      <th></th>\n",
       "      <th>mean radius</th>\n",
       "      <th>mean texture</th>\n",
       "      <th>mean perimeter</th>\n",
       "      <th>mean area</th>\n",
       "      <th>mean smoothness</th>\n",
       "      <th>mean compactness</th>\n",
       "      <th>mean concavity</th>\n",
       "      <th>mean concave points</th>\n",
       "      <th>mean symmetry</th>\n",
       "      <th>mean fractal dimension</th>\n",
       "      <th>...</th>\n",
       "      <th>worst radius</th>\n",
       "      <th>worst texture</th>\n",
       "      <th>worst perimeter</th>\n",
       "      <th>worst area</th>\n",
       "      <th>worst smoothness</th>\n",
       "      <th>worst compactness</th>\n",
       "      <th>worst concavity</th>\n",
       "      <th>worst concave points</th>\n",
       "      <th>worst symmetry</th>\n",
       "      <th>worst fractal dimension</th>\n",
       "    </tr>\n",
       "  </thead>\n",
       "  <tbody>\n",
       "    <tr>\n",
       "      <td>0</td>\n",
       "      <td>17.99</td>\n",
       "      <td>10.38</td>\n",
       "      <td>122.80</td>\n",
       "      <td>1001.0</td>\n",
       "      <td>0.11840</td>\n",
       "      <td>0.27760</td>\n",
       "      <td>0.30010</td>\n",
       "      <td>0.14710</td>\n",
       "      <td>0.2419</td>\n",
       "      <td>0.07871</td>\n",
       "      <td>...</td>\n",
       "      <td>25.380</td>\n",
       "      <td>17.33</td>\n",
       "      <td>184.60</td>\n",
       "      <td>2019.0</td>\n",
       "      <td>0.16220</td>\n",
       "      <td>0.66560</td>\n",
       "      <td>0.7119</td>\n",
       "      <td>0.2654</td>\n",
       "      <td>0.4601</td>\n",
       "      <td>0.11890</td>\n",
       "    </tr>\n",
       "    <tr>\n",
       "      <td>1</td>\n",
       "      <td>20.57</td>\n",
       "      <td>17.77</td>\n",
       "      <td>132.90</td>\n",
       "      <td>1326.0</td>\n",
       "      <td>0.08474</td>\n",
       "      <td>0.07864</td>\n",
       "      <td>0.08690</td>\n",
       "      <td>0.07017</td>\n",
       "      <td>0.1812</td>\n",
       "      <td>0.05667</td>\n",
       "      <td>...</td>\n",
       "      <td>24.990</td>\n",
       "      <td>23.41</td>\n",
       "      <td>158.80</td>\n",
       "      <td>1956.0</td>\n",
       "      <td>0.12380</td>\n",
       "      <td>0.18660</td>\n",
       "      <td>0.2416</td>\n",
       "      <td>0.1860</td>\n",
       "      <td>0.2750</td>\n",
       "      <td>0.08902</td>\n",
       "    </tr>\n",
       "    <tr>\n",
       "      <td>2</td>\n",
       "      <td>19.69</td>\n",
       "      <td>21.25</td>\n",
       "      <td>130.00</td>\n",
       "      <td>1203.0</td>\n",
       "      <td>0.10960</td>\n",
       "      <td>0.15990</td>\n",
       "      <td>0.19740</td>\n",
       "      <td>0.12790</td>\n",
       "      <td>0.2069</td>\n",
       "      <td>0.05999</td>\n",
       "      <td>...</td>\n",
       "      <td>23.570</td>\n",
       "      <td>25.53</td>\n",
       "      <td>152.50</td>\n",
       "      <td>1709.0</td>\n",
       "      <td>0.14440</td>\n",
       "      <td>0.42450</td>\n",
       "      <td>0.4504</td>\n",
       "      <td>0.2430</td>\n",
       "      <td>0.3613</td>\n",
       "      <td>0.08758</td>\n",
       "    </tr>\n",
       "    <tr>\n",
       "      <td>3</td>\n",
       "      <td>11.42</td>\n",
       "      <td>20.38</td>\n",
       "      <td>77.58</td>\n",
       "      <td>386.1</td>\n",
       "      <td>0.14250</td>\n",
       "      <td>0.28390</td>\n",
       "      <td>0.24140</td>\n",
       "      <td>0.10520</td>\n",
       "      <td>0.2597</td>\n",
       "      <td>0.09744</td>\n",
       "      <td>...</td>\n",
       "      <td>14.910</td>\n",
       "      <td>26.50</td>\n",
       "      <td>98.87</td>\n",
       "      <td>567.7</td>\n",
       "      <td>0.20980</td>\n",
       "      <td>0.86630</td>\n",
       "      <td>0.6869</td>\n",
       "      <td>0.2575</td>\n",
       "      <td>0.6638</td>\n",
       "      <td>0.17300</td>\n",
       "    </tr>\n",
       "    <tr>\n",
       "      <td>4</td>\n",
       "      <td>20.29</td>\n",
       "      <td>14.34</td>\n",
       "      <td>135.10</td>\n",
       "      <td>1297.0</td>\n",
       "      <td>0.10030</td>\n",
       "      <td>0.13280</td>\n",
       "      <td>0.19800</td>\n",
       "      <td>0.10430</td>\n",
       "      <td>0.1809</td>\n",
       "      <td>0.05883</td>\n",
       "      <td>...</td>\n",
       "      <td>22.540</td>\n",
       "      <td>16.67</td>\n",
       "      <td>152.20</td>\n",
       "      <td>1575.0</td>\n",
       "      <td>0.13740</td>\n",
       "      <td>0.20500</td>\n",
       "      <td>0.4000</td>\n",
       "      <td>0.1625</td>\n",
       "      <td>0.2364</td>\n",
       "      <td>0.07678</td>\n",
       "    </tr>\n",
       "    <tr>\n",
       "      <td>...</td>\n",
       "      <td>...</td>\n",
       "      <td>...</td>\n",
       "      <td>...</td>\n",
       "      <td>...</td>\n",
       "      <td>...</td>\n",
       "      <td>...</td>\n",
       "      <td>...</td>\n",
       "      <td>...</td>\n",
       "      <td>...</td>\n",
       "      <td>...</td>\n",
       "      <td>...</td>\n",
       "      <td>...</td>\n",
       "      <td>...</td>\n",
       "      <td>...</td>\n",
       "      <td>...</td>\n",
       "      <td>...</td>\n",
       "      <td>...</td>\n",
       "      <td>...</td>\n",
       "      <td>...</td>\n",
       "      <td>...</td>\n",
       "      <td>...</td>\n",
       "    </tr>\n",
       "    <tr>\n",
       "      <td>564</td>\n",
       "      <td>21.56</td>\n",
       "      <td>22.39</td>\n",
       "      <td>142.00</td>\n",
       "      <td>1479.0</td>\n",
       "      <td>0.11100</td>\n",
       "      <td>0.11590</td>\n",
       "      <td>0.24390</td>\n",
       "      <td>0.13890</td>\n",
       "      <td>0.1726</td>\n",
       "      <td>0.05623</td>\n",
       "      <td>...</td>\n",
       "      <td>25.450</td>\n",
       "      <td>26.40</td>\n",
       "      <td>166.10</td>\n",
       "      <td>2027.0</td>\n",
       "      <td>0.14100</td>\n",
       "      <td>0.21130</td>\n",
       "      <td>0.4107</td>\n",
       "      <td>0.2216</td>\n",
       "      <td>0.2060</td>\n",
       "      <td>0.07115</td>\n",
       "    </tr>\n",
       "    <tr>\n",
       "      <td>565</td>\n",
       "      <td>20.13</td>\n",
       "      <td>28.25</td>\n",
       "      <td>131.20</td>\n",
       "      <td>1261.0</td>\n",
       "      <td>0.09780</td>\n",
       "      <td>0.10340</td>\n",
       "      <td>0.14400</td>\n",
       "      <td>0.09791</td>\n",
       "      <td>0.1752</td>\n",
       "      <td>0.05533</td>\n",
       "      <td>...</td>\n",
       "      <td>23.690</td>\n",
       "      <td>38.25</td>\n",
       "      <td>155.00</td>\n",
       "      <td>1731.0</td>\n",
       "      <td>0.11660</td>\n",
       "      <td>0.19220</td>\n",
       "      <td>0.3215</td>\n",
       "      <td>0.1628</td>\n",
       "      <td>0.2572</td>\n",
       "      <td>0.06637</td>\n",
       "    </tr>\n",
       "    <tr>\n",
       "      <td>566</td>\n",
       "      <td>16.60</td>\n",
       "      <td>28.08</td>\n",
       "      <td>108.30</td>\n",
       "      <td>858.1</td>\n",
       "      <td>0.08455</td>\n",
       "      <td>0.10230</td>\n",
       "      <td>0.09251</td>\n",
       "      <td>0.05302</td>\n",
       "      <td>0.1590</td>\n",
       "      <td>0.05648</td>\n",
       "      <td>...</td>\n",
       "      <td>18.980</td>\n",
       "      <td>34.12</td>\n",
       "      <td>126.70</td>\n",
       "      <td>1124.0</td>\n",
       "      <td>0.11390</td>\n",
       "      <td>0.30940</td>\n",
       "      <td>0.3403</td>\n",
       "      <td>0.1418</td>\n",
       "      <td>0.2218</td>\n",
       "      <td>0.07820</td>\n",
       "    </tr>\n",
       "    <tr>\n",
       "      <td>567</td>\n",
       "      <td>20.60</td>\n",
       "      <td>29.33</td>\n",
       "      <td>140.10</td>\n",
       "      <td>1265.0</td>\n",
       "      <td>0.11780</td>\n",
       "      <td>0.27700</td>\n",
       "      <td>0.35140</td>\n",
       "      <td>0.15200</td>\n",
       "      <td>0.2397</td>\n",
       "      <td>0.07016</td>\n",
       "      <td>...</td>\n",
       "      <td>25.740</td>\n",
       "      <td>39.42</td>\n",
       "      <td>184.60</td>\n",
       "      <td>1821.0</td>\n",
       "      <td>0.16500</td>\n",
       "      <td>0.86810</td>\n",
       "      <td>0.9387</td>\n",
       "      <td>0.2650</td>\n",
       "      <td>0.4087</td>\n",
       "      <td>0.12400</td>\n",
       "    </tr>\n",
       "    <tr>\n",
       "      <td>568</td>\n",
       "      <td>7.76</td>\n",
       "      <td>24.54</td>\n",
       "      <td>47.92</td>\n",
       "      <td>181.0</td>\n",
       "      <td>0.05263</td>\n",
       "      <td>0.04362</td>\n",
       "      <td>0.00000</td>\n",
       "      <td>0.00000</td>\n",
       "      <td>0.1587</td>\n",
       "      <td>0.05884</td>\n",
       "      <td>...</td>\n",
       "      <td>9.456</td>\n",
       "      <td>30.37</td>\n",
       "      <td>59.16</td>\n",
       "      <td>268.6</td>\n",
       "      <td>0.08996</td>\n",
       "      <td>0.06444</td>\n",
       "      <td>0.0000</td>\n",
       "      <td>0.0000</td>\n",
       "      <td>0.2871</td>\n",
       "      <td>0.07039</td>\n",
       "    </tr>\n",
       "  </tbody>\n",
       "</table>\n",
       "<p>569 rows × 30 columns</p>\n",
       "</div>"
      ],
      "text/plain": [
       "     mean radius  mean texture  mean perimeter  mean area  mean smoothness  \\\n",
       "0          17.99         10.38          122.80     1001.0          0.11840   \n",
       "1          20.57         17.77          132.90     1326.0          0.08474   \n",
       "2          19.69         21.25          130.00     1203.0          0.10960   \n",
       "3          11.42         20.38           77.58      386.1          0.14250   \n",
       "4          20.29         14.34          135.10     1297.0          0.10030   \n",
       "..           ...           ...             ...        ...              ...   \n",
       "564        21.56         22.39          142.00     1479.0          0.11100   \n",
       "565        20.13         28.25          131.20     1261.0          0.09780   \n",
       "566        16.60         28.08          108.30      858.1          0.08455   \n",
       "567        20.60         29.33          140.10     1265.0          0.11780   \n",
       "568         7.76         24.54           47.92      181.0          0.05263   \n",
       "\n",
       "     mean compactness  mean concavity  mean concave points  mean symmetry  \\\n",
       "0             0.27760         0.30010              0.14710         0.2419   \n",
       "1             0.07864         0.08690              0.07017         0.1812   \n",
       "2             0.15990         0.19740              0.12790         0.2069   \n",
       "3             0.28390         0.24140              0.10520         0.2597   \n",
       "4             0.13280         0.19800              0.10430         0.1809   \n",
       "..                ...             ...                  ...            ...   \n",
       "564           0.11590         0.24390              0.13890         0.1726   \n",
       "565           0.10340         0.14400              0.09791         0.1752   \n",
       "566           0.10230         0.09251              0.05302         0.1590   \n",
       "567           0.27700         0.35140              0.15200         0.2397   \n",
       "568           0.04362         0.00000              0.00000         0.1587   \n",
       "\n",
       "     mean fractal dimension  ...  worst radius  worst texture  \\\n",
       "0                   0.07871  ...        25.380          17.33   \n",
       "1                   0.05667  ...        24.990          23.41   \n",
       "2                   0.05999  ...        23.570          25.53   \n",
       "3                   0.09744  ...        14.910          26.50   \n",
       "4                   0.05883  ...        22.540          16.67   \n",
       "..                      ...  ...           ...            ...   \n",
       "564                 0.05623  ...        25.450          26.40   \n",
       "565                 0.05533  ...        23.690          38.25   \n",
       "566                 0.05648  ...        18.980          34.12   \n",
       "567                 0.07016  ...        25.740          39.42   \n",
       "568                 0.05884  ...         9.456          30.37   \n",
       "\n",
       "     worst perimeter  worst area  worst smoothness  worst compactness  \\\n",
       "0             184.60      2019.0           0.16220            0.66560   \n",
       "1             158.80      1956.0           0.12380            0.18660   \n",
       "2             152.50      1709.0           0.14440            0.42450   \n",
       "3              98.87       567.7           0.20980            0.86630   \n",
       "4             152.20      1575.0           0.13740            0.20500   \n",
       "..               ...         ...               ...                ...   \n",
       "564           166.10      2027.0           0.14100            0.21130   \n",
       "565           155.00      1731.0           0.11660            0.19220   \n",
       "566           126.70      1124.0           0.11390            0.30940   \n",
       "567           184.60      1821.0           0.16500            0.86810   \n",
       "568            59.16       268.6           0.08996            0.06444   \n",
       "\n",
       "     worst concavity  worst concave points  worst symmetry  \\\n",
       "0             0.7119                0.2654          0.4601   \n",
       "1             0.2416                0.1860          0.2750   \n",
       "2             0.4504                0.2430          0.3613   \n",
       "3             0.6869                0.2575          0.6638   \n",
       "4             0.4000                0.1625          0.2364   \n",
       "..               ...                   ...             ...   \n",
       "564           0.4107                0.2216          0.2060   \n",
       "565           0.3215                0.1628          0.2572   \n",
       "566           0.3403                0.1418          0.2218   \n",
       "567           0.9387                0.2650          0.4087   \n",
       "568           0.0000                0.0000          0.2871   \n",
       "\n",
       "     worst fractal dimension  \n",
       "0                    0.11890  \n",
       "1                    0.08902  \n",
       "2                    0.08758  \n",
       "3                    0.17300  \n",
       "4                    0.07678  \n",
       "..                       ...  \n",
       "564                  0.07115  \n",
       "565                  0.06637  \n",
       "566                  0.07820  \n",
       "567                  0.12400  \n",
       "568                  0.07039  \n",
       "\n",
       "[569 rows x 30 columns]"
      ]
     },
     "execution_count": 103,
     "metadata": {},
     "output_type": "execute_result"
    }
   ],
   "source": [
    "#Set up dataframe\n",
    "breastCancer = load_breast_cancer()\n",
    "bc_df_two = pd.DataFrame(breastCancer.data, columns=breastCancer.feature_names)\n",
    "bc_df_two = pd.read_csv(\"wdbc.data\", names=['ID','Diagnosis', 'mean radius', 'mean texture', 'mean perimeter', 'mean area',\n",
    "       'mean smoothness', 'mean compactness', 'mean concavity',\n",
    "       'mean concave points', 'mean symmetry', 'mean fractal dimension',\n",
    "       'radius error', 'texture error', 'perimeter error', 'area error',\n",
    "       'smoothness error', 'compactness error', 'concavity error',\n",
    "       'concave points error', 'symmetry error', 'fractal dimension error',\n",
    "       'worst radius', 'worst texture', 'worst perimeter', 'worst area',\n",
    "       'worst smoothness', 'worst compactness', 'worst concavity',\n",
    "       'worst concave points', 'worst symmetry', 'worst fractal dimension'])\n",
    "bc_df_two = bc_df_two.drop(columns=['ID'])\n",
    "\n",
    "#Store Diagnosis label & drop it for pca\n",
    "diagnosis = bc_df_two['Diagnosis']\n",
    "bc_df_two = bc_df_two.drop(columns=['Diagnosis'])\n",
    "bc_df_two"
   ]
  },
  {
   "cell_type": "code",
   "execution_count": 108,
   "metadata": {},
   "outputs": [
    {
     "data": {
      "text/html": [
       "<div>\n",
       "<style scoped>\n",
       "    .dataframe tbody tr th:only-of-type {\n",
       "        vertical-align: middle;\n",
       "    }\n",
       "\n",
       "    .dataframe tbody tr th {\n",
       "        vertical-align: top;\n",
       "    }\n",
       "\n",
       "    .dataframe thead th {\n",
       "        text-align: right;\n",
       "    }\n",
       "</style>\n",
       "<table border=\"1\" class=\"dataframe\">\n",
       "  <thead>\n",
       "    <tr style=\"text-align: right;\">\n",
       "      <th></th>\n",
       "      <th>PCA1</th>\n",
       "    </tr>\n",
       "  </thead>\n",
       "  <tbody>\n",
       "    <tr>\n",
       "      <td>0</td>\n",
       "      <td>1160.142574</td>\n",
       "    </tr>\n",
       "    <tr>\n",
       "      <td>1</td>\n",
       "      <td>1269.122443</td>\n",
       "    </tr>\n",
       "    <tr>\n",
       "      <td>2</td>\n",
       "      <td>995.793889</td>\n",
       "    </tr>\n",
       "    <tr>\n",
       "      <td>3</td>\n",
       "      <td>-407.180803</td>\n",
       "    </tr>\n",
       "    <tr>\n",
       "      <td>4</td>\n",
       "      <td>930.341180</td>\n",
       "    </tr>\n",
       "    <tr>\n",
       "      <td>...</td>\n",
       "      <td>...</td>\n",
       "    </tr>\n",
       "    <tr>\n",
       "      <td>564</td>\n",
       "      <td>1414.126684</td>\n",
       "    </tr>\n",
       "    <tr>\n",
       "      <td>565</td>\n",
       "      <td>1045.018854</td>\n",
       "    </tr>\n",
       "    <tr>\n",
       "      <td>566</td>\n",
       "      <td>314.501756</td>\n",
       "    </tr>\n",
       "    <tr>\n",
       "      <td>567</td>\n",
       "      <td>1124.858115</td>\n",
       "    </tr>\n",
       "    <tr>\n",
       "      <td>568</td>\n",
       "      <td>-771.527622</td>\n",
       "    </tr>\n",
       "  </tbody>\n",
       "</table>\n",
       "<p>569 rows × 1 columns</p>\n",
       "</div>"
      ],
      "text/plain": [
       "            PCA1\n",
       "0    1160.142574\n",
       "1    1269.122443\n",
       "2     995.793889\n",
       "3    -407.180803\n",
       "4     930.341180\n",
       "..           ...\n",
       "564  1414.126684\n",
       "565  1045.018854\n",
       "566   314.501756\n",
       "567  1124.858115\n",
       "568  -771.527622\n",
       "\n",
       "[569 rows x 1 columns]"
      ]
     },
     "execution_count": 108,
     "metadata": {},
     "output_type": "execute_result"
    }
   ],
   "source": [
    "#Creating pca with component 1\n",
    "from sklearn import decomposition\n",
    "pca = decomposition.PCA(n_components=1)\n",
    "pca_bc_ds = pca.fit_transform(bc_df_two)\n",
    "pca_bf = pd.DataFrame(data=pca_bc_ds, columns=['PCA1'])\n",
    "pca_bf"
   ]
  },
  {
   "cell_type": "code",
   "execution_count": 112,
   "metadata": {},
   "outputs": [
    {
     "name": "stdout",
     "output_type": "stream",
     "text": [
      "(455, 1) (455,)\n",
      "(114, 1) (114,)\n"
     ]
    }
   ],
   "source": [
    "#Set-up data as samples and features\n",
    "X = pca_bf\n",
    "y = diagnosis\n",
    "\n",
    "#Using the train_test_split function to make a split\n",
    "X_train, X_test, y_train, y_test = model_selection.train_test_split(X, y, test_size=0.2)\n",
    "\n",
    "#For self\n",
    "print(X_train.shape, y_train.shape)\n",
    "print(X_test.shape, y_test.shape)"
   ]
  },
  {
   "cell_type": "code",
   "execution_count": 111,
   "metadata": {},
   "outputs": [
    {
     "data": {
      "text/plain": [
       "[Text(167.4, 181.2, 'X[0] <= 54.079\\ngini = 0.474\\nsamples = 455\\nvalue = [279, 176]'),\n",
       " Text(83.7, 108.72, 'X[0] <= -196.667\\ngini = 0.215\\nsamples = 311\\nvalue = [273, 38]'),\n",
       " Text(41.85, 36.23999999999998, 'gini = 0.068\\nsamples = 226\\nvalue = [218, 8]'),\n",
       " Text(125.55000000000001, 36.23999999999998, 'gini = 0.457\\nsamples = 85\\nvalue = [55, 30]'),\n",
       " Text(251.10000000000002, 108.72, 'X[0] <= 260.355\\ngini = 0.08\\nsamples = 144\\nvalue = [6, 138]'),\n",
       " Text(209.25, 36.23999999999998, 'gini = 0.328\\nsamples = 29\\nvalue = [6, 23]'),\n",
       " Text(292.95, 36.23999999999998, 'gini = 0.0\\nsamples = 115\\nvalue = [0, 115]')]"
      ]
     },
     "execution_count": 111,
     "metadata": {},
     "output_type": "execute_result"
    },
    {
     "data": {
      "image/png": "[encoded data removed]",
      "text/plain": [
       "<Figure size 432x288 with 1 Axes>"
      ]
     },
     "metadata": {
      "needs_background": "light"
     },
     "output_type": "display_data"
    }
   ],
   "source": [
    "#Defining and fitting a decision tree instance\n",
    "classifier = tree.DecisionTreeClassifier(max_depth=2, min_samples_leaf=2, min_samples_split=5)\n",
    "classifier = classifier.fit(X_train, y_train)\n",
    "\n",
    "#Setting up expectations and prediction\n",
    "expected = y_test\n",
    "predicted = classifier.predict(X_test)\n",
    "\n",
    "#Show a visual representation of the tree\n",
    "tree.plot_tree(classifier)"
   ]
  },
  {
   "cell_type": "code",
   "execution_count": 116,
   "metadata": {},
   "outputs": [
    {
     "data": {
      "text/plain": [
       "(77, 1, 6, 30)"
      ]
     },
     "execution_count": 116,
     "metadata": {},
     "output_type": "execute_result"
    }
   ],
   "source": [
    "#Create confusion matrix\n",
    "from sklearn.metrics import confusion_matrix\n",
    "tn, fp, fn, tp = confusion_matrix(expected, predicted).ravel()\n",
    "(tn, fp, fn, tp)"
   ]
  },
  {
   "cell_type": "markdown",
   "metadata": {},
   "source": [
    "#### Problem 4 - Using Numpy Random to Generate Mockups for Decision Trees"
   ]
  },
  {
   "cell_type": "code",
   "execution_count": 77,
   "metadata": {},
   "outputs": [],
   "source": [
    "#Setting up random mean and deviation\n",
    "N = 1000\n",
    "u1 = 5\n",
    "s1 = 2\n",
    "\n",
    "x1 = np.random.normal(u1,s1,N)\n",
    "c1 = np.repeat('c1',N)\n",
    "df1 = df1 = pd.DataFrame(dict(zip(['x1','c'],[x1,c1])))"
   ]
  },
  {
   "cell_type": "code",
   "execution_count": 78,
   "metadata": {},
   "outputs": [
    {
     "data": {
      "text/html": [
       "<div>\n",
       "<style scoped>\n",
       "    .dataframe tbody tr th:only-of-type {\n",
       "        vertical-align: middle;\n",
       "    }\n",
       "\n",
       "    .dataframe tbody tr th {\n",
       "        vertical-align: top;\n",
       "    }\n",
       "\n",
       "    .dataframe thead th {\n",
       "        text-align: right;\n",
       "    }\n",
       "</style>\n",
       "<table border=\"1\" class=\"dataframe\">\n",
       "  <thead>\n",
       "    <tr style=\"text-align: right;\">\n",
       "      <th></th>\n",
       "      <th>x1</th>\n",
       "      <th>c</th>\n",
       "    </tr>\n",
       "  </thead>\n",
       "  <tbody>\n",
       "    <tr>\n",
       "      <td>0</td>\n",
       "      <td>3.664234</td>\n",
       "      <td>c1</td>\n",
       "    </tr>\n",
       "    <tr>\n",
       "      <td>1</td>\n",
       "      <td>4.202517</td>\n",
       "      <td>c1</td>\n",
       "    </tr>\n",
       "    <tr>\n",
       "      <td>2</td>\n",
       "      <td>2.258446</td>\n",
       "      <td>c1</td>\n",
       "    </tr>\n",
       "    <tr>\n",
       "      <td>3</td>\n",
       "      <td>3.032254</td>\n",
       "      <td>c1</td>\n",
       "    </tr>\n",
       "    <tr>\n",
       "      <td>4</td>\n",
       "      <td>0.533983</td>\n",
       "      <td>c1</td>\n",
       "    </tr>\n",
       "  </tbody>\n",
       "</table>\n",
       "</div>"
      ],
      "text/plain": [
       "         x1   c\n",
       "0  3.664234  c1\n",
       "1  4.202517  c1\n",
       "2  2.258446  c1\n",
       "3  3.032254  c1\n",
       "4  0.533983  c1"
      ]
     },
     "execution_count": 78,
     "metadata": {},
     "output_type": "execute_result"
    }
   ],
   "source": [
    "df1.head()"
   ]
  },
  {
   "cell_type": "code",
   "execution_count": 79,
   "metadata": {},
   "outputs": [],
   "source": [
    "#Setting up random mean and deviation\n",
    "N = 1000\n",
    "u2 = -5\n",
    "s2 = 2\n",
    "\n",
    "x2 = np.random.normal(u2,s2,N)\n",
    "df2 = pd.DataFrame(dict(zip(['x2','c'],[x2,c1])))"
   ]
  },
  {
   "cell_type": "code",
   "execution_count": 80,
   "metadata": {},
   "outputs": [
    {
     "data": {
      "text/html": [
       "<div>\n",
       "<style scoped>\n",
       "    .dataframe tbody tr th:only-of-type {\n",
       "        vertical-align: middle;\n",
       "    }\n",
       "\n",
       "    .dataframe tbody tr th {\n",
       "        vertical-align: top;\n",
       "    }\n",
       "\n",
       "    .dataframe thead th {\n",
       "        text-align: right;\n",
       "    }\n",
       "</style>\n",
       "<table border=\"1\" class=\"dataframe\">\n",
       "  <thead>\n",
       "    <tr style=\"text-align: right;\">\n",
       "      <th></th>\n",
       "      <th>x2</th>\n",
       "      <th>c</th>\n",
       "    </tr>\n",
       "  </thead>\n",
       "  <tbody>\n",
       "    <tr>\n",
       "      <td>0</td>\n",
       "      <td>-8.568411</td>\n",
       "      <td>c1</td>\n",
       "    </tr>\n",
       "    <tr>\n",
       "      <td>1</td>\n",
       "      <td>-3.781455</td>\n",
       "      <td>c1</td>\n",
       "    </tr>\n",
       "    <tr>\n",
       "      <td>2</td>\n",
       "      <td>-3.360326</td>\n",
       "      <td>c1</td>\n",
       "    </tr>\n",
       "    <tr>\n",
       "      <td>3</td>\n",
       "      <td>-5.540121</td>\n",
       "      <td>c1</td>\n",
       "    </tr>\n",
       "    <tr>\n",
       "      <td>4</td>\n",
       "      <td>-6.454511</td>\n",
       "      <td>c1</td>\n",
       "    </tr>\n",
       "  </tbody>\n",
       "</table>\n",
       "</div>"
      ],
      "text/plain": [
       "         x2   c\n",
       "0 -8.568411  c1\n",
       "1 -3.781455  c1\n",
       "2 -3.360326  c1\n",
       "3 -5.540121  c1\n",
       "4 -6.454511  c1"
      ]
     },
     "execution_count": 80,
     "metadata": {},
     "output_type": "execute_result"
    }
   ],
   "source": [
    "df2.head()"
   ]
  },
  {
   "cell_type": "code",
   "execution_count": 81,
   "metadata": {},
   "outputs": [],
   "source": [
    "#Add x2 from df2 to df1\n",
    "df1['x2'] = df2['x2']"
   ]
  },
  {
   "cell_type": "code",
   "execution_count": 82,
   "metadata": {},
   "outputs": [
    {
     "data": {
      "text/html": [
       "<div>\n",
       "<style scoped>\n",
       "    .dataframe tbody tr th:only-of-type {\n",
       "        vertical-align: middle;\n",
       "    }\n",
       "\n",
       "    .dataframe tbody tr th {\n",
       "        vertical-align: top;\n",
       "    }\n",
       "\n",
       "    .dataframe thead th {\n",
       "        text-align: right;\n",
       "    }\n",
       "</style>\n",
       "<table border=\"1\" class=\"dataframe\">\n",
       "  <thead>\n",
       "    <tr style=\"text-align: right;\">\n",
       "      <th></th>\n",
       "      <th>x1</th>\n",
       "      <th>x2</th>\n",
       "    </tr>\n",
       "  </thead>\n",
       "  <tbody>\n",
       "    <tr>\n",
       "      <td>0</td>\n",
       "      <td>3.664234</td>\n",
       "      <td>-8.568411</td>\n",
       "    </tr>\n",
       "    <tr>\n",
       "      <td>1</td>\n",
       "      <td>4.202517</td>\n",
       "      <td>-3.781455</td>\n",
       "    </tr>\n",
       "    <tr>\n",
       "      <td>2</td>\n",
       "      <td>2.258446</td>\n",
       "      <td>-3.360326</td>\n",
       "    </tr>\n",
       "    <tr>\n",
       "      <td>3</td>\n",
       "      <td>3.032254</td>\n",
       "      <td>-5.540121</td>\n",
       "    </tr>\n",
       "    <tr>\n",
       "      <td>4</td>\n",
       "      <td>0.533983</td>\n",
       "      <td>-6.454511</td>\n",
       "    </tr>\n",
       "    <tr>\n",
       "      <td>...</td>\n",
       "      <td>...</td>\n",
       "      <td>...</td>\n",
       "    </tr>\n",
       "    <tr>\n",
       "      <td>995</td>\n",
       "      <td>6.005754</td>\n",
       "      <td>-3.708700</td>\n",
       "    </tr>\n",
       "    <tr>\n",
       "      <td>996</td>\n",
       "      <td>4.258397</td>\n",
       "      <td>-4.005199</td>\n",
       "    </tr>\n",
       "    <tr>\n",
       "      <td>997</td>\n",
       "      <td>3.478853</td>\n",
       "      <td>-8.073731</td>\n",
       "    </tr>\n",
       "    <tr>\n",
       "      <td>998</td>\n",
       "      <td>2.006145</td>\n",
       "      <td>-4.457601</td>\n",
       "    </tr>\n",
       "    <tr>\n",
       "      <td>999</td>\n",
       "      <td>8.065620</td>\n",
       "      <td>-3.944043</td>\n",
       "    </tr>\n",
       "  </tbody>\n",
       "</table>\n",
       "<p>1000 rows × 2 columns</p>\n",
       "</div>"
      ],
      "text/plain": [
       "           x1        x2\n",
       "0    3.664234 -8.568411\n",
       "1    4.202517 -3.781455\n",
       "2    2.258446 -3.360326\n",
       "3    3.032254 -5.540121\n",
       "4    0.533983 -6.454511\n",
       "..        ...       ...\n",
       "995  6.005754 -3.708700\n",
       "996  4.258397 -4.005199\n",
       "997  3.478853 -8.073731\n",
       "998  2.006145 -4.457601\n",
       "999  8.065620 -3.944043\n",
       "\n",
       "[1000 rows x 2 columns]"
      ]
     },
     "execution_count": 82,
     "metadata": {},
     "output_type": "execute_result"
    }
   ],
   "source": [
    "#Drop the 'c' column\n",
    "df1 = df1.drop(columns=['c'])\n",
    "df1"
   ]
  },
  {
   "cell_type": "code",
   "execution_count": 88,
   "metadata": {},
   "outputs": [
    {
     "data": {
      "text/html": [
       "<div>\n",
       "<style scoped>\n",
       "    .dataframe tbody tr th:only-of-type {\n",
       "        vertical-align: middle;\n",
       "    }\n",
       "\n",
       "    .dataframe tbody tr th {\n",
       "        vertical-align: top;\n",
       "    }\n",
       "\n",
       "    .dataframe thead th {\n",
       "        text-align: right;\n",
       "    }\n",
       "</style>\n",
       "<table border=\"1\" class=\"dataframe\">\n",
       "  <thead>\n",
       "    <tr style=\"text-align: right;\">\n",
       "      <th></th>\n",
       "      <th>x1</th>\n",
       "      <th>x2</th>\n",
       "      <th>Label</th>\n",
       "    </tr>\n",
       "  </thead>\n",
       "  <tbody>\n",
       "    <tr>\n",
       "      <td>0</td>\n",
       "      <td>3.664234</td>\n",
       "      <td>-8.568411</td>\n",
       "      <td>0</td>\n",
       "    </tr>\n",
       "    <tr>\n",
       "      <td>1</td>\n",
       "      <td>4.202517</td>\n",
       "      <td>-3.781455</td>\n",
       "      <td>0</td>\n",
       "    </tr>\n",
       "    <tr>\n",
       "      <td>2</td>\n",
       "      <td>2.258446</td>\n",
       "      <td>-3.360326</td>\n",
       "      <td>1</td>\n",
       "    </tr>\n",
       "    <tr>\n",
       "      <td>3</td>\n",
       "      <td>3.032254</td>\n",
       "      <td>-5.540121</td>\n",
       "      <td>1</td>\n",
       "    </tr>\n",
       "    <tr>\n",
       "      <td>4</td>\n",
       "      <td>0.533983</td>\n",
       "      <td>-6.454511</td>\n",
       "      <td>1</td>\n",
       "    </tr>\n",
       "    <tr>\n",
       "      <td>...</td>\n",
       "      <td>...</td>\n",
       "      <td>...</td>\n",
       "      <td>...</td>\n",
       "    </tr>\n",
       "    <tr>\n",
       "      <td>995</td>\n",
       "      <td>6.005754</td>\n",
       "      <td>-3.708700</td>\n",
       "      <td>1</td>\n",
       "    </tr>\n",
       "    <tr>\n",
       "      <td>996</td>\n",
       "      <td>4.258397</td>\n",
       "      <td>-4.005199</td>\n",
       "      <td>0</td>\n",
       "    </tr>\n",
       "    <tr>\n",
       "      <td>997</td>\n",
       "      <td>3.478853</td>\n",
       "      <td>-8.073731</td>\n",
       "      <td>0</td>\n",
       "    </tr>\n",
       "    <tr>\n",
       "      <td>998</td>\n",
       "      <td>2.006145</td>\n",
       "      <td>-4.457601</td>\n",
       "      <td>1</td>\n",
       "    </tr>\n",
       "    <tr>\n",
       "      <td>999</td>\n",
       "      <td>8.065620</td>\n",
       "      <td>-3.944043</td>\n",
       "      <td>0</td>\n",
       "    </tr>\n",
       "  </tbody>\n",
       "</table>\n",
       "<p>1000 rows × 3 columns</p>\n",
       "</div>"
      ],
      "text/plain": [
       "           x1        x2  Label\n",
       "0    3.664234 -8.568411      0\n",
       "1    4.202517 -3.781455      0\n",
       "2    2.258446 -3.360326      1\n",
       "3    3.032254 -5.540121      1\n",
       "4    0.533983 -6.454511      1\n",
       "..        ...       ...    ...\n",
       "995  6.005754 -3.708700      1\n",
       "996  4.258397 -4.005199      0\n",
       "997  3.478853 -8.073731      0\n",
       "998  2.006145 -4.457601      1\n",
       "999  8.065620 -3.944043      0\n",
       "\n",
       "[1000 rows x 3 columns]"
      ]
     },
     "execution_count": 88,
     "metadata": {},
     "output_type": "execute_result"
    }
   ],
   "source": [
    "#Generate a random label of 0 and 1\n",
    "import random\n",
    "randomLabel = []\n",
    "for i in range(0,1000):\n",
    "    n = random.randint(0, 1)\n",
    "    randomLabel.append(n)\n",
    "\n",
    "#Add that label to df1\n",
    "df1['Label'] = randomLabel\n",
    "df1"
   ]
  },
  {
   "cell_type": "code",
   "execution_count": 86,
   "metadata": {},
   "outputs": [
    {
     "data": {
      "text/html": [
       "<div>\n",
       "<style scoped>\n",
       "    .dataframe tbody tr th:only-of-type {\n",
       "        vertical-align: middle;\n",
       "    }\n",
       "\n",
       "    .dataframe tbody tr th {\n",
       "        vertical-align: top;\n",
       "    }\n",
       "\n",
       "    .dataframe thead th {\n",
       "        text-align: right;\n",
       "    }\n",
       "</style>\n",
       "<table border=\"1\" class=\"dataframe\">\n",
       "  <thead>\n",
       "    <tr style=\"text-align: right;\">\n",
       "      <th></th>\n",
       "      <th>x1</th>\n",
       "      <th>x2</th>\n",
       "      <th>Label</th>\n",
       "    </tr>\n",
       "  </thead>\n",
       "  <tbody>\n",
       "    <tr>\n",
       "      <td>count</td>\n",
       "      <td>1000.000000</td>\n",
       "      <td>1000.000000</td>\n",
       "      <td>1000.000000</td>\n",
       "    </tr>\n",
       "    <tr>\n",
       "      <td>mean</td>\n",
       "      <td>4.979629</td>\n",
       "      <td>-5.054256</td>\n",
       "      <td>0.519000</td>\n",
       "    </tr>\n",
       "    <tr>\n",
       "      <td>std</td>\n",
       "      <td>1.988367</td>\n",
       "      <td>1.932585</td>\n",
       "      <td>0.499889</td>\n",
       "    </tr>\n",
       "    <tr>\n",
       "      <td>min</td>\n",
       "      <td>-0.683081</td>\n",
       "      <td>-12.605303</td>\n",
       "      <td>0.000000</td>\n",
       "    </tr>\n",
       "    <tr>\n",
       "      <td>25%</td>\n",
       "      <td>3.647374</td>\n",
       "      <td>-6.310515</td>\n",
       "      <td>0.000000</td>\n",
       "    </tr>\n",
       "    <tr>\n",
       "      <td>50%</td>\n",
       "      <td>5.079126</td>\n",
       "      <td>-5.027023</td>\n",
       "      <td>1.000000</td>\n",
       "    </tr>\n",
       "    <tr>\n",
       "      <td>75%</td>\n",
       "      <td>6.268326</td>\n",
       "      <td>-3.701221</td>\n",
       "      <td>1.000000</td>\n",
       "    </tr>\n",
       "    <tr>\n",
       "      <td>max</td>\n",
       "      <td>11.581170</td>\n",
       "      <td>2.439067</td>\n",
       "      <td>1.000000</td>\n",
       "    </tr>\n",
       "  </tbody>\n",
       "</table>\n",
       "</div>"
      ],
      "text/plain": [
       "                x1           x2        Label\n",
       "count  1000.000000  1000.000000  1000.000000\n",
       "mean      4.979629    -5.054256     0.519000\n",
       "std       1.988367     1.932585     0.499889\n",
       "min      -0.683081   -12.605303     0.000000\n",
       "25%       3.647374    -6.310515     0.000000\n",
       "50%       5.079126    -5.027023     1.000000\n",
       "75%       6.268326    -3.701221     1.000000\n",
       "max      11.581170     2.439067     1.000000"
      ]
     },
     "execution_count": 86,
     "metadata": {},
     "output_type": "execute_result"
    }
   ],
   "source": [
    "df1.describe()"
   ]
  },
  {
   "cell_type": "code",
   "execution_count": 84,
   "metadata": {},
   "outputs": [
    {
     "name": "stdout",
     "output_type": "stream",
     "text": [
      "(800, 2) (800,)\n",
      "(200, 2) (200,)\n"
     ]
    }
   ],
   "source": [
    "#Set-up data as samples and features\n",
    "X = df1.drop('Label', axis = 1)\n",
    "y = df1['Label']\n",
    "\n",
    "#Using the train_test_split function to make a split\n",
    "X_train, X_test, y_train, y_test = model_selection.train_test_split(X, y, test_size=0.2)\n",
    "\n",
    "#For self, total = 569. X_train = 455/569 = 0.8 & X_test = 114/569 = 0.2\n",
    "print(X_train.shape, y_train.shape)\n",
    "print(X_test.shape, y_test.shape)"
   ]
  },
  {
   "cell_type": "code",
   "execution_count": 85,
   "metadata": {},
   "outputs": [
    {
     "data": {
      "text/plain": [
       "[Text(167.4, 181.2, 'X[1] <= -9.082\\ngini = 0.499\\nsamples = 800\\nvalue = [380, 420]'),\n",
       " Text(83.7, 108.72, 'X[0] <= 0.697\\ngini = 0.355\\nsamples = 13\\nvalue = [10, 3]'),\n",
       " Text(41.85, 36.23999999999998, 'gini = 0.0\\nsamples = 1\\nvalue = [0, 1]'),\n",
       " Text(125.55000000000001, 36.23999999999998, 'gini = 0.278\\nsamples = 12\\nvalue = [10, 2]'),\n",
       " Text(251.10000000000002, 108.72, 'X[1] <= -0.868\\ngini = 0.498\\nsamples = 787\\nvalue = [370, 417]'),\n",
       " Text(209.25, 36.23999999999998, 'gini = 0.498\\nsamples = 775\\nvalue = [361, 414]'),\n",
       " Text(292.95, 36.23999999999998, 'gini = 0.375\\nsamples = 12\\nvalue = [9, 3]')]"
      ]
     },
     "execution_count": 85,
     "metadata": {},
     "output_type": "execute_result"
    },
    {
     "data": {
      "image/png": "[encoded data removed]",
      "text/plain": [
       "<Figure size 432x288 with 1 Axes>"
      ]
     },
     "metadata": {
      "needs_background": "light"
     },
     "output_type": "display_data"
    }
   ],
   "source": [
    "#Defining and fitting a decision tree instance\n",
    "classifier = tree.DecisionTreeClassifier(max_depth=2)\n",
    "classifier = classifier.fit(X_train, y_train)\n",
    "\n",
    "#Setting up expectations and prediction\n",
    "expected = y_test\n",
    "predicted = classifier.predict(X_test)\n",
    "\n",
    "#Show a visual representation of the tree\n",
    "tree.plot_tree(classifier)"
   ]
  },
  {
   "cell_type": "code",
   "execution_count": 89,
   "metadata": {},
   "outputs": [
    {
     "data": {
      "text/plain": [
       "0.016"
      ]
     },
     "execution_count": 89,
     "metadata": {},
     "output_type": "execute_result"
    }
   ],
   "source": [
    "#Calculate the empirical distribution\n",
    "from statsmodels.distributions.empirical_distribution import ECDF\n",
    "ecdf = ECDF(x2)\n",
    "ecdf(-9.082)"
   ]
  },
  {
   "cell_type": "markdown",
   "metadata": {},
   "source": [
    "The empirical distribution for the above descision tree is 1.6%. The threshold above split in a manner that 787/800 of the samples split to the right and less than 10% split to the left. This follows par with the emprical distriubtion. "
   ]
  },
  {
   "cell_type": "code",
   "execution_count": null,
   "metadata": {},
   "outputs": [],
   "source": []
  }
 ],
 "metadata": {
  "kernelspec": {
   "display_name": "Python 3",
   "language": "python",
   "name": "python3"
  },
  "language_info": {
   "codemirror_mode": {
    "name": "ipython",
    "version": 3
   },
   "file_extension": ".py",
   "mimetype": "text/x-python",
   "name": "python",
   "nbconvert_exporter": "python",
   "pygments_lexer": "ipython3",
   "version": "3.7.4"
  }
 },
 "nbformat": 4,
 "nbformat_minor": 2
}
