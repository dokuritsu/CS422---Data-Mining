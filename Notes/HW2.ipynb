{
 "cells": [
  {
   "cell_type": "code",
   "execution_count": 78,
   "metadata": {},
   "outputs": [],
   "source": [
    "import numpy as np\n",
    "import pandas as pd\n",
    "import seaborn as sns\n",
    "import matplotlib.pyplot as plt\n",
    "from sklearn.datasets import load_iris\n",
    "from sklearn.datasets import load_breast_cancer\n",
    "from sklearn import tree\n",
    "from sklearn.impute import SimpleImputer\n",
    "from sklearn.tree import DecisionTreeClassifier\n",
    "from sklearn import model_selection\n",
    "from sklearn import metrics\n",
    "from sklearn.metrics import confusion_matrix\n",
    "from sklearn.decomposition import PCA"
   ]
  },
  {
   "cell_type": "markdown",
   "metadata": {},
   "source": [
    "=====PROBLEM 1====="
   ]
  },
  {
   "cell_type": "code",
   "execution_count": 352,
   "metadata": {},
   "outputs": [
    {
     "name": "stdout",
     "output_type": "stream",
     "text": [
      "              precision    recall  f1-score   support\n",
      "\n",
      "           0       1.00      1.00      1.00        10\n",
      "           1       0.00      0.00      0.00        13\n",
      "           2       0.35      1.00      0.52         7\n",
      "\n",
      "    accuracy                           0.57        30\n",
      "   macro avg       0.45      0.67      0.51        30\n",
      "weighted avg       0.41      0.57      0.45        30\n",
      "\n"
     ]
    },
    {
     "name": "stderr",
     "output_type": "stream",
     "text": [
      "C:\\Users\\Jeffrey Lor\\Anaconda3\\lib\\site-packages\\sklearn\\metrics\\classification.py:1437: UndefinedMetricWarning: Precision and F-score are ill-defined and being set to 0.0 in labels with no predicted samples.\n",
      "  'precision', 'predicted', average, warn_for)\n"
     ]
    }
   ],
   "source": [
    "iris = load_iris()\n",
    "X = iris.data\n",
    "y = iris.target\n",
    "\n",
    "X_train, X_test, y_train, y_test = model_selection.train_test_split(X, y, test_size=0.2)\n",
    "\n",
    "clf = tree.DecisionTreeClassifier(max_depth=1, min_samples_split=5, min_samples_leaf=2)\n",
    "clf = clf.fit(X_train, y_train)\n",
    "\n",
    "expected = y_test\n",
    "predicted = clf.predict(X_test)\n",
    "\n",
    "print(metrics.classification_report(expected, predicted))"
   ]
  },
  {
   "cell_type": "code",
   "execution_count": 353,
   "metadata": {},
   "outputs": [
    {
     "name": "stdout",
     "output_type": "stream",
     "text": [
      "              precision    recall  f1-score   support\n",
      "\n",
      "           0       1.00      1.00      1.00        10\n",
      "           1       0.92      0.92      0.92        13\n",
      "           2       0.86      0.86      0.86         7\n",
      "\n",
      "    accuracy                           0.93        30\n",
      "   macro avg       0.93      0.93      0.93        30\n",
      "weighted avg       0.93      0.93      0.93        30\n",
      "\n"
     ]
    }
   ],
   "source": [
    "clf = tree.DecisionTreeClassifier(max_depth=2, min_samples_split=5, min_samples_leaf=2)\n",
    "clf = clf.fit(X_train, y_train)\n",
    "\n",
    "expected = y_test\n",
    "predicted = clf.predict(X_test)\n",
    "\n",
    "print(metrics.classification_report(expected, predicted))"
   ]
  },
  {
   "cell_type": "code",
   "execution_count": 354,
   "metadata": {},
   "outputs": [
    {
     "name": "stdout",
     "output_type": "stream",
     "text": [
      "              precision    recall  f1-score   support\n",
      "\n",
      "           0       1.00      1.00      1.00        10\n",
      "           1       0.92      0.92      0.92        13\n",
      "           2       0.86      0.86      0.86         7\n",
      "\n",
      "    accuracy                           0.93        30\n",
      "   macro avg       0.93      0.93      0.93        30\n",
      "weighted avg       0.93      0.93      0.93        30\n",
      "\n"
     ]
    }
   ],
   "source": [
    "clf = tree.DecisionTreeClassifier(max_depth=3, min_samples_split=5, min_samples_leaf=2)\n",
    "clf = clf.fit(X_train, y_train)\n",
    "\n",
    "expected = y_test\n",
    "predicted = clf.predict(X_test)\n",
    "\n",
    "print(metrics.classification_report(expected, predicted))"
   ]
  },
  {
   "cell_type": "code",
   "execution_count": 355,
   "metadata": {},
   "outputs": [
    {
     "name": "stdout",
     "output_type": "stream",
     "text": [
      "              precision    recall  f1-score   support\n",
      "\n",
      "           0       1.00      1.00      1.00        10\n",
      "           1       0.92      0.92      0.92        13\n",
      "           2       0.86      0.86      0.86         7\n",
      "\n",
      "    accuracy                           0.93        30\n",
      "   macro avg       0.93      0.93      0.93        30\n",
      "weighted avg       0.93      0.93      0.93        30\n",
      "\n"
     ]
    }
   ],
   "source": [
    "clf = tree.DecisionTreeClassifier(max_depth=4, min_samples_split=5, min_samples_leaf=2)\n",
    "clf = clf.fit(X_train, y_train)\n",
    "\n",
    "expected = y_test\n",
    "predicted = clf.predict(X_test)\n",
    "\n",
    "print(metrics.classification_report(expected, predicted))"
   ]
  },
  {
   "cell_type": "code",
   "execution_count": 118,
   "metadata": {},
   "outputs": [
    {
     "name": "stdout",
     "output_type": "stream",
     "text": [
      "              precision    recall  f1-score   support\n",
      "\n",
      "           0       1.00      1.00      1.00         9\n",
      "           1       0.83      1.00      0.91        10\n",
      "           2       1.00      0.82      0.90        11\n",
      "\n",
      "    accuracy                           0.93        30\n",
      "   macro avg       0.94      0.94      0.94        30\n",
      "weighted avg       0.94      0.93      0.93        30\n",
      "\n"
     ]
    }
   ],
   "source": [
    "clf = tree.DecisionTreeClassifier(max_depth=5, min_samples_split=5, min_samples_leaf=2)\n",
    "clf = clf.fit(X_train, y_train)\n",
    "\n",
    "expected = y_test\n",
    "predicted = clf.predict(X_test)\n",
    "\n",
    "print(metrics.classification_report(expected, predicted))"
   ]
  },
  {
   "cell_type": "markdown",
   "metadata": {},
   "source": [
    "The best recall was with a max depth of 2. This is because after depth is greater than or equal to 2, the tree is pure. The lowest precision was with a max depth of 1 because it doesn't even predict 2 as a value. The best F1 score was also with a max depth of 2 because the F1 score is a weighted average of Precision and Recall.\n",
    "\n",
    "A micro-average will aggregate the average based on the number of total true positives, false negatives, and false positives. A macro-average will calculate metrics for each label and gives an average without weight taken into consideration. A weighted average will calculate for each label similar to a macro-average, but then alter them to account for weight."
   ]
  },
  {
   "cell_type": "markdown",
   "metadata": {},
   "source": [
    "=====PROBLEM 2====="
   ]
  },
  {
   "cell_type": "code",
   "execution_count": 356,
   "metadata": {
    "scrolled": true
   },
   "outputs": [
    {
     "data": {
      "text/html": [
       "<div>\n",
       "<style scoped>\n",
       "    .dataframe tbody tr th:only-of-type {\n",
       "        vertical-align: middle;\n",
       "    }\n",
       "\n",
       "    .dataframe tbody tr th {\n",
       "        vertical-align: top;\n",
       "    }\n",
       "\n",
       "    .dataframe thead th {\n",
       "        text-align: right;\n",
       "    }\n",
       "</style>\n",
       "<table border=\"1\" class=\"dataframe\">\n",
       "  <thead>\n",
       "    <tr style=\"text-align: right;\">\n",
       "      <th></th>\n",
       "      <th>Clump Thickness</th>\n",
       "      <th>Uniformity of Cell Size</th>\n",
       "      <th>Uniformity of Cell Shape</th>\n",
       "      <th>Marginal Adhesion</th>\n",
       "      <th>Simple Epithelial Cell Size</th>\n",
       "      <th>Bare Nuclei</th>\n",
       "      <th>Bland Chromatin</th>\n",
       "      <th>Normal Nucleoli</th>\n",
       "      <th>Mitoses</th>\n",
       "      <th>Class (2 for benign, 4 for malignant)</th>\n",
       "    </tr>\n",
       "  </thead>\n",
       "  <tbody>\n",
       "    <tr>\n",
       "      <td>0</td>\n",
       "      <td>5.0</td>\n",
       "      <td>1.0</td>\n",
       "      <td>1.0</td>\n",
       "      <td>1.0</td>\n",
       "      <td>2.0</td>\n",
       "      <td>1.0</td>\n",
       "      <td>3.0</td>\n",
       "      <td>1.0</td>\n",
       "      <td>1.0</td>\n",
       "      <td>2.0</td>\n",
       "    </tr>\n",
       "    <tr>\n",
       "      <td>1</td>\n",
       "      <td>5.0</td>\n",
       "      <td>4.0</td>\n",
       "      <td>4.0</td>\n",
       "      <td>5.0</td>\n",
       "      <td>7.0</td>\n",
       "      <td>10.0</td>\n",
       "      <td>3.0</td>\n",
       "      <td>2.0</td>\n",
       "      <td>1.0</td>\n",
       "      <td>2.0</td>\n",
       "    </tr>\n",
       "    <tr>\n",
       "      <td>2</td>\n",
       "      <td>3.0</td>\n",
       "      <td>1.0</td>\n",
       "      <td>1.0</td>\n",
       "      <td>1.0</td>\n",
       "      <td>2.0</td>\n",
       "      <td>2.0</td>\n",
       "      <td>3.0</td>\n",
       "      <td>1.0</td>\n",
       "      <td>1.0</td>\n",
       "      <td>2.0</td>\n",
       "    </tr>\n",
       "    <tr>\n",
       "      <td>3</td>\n",
       "      <td>6.0</td>\n",
       "      <td>8.0</td>\n",
       "      <td>8.0</td>\n",
       "      <td>1.0</td>\n",
       "      <td>3.0</td>\n",
       "      <td>4.0</td>\n",
       "      <td>3.0</td>\n",
       "      <td>7.0</td>\n",
       "      <td>1.0</td>\n",
       "      <td>2.0</td>\n",
       "    </tr>\n",
       "    <tr>\n",
       "      <td>4</td>\n",
       "      <td>4.0</td>\n",
       "      <td>1.0</td>\n",
       "      <td>1.0</td>\n",
       "      <td>3.0</td>\n",
       "      <td>2.0</td>\n",
       "      <td>1.0</td>\n",
       "      <td>3.0</td>\n",
       "      <td>1.0</td>\n",
       "      <td>1.0</td>\n",
       "      <td>2.0</td>\n",
       "    </tr>\n",
       "    <tr>\n",
       "      <td>...</td>\n",
       "      <td>...</td>\n",
       "      <td>...</td>\n",
       "      <td>...</td>\n",
       "      <td>...</td>\n",
       "      <td>...</td>\n",
       "      <td>...</td>\n",
       "      <td>...</td>\n",
       "      <td>...</td>\n",
       "      <td>...</td>\n",
       "      <td>...</td>\n",
       "    </tr>\n",
       "    <tr>\n",
       "      <td>694</td>\n",
       "      <td>3.0</td>\n",
       "      <td>1.0</td>\n",
       "      <td>1.0</td>\n",
       "      <td>1.0</td>\n",
       "      <td>3.0</td>\n",
       "      <td>2.0</td>\n",
       "      <td>1.0</td>\n",
       "      <td>1.0</td>\n",
       "      <td>1.0</td>\n",
       "      <td>2.0</td>\n",
       "    </tr>\n",
       "    <tr>\n",
       "      <td>695</td>\n",
       "      <td>2.0</td>\n",
       "      <td>1.0</td>\n",
       "      <td>1.0</td>\n",
       "      <td>1.0</td>\n",
       "      <td>2.0</td>\n",
       "      <td>1.0</td>\n",
       "      <td>1.0</td>\n",
       "      <td>1.0</td>\n",
       "      <td>1.0</td>\n",
       "      <td>2.0</td>\n",
       "    </tr>\n",
       "    <tr>\n",
       "      <td>696</td>\n",
       "      <td>5.0</td>\n",
       "      <td>10.0</td>\n",
       "      <td>10.0</td>\n",
       "      <td>3.0</td>\n",
       "      <td>7.0</td>\n",
       "      <td>3.0</td>\n",
       "      <td>8.0</td>\n",
       "      <td>10.0</td>\n",
       "      <td>2.0</td>\n",
       "      <td>4.0</td>\n",
       "    </tr>\n",
       "    <tr>\n",
       "      <td>697</td>\n",
       "      <td>4.0</td>\n",
       "      <td>8.0</td>\n",
       "      <td>6.0</td>\n",
       "      <td>4.0</td>\n",
       "      <td>3.0</td>\n",
       "      <td>4.0</td>\n",
       "      <td>10.0</td>\n",
       "      <td>6.0</td>\n",
       "      <td>1.0</td>\n",
       "      <td>4.0</td>\n",
       "    </tr>\n",
       "    <tr>\n",
       "      <td>698</td>\n",
       "      <td>4.0</td>\n",
       "      <td>8.0</td>\n",
       "      <td>8.0</td>\n",
       "      <td>5.0</td>\n",
       "      <td>4.0</td>\n",
       "      <td>5.0</td>\n",
       "      <td>10.0</td>\n",
       "      <td>4.0</td>\n",
       "      <td>1.0</td>\n",
       "      <td>4.0</td>\n",
       "    </tr>\n",
       "  </tbody>\n",
       "</table>\n",
       "<p>699 rows × 10 columns</p>\n",
       "</div>"
      ],
      "text/plain": [
       "     Clump Thickness  Uniformity of Cell Size  Uniformity of Cell Shape  \\\n",
       "0                5.0                      1.0                       1.0   \n",
       "1                5.0                      4.0                       4.0   \n",
       "2                3.0                      1.0                       1.0   \n",
       "3                6.0                      8.0                       8.0   \n",
       "4                4.0                      1.0                       1.0   \n",
       "..               ...                      ...                       ...   \n",
       "694              3.0                      1.0                       1.0   \n",
       "695              2.0                      1.0                       1.0   \n",
       "696              5.0                     10.0                      10.0   \n",
       "697              4.0                      8.0                       6.0   \n",
       "698              4.0                      8.0                       8.0   \n",
       "\n",
       "     Marginal Adhesion  Simple Epithelial Cell Size  Bare Nuclei  \\\n",
       "0                  1.0                          2.0          1.0   \n",
       "1                  5.0                          7.0         10.0   \n",
       "2                  1.0                          2.0          2.0   \n",
       "3                  1.0                          3.0          4.0   \n",
       "4                  3.0                          2.0          1.0   \n",
       "..                 ...                          ...          ...   \n",
       "694                1.0                          3.0          2.0   \n",
       "695                1.0                          2.0          1.0   \n",
       "696                3.0                          7.0          3.0   \n",
       "697                4.0                          3.0          4.0   \n",
       "698                5.0                          4.0          5.0   \n",
       "\n",
       "     Bland Chromatin  Normal Nucleoli  Mitoses  \\\n",
       "0                3.0              1.0      1.0   \n",
       "1                3.0              2.0      1.0   \n",
       "2                3.0              1.0      1.0   \n",
       "3                3.0              7.0      1.0   \n",
       "4                3.0              1.0      1.0   \n",
       "..               ...              ...      ...   \n",
       "694              1.0              1.0      1.0   \n",
       "695              1.0              1.0      1.0   \n",
       "696              8.0             10.0      2.0   \n",
       "697             10.0              6.0      1.0   \n",
       "698             10.0              4.0      1.0   \n",
       "\n",
       "     Class (2 for benign, 4 for malignant)  \n",
       "0                                      2.0  \n",
       "1                                      2.0  \n",
       "2                                      2.0  \n",
       "3                                      2.0  \n",
       "4                                      2.0  \n",
       "..                                     ...  \n",
       "694                                    2.0  \n",
       "695                                    2.0  \n",
       "696                                    4.0  \n",
       "697                                    4.0  \n",
       "698                                    4.0  \n",
       "\n",
       "[699 rows x 10 columns]"
      ]
     },
     "execution_count": 356,
     "metadata": {},
     "output_type": "execute_result"
    }
   ],
   "source": [
    "df = pd.read_csv(\"breast-cancer-wisconsin.data\", names=['ID','Clump Thickness','Uniformity of Cell Size','Uniformity of Cell Shape','Marginal Adhesion','Simple Epithelial Cell Size','Bare Nuclei','Bland Chromatin','Normal Nucleoli','Mitoses','Class (2 for benign, 4 for malignant)'], na_values=[\"?\"])\n",
    "df = df.drop(columns=['ID'])\n",
    "imputer = SimpleImputer(missing_values=np.nan, strategy='most_frequent')\n",
    "imputer.fit(df)\n",
    "df[df.columns] = imputer.fit_transform(df)\n",
    "df"
   ]
  },
  {
   "cell_type": "code",
   "execution_count": 328,
   "metadata": {},
   "outputs": [
    {
     "data": {
      "text/plain": [
       "[Text(167.4, 181.2, 'X[5] <= 3.5\\ngini = 0.453\\nsamples = 559\\nvalue = [365, 194]'),\n",
       " Text(83.7, 108.72, 'X[1] <= 4.5\\ngini = 0.137\\nsamples = 378\\nvalue = [350, 28]'),\n",
       " Text(41.85, 36.23999999999998, 'gini = 0.049\\nsamples = 357\\nvalue = [348, 9]'),\n",
       " Text(125.55000000000001, 36.23999999999998, 'gini = 0.172\\nsamples = 21\\nvalue = [2, 19]'),\n",
       " Text(251.10000000000002, 108.72, 'X[2] <= 1.5\\ngini = 0.152\\nsamples = 181\\nvalue = [15, 166]'),\n",
       " Text(209.25, 36.23999999999998, 'gini = 0.346\\nsamples = 9\\nvalue = [7, 2]'),\n",
       " Text(292.95, 36.23999999999998, 'gini = 0.089\\nsamples = 172\\nvalue = [8, 164]')]"
      ]
     },
     "execution_count": 328,
     "metadata": {},
     "output_type": "execute_result"
    },
    {
     "data": {
      "image/png": "[encoded data removed]",
      "text/plain": [
       "<Figure size 432x288 with 1 Axes>"
      ]
     },
     "metadata": {
      "needs_background": "light"
     },
     "output_type": "display_data"
    }
   ],
   "source": [
    "X = df.drop('Class (2 for benign, 4 for malignant)',axis=1)\n",
    "y = df['Class (2 for benign, 4 for malignant)']\n",
    "\n",
    "X_train, X_test, y_train, y_test = model_selection.train_test_split(X, y, test_size=0.2)\n",
    "\n",
    "clf = tree.DecisionTreeClassifier(max_depth=2, min_samples_split=5, min_samples_leaf=2)\n",
    "clf = clf.fit(X_train, y_train)\n",
    "\n",
    "tree.plot_tree(clf)"
   ]
  },
  {
   "cell_type": "code",
   "execution_count": 82,
   "metadata": {},
   "outputs": [],
   "source": [
    "def gini(p):\n",
    "   return (p) * (1 - (p)) + (1 - p) * (1 - (1-p))\n",
    "\n",
    "def entropy(p):\n",
    "   return - p * np.log2(p) - (1 - p) * np.log2((1 - p))\n",
    "\n",
    "def classification_error(p):\n",
    "   return 1 - np.max([p, 1 - p])"
   ]
  },
  {
   "cell_type": "code",
   "execution_count": 330,
   "metadata": {},
   "outputs": [
    {
     "data": {
      "text/plain": [
       "0.45321155526256"
      ]
     },
     "execution_count": 330,
     "metadata": {},
     "output_type": "execute_result"
    }
   ],
   "source": [
    "gini(365/559)"
   ]
  },
  {
   "cell_type": "code",
   "execution_count": 331,
   "metadata": {},
   "outputs": [
    {
     "data": {
      "text/plain": [
       "0.9314042760464167"
      ]
     },
     "execution_count": 331,
     "metadata": {},
     "output_type": "execute_result"
    }
   ],
   "source": [
    "entropy(365/559)"
   ]
  },
  {
   "cell_type": "code",
   "execution_count": 332,
   "metadata": {},
   "outputs": [
    {
     "data": {
      "text/plain": [
       "0.3470483005366727"
      ]
     },
     "execution_count": 332,
     "metadata": {},
     "output_type": "execute_result"
    }
   ],
   "source": [
    "classification_error(365/559)"
   ]
  },
  {
   "cell_type": "code",
   "execution_count": 333,
   "metadata": {},
   "outputs": [
    {
     "data": {
      "text/plain": [
       "0.5403309121448419"
      ]
     },
     "execution_count": 333,
     "metadata": {},
     "output_type": "execute_result"
    }
   ],
   "source": [
    "entropy(365/559) - ((181/559) * entropy(15/181) + (378/559) * entropy(28/378))"
   ]
  },
  {
   "cell_type": "markdown",
   "metadata": {},
   "source": [
    "Entropy = 0.931\\\n",
    "Gini = 0.453\\\n",
    "Misclassification Error = 0.347\\\n",
    "Information Gain = 0.540\\\n",
    "The selected feature for the first split was \"Bare Nuclei\" and it splits between values <=3.5 and values greater than it."
   ]
  },
  {
   "cell_type": "markdown",
   "metadata": {},
   "source": [
    "=====PROBLEM 3====="
   ]
  },
  {
   "cell_type": "code",
   "execution_count": 62,
   "metadata": {},
   "outputs": [
    {
     "data": {
      "text/html": [
       "<div>\n",
       "<style scoped>\n",
       "    .dataframe tbody tr th:only-of-type {\n",
       "        vertical-align: middle;\n",
       "    }\n",
       "\n",
       "    .dataframe tbody tr th {\n",
       "        vertical-align: top;\n",
       "    }\n",
       "\n",
       "    .dataframe thead th {\n",
       "        text-align: right;\n",
       "    }\n",
       "</style>\n",
       "<table border=\"1\" class=\"dataframe\">\n",
       "  <thead>\n",
       "    <tr style=\"text-align: right;\">\n",
       "      <th></th>\n",
       "      <th>mean radius</th>\n",
       "      <th>mean texture</th>\n",
       "      <th>mean perimeter</th>\n",
       "      <th>mean area</th>\n",
       "      <th>mean smoothness</th>\n",
       "      <th>mean compactness</th>\n",
       "      <th>mean concavity</th>\n",
       "      <th>mean concave points</th>\n",
       "      <th>mean symmetry</th>\n",
       "      <th>mean fractal dimension</th>\n",
       "      <th>...</th>\n",
       "      <th>worst radius</th>\n",
       "      <th>worst texture</th>\n",
       "      <th>worst perimeter</th>\n",
       "      <th>worst area</th>\n",
       "      <th>worst smoothness</th>\n",
       "      <th>worst compactness</th>\n",
       "      <th>worst concavity</th>\n",
       "      <th>worst concave points</th>\n",
       "      <th>worst symmetry</th>\n",
       "      <th>worst fractal dimension</th>\n",
       "    </tr>\n",
       "  </thead>\n",
       "  <tbody>\n",
       "    <tr>\n",
       "      <td>0</td>\n",
       "      <td>17.99</td>\n",
       "      <td>10.38</td>\n",
       "      <td>122.80</td>\n",
       "      <td>1001.0</td>\n",
       "      <td>0.11840</td>\n",
       "      <td>0.27760</td>\n",
       "      <td>0.3001</td>\n",
       "      <td>0.14710</td>\n",
       "      <td>0.2419</td>\n",
       "      <td>0.07871</td>\n",
       "      <td>...</td>\n",
       "      <td>25.38</td>\n",
       "      <td>17.33</td>\n",
       "      <td>184.60</td>\n",
       "      <td>2019.0</td>\n",
       "      <td>0.1622</td>\n",
       "      <td>0.6656</td>\n",
       "      <td>0.7119</td>\n",
       "      <td>0.2654</td>\n",
       "      <td>0.4601</td>\n",
       "      <td>0.11890</td>\n",
       "    </tr>\n",
       "    <tr>\n",
       "      <td>1</td>\n",
       "      <td>20.57</td>\n",
       "      <td>17.77</td>\n",
       "      <td>132.90</td>\n",
       "      <td>1326.0</td>\n",
       "      <td>0.08474</td>\n",
       "      <td>0.07864</td>\n",
       "      <td>0.0869</td>\n",
       "      <td>0.07017</td>\n",
       "      <td>0.1812</td>\n",
       "      <td>0.05667</td>\n",
       "      <td>...</td>\n",
       "      <td>24.99</td>\n",
       "      <td>23.41</td>\n",
       "      <td>158.80</td>\n",
       "      <td>1956.0</td>\n",
       "      <td>0.1238</td>\n",
       "      <td>0.1866</td>\n",
       "      <td>0.2416</td>\n",
       "      <td>0.1860</td>\n",
       "      <td>0.2750</td>\n",
       "      <td>0.08902</td>\n",
       "    </tr>\n",
       "    <tr>\n",
       "      <td>2</td>\n",
       "      <td>19.69</td>\n",
       "      <td>21.25</td>\n",
       "      <td>130.00</td>\n",
       "      <td>1203.0</td>\n",
       "      <td>0.10960</td>\n",
       "      <td>0.15990</td>\n",
       "      <td>0.1974</td>\n",
       "      <td>0.12790</td>\n",
       "      <td>0.2069</td>\n",
       "      <td>0.05999</td>\n",
       "      <td>...</td>\n",
       "      <td>23.57</td>\n",
       "      <td>25.53</td>\n",
       "      <td>152.50</td>\n",
       "      <td>1709.0</td>\n",
       "      <td>0.1444</td>\n",
       "      <td>0.4245</td>\n",
       "      <td>0.4504</td>\n",
       "      <td>0.2430</td>\n",
       "      <td>0.3613</td>\n",
       "      <td>0.08758</td>\n",
       "    </tr>\n",
       "    <tr>\n",
       "      <td>3</td>\n",
       "      <td>11.42</td>\n",
       "      <td>20.38</td>\n",
       "      <td>77.58</td>\n",
       "      <td>386.1</td>\n",
       "      <td>0.14250</td>\n",
       "      <td>0.28390</td>\n",
       "      <td>0.2414</td>\n",
       "      <td>0.10520</td>\n",
       "      <td>0.2597</td>\n",
       "      <td>0.09744</td>\n",
       "      <td>...</td>\n",
       "      <td>14.91</td>\n",
       "      <td>26.50</td>\n",
       "      <td>98.87</td>\n",
       "      <td>567.7</td>\n",
       "      <td>0.2098</td>\n",
       "      <td>0.8663</td>\n",
       "      <td>0.6869</td>\n",
       "      <td>0.2575</td>\n",
       "      <td>0.6638</td>\n",
       "      <td>0.17300</td>\n",
       "    </tr>\n",
       "    <tr>\n",
       "      <td>4</td>\n",
       "      <td>20.29</td>\n",
       "      <td>14.34</td>\n",
       "      <td>135.10</td>\n",
       "      <td>1297.0</td>\n",
       "      <td>0.10030</td>\n",
       "      <td>0.13280</td>\n",
       "      <td>0.1980</td>\n",
       "      <td>0.10430</td>\n",
       "      <td>0.1809</td>\n",
       "      <td>0.05883</td>\n",
       "      <td>...</td>\n",
       "      <td>22.54</td>\n",
       "      <td>16.67</td>\n",
       "      <td>152.20</td>\n",
       "      <td>1575.0</td>\n",
       "      <td>0.1374</td>\n",
       "      <td>0.2050</td>\n",
       "      <td>0.4000</td>\n",
       "      <td>0.1625</td>\n",
       "      <td>0.2364</td>\n",
       "      <td>0.07678</td>\n",
       "    </tr>\n",
       "  </tbody>\n",
       "</table>\n",
       "<p>5 rows × 30 columns</p>\n",
       "</div>"
      ],
      "text/plain": [
       "   mean radius  mean texture  mean perimeter  mean area  mean smoothness  \\\n",
       "0        17.99         10.38          122.80     1001.0          0.11840   \n",
       "1        20.57         17.77          132.90     1326.0          0.08474   \n",
       "2        19.69         21.25          130.00     1203.0          0.10960   \n",
       "3        11.42         20.38           77.58      386.1          0.14250   \n",
       "4        20.29         14.34          135.10     1297.0          0.10030   \n",
       "\n",
       "   mean compactness  mean concavity  mean concave points  mean symmetry  \\\n",
       "0           0.27760          0.3001              0.14710         0.2419   \n",
       "1           0.07864          0.0869              0.07017         0.1812   \n",
       "2           0.15990          0.1974              0.12790         0.2069   \n",
       "3           0.28390          0.2414              0.10520         0.2597   \n",
       "4           0.13280          0.1980              0.10430         0.1809   \n",
       "\n",
       "   mean fractal dimension  ...  worst radius  worst texture  worst perimeter  \\\n",
       "0                 0.07871  ...         25.38          17.33           184.60   \n",
       "1                 0.05667  ...         24.99          23.41           158.80   \n",
       "2                 0.05999  ...         23.57          25.53           152.50   \n",
       "3                 0.09744  ...         14.91          26.50            98.87   \n",
       "4                 0.05883  ...         22.54          16.67           152.20   \n",
       "\n",
       "   worst area  worst smoothness  worst compactness  worst concavity  \\\n",
       "0      2019.0            0.1622             0.6656           0.7119   \n",
       "1      1956.0            0.1238             0.1866           0.2416   \n",
       "2      1709.0            0.1444             0.4245           0.4504   \n",
       "3       567.7            0.2098             0.8663           0.6869   \n",
       "4      1575.0            0.1374             0.2050           0.4000   \n",
       "\n",
       "   worst concave points  worst symmetry  worst fractal dimension  \n",
       "0                0.2654          0.4601                  0.11890  \n",
       "1                0.1860          0.2750                  0.08902  \n",
       "2                0.2430          0.3613                  0.08758  \n",
       "3                0.2575          0.6638                  0.17300  \n",
       "4                0.1625          0.2364                  0.07678  \n",
       "\n",
       "[5 rows x 30 columns]"
      ]
     },
     "execution_count": 62,
     "metadata": {},
     "output_type": "execute_result"
    }
   ],
   "source": [
    "df = pd.read_csv(\"wdbc.data\", names=['ID','Diagnosis', 'mean radius', 'mean texture', 'mean perimeter', 'mean area',\n",
    "       'mean smoothness', 'mean compactness', 'mean concavity',\n",
    "       'mean concave points', 'mean symmetry', 'mean fractal dimension',\n",
    "       'radius error', 'texture error', 'perimeter error', 'area error',\n",
    "       'smoothness error', 'compactness error', 'concavity error',\n",
    "       'concave points error', 'symmetry error', 'fractal dimension error',\n",
    "       'worst radius', 'worst texture', 'worst perimeter', 'worst area',\n",
    "       'worst smoothness', 'worst compactness', 'worst concavity',\n",
    "       'worst concave points', 'worst symmetry', 'worst fractal dimension'])\n",
    "df = df.drop(columns=['ID'])\n",
    "diagnosis = df['Diagnosis']\n",
    "df = df.drop(columns=['Diagnosis'])\n",
    "df.head()"
   ]
  },
  {
   "cell_type": "code",
   "execution_count": 70,
   "metadata": {},
   "outputs": [
    {
     "data": {
      "text/plain": [
       "[Text(167.4, 181.2, 'X[23] <= 884.55\\ngini = 0.461\\nsamples = 455\\nvalue = [291, 164]'),\n",
       " Text(83.7, 108.72, 'X[27] <= 0.16\\ngini = 0.154\\nsamples = 310\\nvalue = [284, 26]'),\n",
       " Text(41.85, 36.23999999999998, 'gini = 0.066\\nsamples = 292\\nvalue = [282, 10]'),\n",
       " Text(125.55000000000001, 36.23999999999998, 'gini = 0.198\\nsamples = 18\\nvalue = [2, 16]'),\n",
       " Text(251.10000000000002, 108.72, 'X[1] <= 14.99\\ngini = 0.092\\nsamples = 145\\nvalue = [7, 138]'),\n",
       " Text(209.25, 36.23999999999998, 'gini = 0.408\\nsamples = 7\\nvalue = [5, 2]'),\n",
       " Text(292.95, 36.23999999999998, 'gini = 0.029\\nsamples = 138\\nvalue = [2, 136]')]"
      ]
     },
     "execution_count": 70,
     "metadata": {},
     "output_type": "execute_result"
    },
    {
     "data": {
      "image/png": "[encoded data removed]",
      "text/plain": [
       "<Figure size 432x288 with 1 Axes>"
      ]
     },
     "metadata": {
      "needs_background": "light"
     },
     "output_type": "display_data"
    }
   ],
   "source": [
    "X = df\n",
    "y = diagnosis\n",
    "\n",
    "X_train, X_test, y_train, y_test = model_selection.train_test_split(X, y, test_size=0.2)\n",
    "\n",
    "clf = tree.DecisionTreeClassifier(max_depth=2, min_samples_split=5, min_samples_leaf=2)\n",
    "clf = clf.fit(X_train, y_train)\n",
    "\n",
    "tree.plot_tree(clf)"
   ]
  },
  {
   "cell_type": "code",
   "execution_count": 71,
   "metadata": {},
   "outputs": [
    {
     "name": "stdout",
     "output_type": "stream",
     "text": [
      "              precision    recall  f1-score   support\n",
      "\n",
      "           B       0.88      0.98      0.93        66\n",
      "           M       0.97      0.81      0.89        48\n",
      "\n",
      "    accuracy                           0.91       114\n",
      "   macro avg       0.93      0.90      0.91       114\n",
      "weighted avg       0.92      0.91      0.91       114\n",
      "\n"
     ]
    }
   ],
   "source": [
    "expected = y_test\n",
    "predicted = clf.predict(X_test)\n",
    "\n",
    "print(metrics.classification_report(expected, predicted))"
   ]
  },
  {
   "cell_type": "code",
   "execution_count": 63,
   "metadata": {
    "scrolled": true
   },
   "outputs": [
    {
     "data": {
      "text/html": [
       "<div>\n",
       "<style scoped>\n",
       "    .dataframe tbody tr th:only-of-type {\n",
       "        vertical-align: middle;\n",
       "    }\n",
       "\n",
       "    .dataframe tbody tr th {\n",
       "        vertical-align: top;\n",
       "    }\n",
       "\n",
       "    .dataframe thead th {\n",
       "        text-align: right;\n",
       "    }\n",
       "</style>\n",
       "<table border=\"1\" class=\"dataframe\">\n",
       "  <thead>\n",
       "    <tr style=\"text-align: right;\">\n",
       "      <th></th>\n",
       "      <th>0</th>\n",
       "      <th>1</th>\n",
       "      <th>2</th>\n",
       "      <th>3</th>\n",
       "      <th>4</th>\n",
       "      <th>5</th>\n",
       "      <th>6</th>\n",
       "      <th>7</th>\n",
       "      <th>8</th>\n",
       "      <th>9</th>\n",
       "      <th>...</th>\n",
       "      <th>20</th>\n",
       "      <th>21</th>\n",
       "      <th>22</th>\n",
       "      <th>23</th>\n",
       "      <th>24</th>\n",
       "      <th>25</th>\n",
       "      <th>26</th>\n",
       "      <th>27</th>\n",
       "      <th>28</th>\n",
       "      <th>29</th>\n",
       "    </tr>\n",
       "  </thead>\n",
       "  <tbody>\n",
       "    <tr>\n",
       "      <td>0</td>\n",
       "      <td>1160.142574</td>\n",
       "      <td>-293.917544</td>\n",
       "      <td>48.578398</td>\n",
       "      <td>-8.711975</td>\n",
       "      <td>32.000486</td>\n",
       "      <td>1.265415</td>\n",
       "      <td>0.931337</td>\n",
       "      <td>0.148167</td>\n",
       "      <td>0.745463</td>\n",
       "      <td>0.589359</td>\n",
       "      <td>...</td>\n",
       "      <td>0.021189</td>\n",
       "      <td>0.000241</td>\n",
       "      <td>0.002528</td>\n",
       "      <td>0.011560</td>\n",
       "      <td>0.005773</td>\n",
       "      <td>0.001377</td>\n",
       "      <td>-0.001982</td>\n",
       "      <td>0.001293</td>\n",
       "      <td>0.001989</td>\n",
       "      <td>0.000704</td>\n",
       "    </tr>\n",
       "    <tr>\n",
       "      <td>1</td>\n",
       "      <td>1269.122443</td>\n",
       "      <td>15.630182</td>\n",
       "      <td>-35.394534</td>\n",
       "      <td>17.861283</td>\n",
       "      <td>-4.334874</td>\n",
       "      <td>-0.225872</td>\n",
       "      <td>-0.046037</td>\n",
       "      <td>0.200804</td>\n",
       "      <td>-0.485828</td>\n",
       "      <td>-0.084035</td>\n",
       "      <td>...</td>\n",
       "      <td>0.005237</td>\n",
       "      <td>0.021069</td>\n",
       "      <td>0.001565</td>\n",
       "      <td>0.006968</td>\n",
       "      <td>-0.006978</td>\n",
       "      <td>0.001411</td>\n",
       "      <td>-0.000083</td>\n",
       "      <td>-0.001347</td>\n",
       "      <td>0.000686</td>\n",
       "      <td>-0.001061</td>\n",
       "    </tr>\n",
       "    <tr>\n",
       "      <td>2</td>\n",
       "      <td>995.793889</td>\n",
       "      <td>39.156743</td>\n",
       "      <td>-1.709753</td>\n",
       "      <td>4.199340</td>\n",
       "      <td>-0.466529</td>\n",
       "      <td>-2.652811</td>\n",
       "      <td>-0.779745</td>\n",
       "      <td>-0.274026</td>\n",
       "      <td>-0.173874</td>\n",
       "      <td>-0.186994</td>\n",
       "      <td>...</td>\n",
       "      <td>-0.009865</td>\n",
       "      <td>-0.002394</td>\n",
       "      <td>-0.004125</td>\n",
       "      <td>-0.004007</td>\n",
       "      <td>0.000709</td>\n",
       "      <td>-0.003781</td>\n",
       "      <td>0.000178</td>\n",
       "      <td>0.000018</td>\n",
       "      <td>-0.000775</td>\n",
       "      <td>0.000405</td>\n",
       "    </tr>\n",
       "    <tr>\n",
       "      <td>3</td>\n",
       "      <td>-407.180803</td>\n",
       "      <td>-67.380320</td>\n",
       "      <td>8.672848</td>\n",
       "      <td>-11.759867</td>\n",
       "      <td>7.115461</td>\n",
       "      <td>1.299436</td>\n",
       "      <td>-1.267304</td>\n",
       "      <td>-0.060555</td>\n",
       "      <td>-0.330639</td>\n",
       "      <td>-0.144155</td>\n",
       "      <td>...</td>\n",
       "      <td>0.011169</td>\n",
       "      <td>0.007063</td>\n",
       "      <td>0.001537</td>\n",
       "      <td>0.007003</td>\n",
       "      <td>-0.010261</td>\n",
       "      <td>-0.002899</td>\n",
       "      <td>0.000016</td>\n",
       "      <td>0.001369</td>\n",
       "      <td>-0.002139</td>\n",
       "      <td>-0.001657</td>\n",
       "    </tr>\n",
       "    <tr>\n",
       "      <td>4</td>\n",
       "      <td>930.341180</td>\n",
       "      <td>189.340742</td>\n",
       "      <td>1.374801</td>\n",
       "      <td>8.499183</td>\n",
       "      <td>7.613289</td>\n",
       "      <td>1.021160</td>\n",
       "      <td>-0.335522</td>\n",
       "      <td>0.289109</td>\n",
       "      <td>0.036087</td>\n",
       "      <td>-0.138502</td>\n",
       "      <td>...</td>\n",
       "      <td>-0.009916</td>\n",
       "      <td>0.010269</td>\n",
       "      <td>0.002204</td>\n",
       "      <td>0.002764</td>\n",
       "      <td>0.002455</td>\n",
       "      <td>0.001665</td>\n",
       "      <td>0.003290</td>\n",
       "      <td>0.000273</td>\n",
       "      <td>0.001783</td>\n",
       "      <td>0.000327</td>\n",
       "    </tr>\n",
       "    <tr>\n",
       "      <td>...</td>\n",
       "      <td>...</td>\n",
       "      <td>...</td>\n",
       "      <td>...</td>\n",
       "      <td>...</td>\n",
       "      <td>...</td>\n",
       "      <td>...</td>\n",
       "      <td>...</td>\n",
       "      <td>...</td>\n",
       "      <td>...</td>\n",
       "      <td>...</td>\n",
       "      <td>...</td>\n",
       "      <td>...</td>\n",
       "      <td>...</td>\n",
       "      <td>...</td>\n",
       "      <td>...</td>\n",
       "      <td>...</td>\n",
       "      <td>...</td>\n",
       "      <td>...</td>\n",
       "      <td>...</td>\n",
       "      <td>...</td>\n",
       "      <td>...</td>\n",
       "    </tr>\n",
       "    <tr>\n",
       "      <td>564</td>\n",
       "      <td>1414.126684</td>\n",
       "      <td>110.222492</td>\n",
       "      <td>40.065944</td>\n",
       "      <td>6.562240</td>\n",
       "      <td>-5.102856</td>\n",
       "      <td>-0.395424</td>\n",
       "      <td>-0.786751</td>\n",
       "      <td>0.037082</td>\n",
       "      <td>-0.452530</td>\n",
       "      <td>-0.235185</td>\n",
       "      <td>...</td>\n",
       "      <td>-0.017214</td>\n",
       "      <td>0.007864</td>\n",
       "      <td>-0.002317</td>\n",
       "      <td>-0.002384</td>\n",
       "      <td>-0.003637</td>\n",
       "      <td>-0.008211</td>\n",
       "      <td>0.002418</td>\n",
       "      <td>0.001234</td>\n",
       "      <td>-0.000078</td>\n",
       "      <td>-0.000455</td>\n",
       "    </tr>\n",
       "    <tr>\n",
       "      <td>565</td>\n",
       "      <td>1045.018854</td>\n",
       "      <td>77.057589</td>\n",
       "      <td>0.036669</td>\n",
       "      <td>-4.753245</td>\n",
       "      <td>-12.417863</td>\n",
       "      <td>-0.059637</td>\n",
       "      <td>0.449831</td>\n",
       "      <td>0.509154</td>\n",
       "      <td>-0.449986</td>\n",
       "      <td>0.493247</td>\n",
       "      <td>...</td>\n",
       "      <td>0.011219</td>\n",
       "      <td>-0.001905</td>\n",
       "      <td>-0.003028</td>\n",
       "      <td>-0.007931</td>\n",
       "      <td>0.002905</td>\n",
       "      <td>-0.002519</td>\n",
       "      <td>0.000212</td>\n",
       "      <td>0.001006</td>\n",
       "      <td>-0.000621</td>\n",
       "      <td>-0.000741</td>\n",
       "    </tr>\n",
       "    <tr>\n",
       "      <td>566</td>\n",
       "      <td>314.501756</td>\n",
       "      <td>47.553525</td>\n",
       "      <td>-10.442407</td>\n",
       "      <td>-9.771881</td>\n",
       "      <td>-6.156213</td>\n",
       "      <td>-0.870726</td>\n",
       "      <td>-2.166493</td>\n",
       "      <td>-0.442279</td>\n",
       "      <td>-0.097398</td>\n",
       "      <td>-0.144667</td>\n",
       "      <td>...</td>\n",
       "      <td>-0.003362</td>\n",
       "      <td>-0.002249</td>\n",
       "      <td>-0.001248</td>\n",
       "      <td>-0.003927</td>\n",
       "      <td>-0.000921</td>\n",
       "      <td>0.000573</td>\n",
       "      <td>-0.001325</td>\n",
       "      <td>0.000025</td>\n",
       "      <td>0.000484</td>\n",
       "      <td>-0.000285</td>\n",
       "    </tr>\n",
       "    <tr>\n",
       "      <td>567</td>\n",
       "      <td>1124.858115</td>\n",
       "      <td>34.129225</td>\n",
       "      <td>-19.742087</td>\n",
       "      <td>-23.660881</td>\n",
       "      <td>3.565133</td>\n",
       "      <td>4.086390</td>\n",
       "      <td>-1.705401</td>\n",
       "      <td>-0.359964</td>\n",
       "      <td>0.385030</td>\n",
       "      <td>0.615467</td>\n",
       "      <td>...</td>\n",
       "      <td>-0.006130</td>\n",
       "      <td>-0.010804</td>\n",
       "      <td>0.005841</td>\n",
       "      <td>0.001127</td>\n",
       "      <td>-0.002646</td>\n",
       "      <td>0.001862</td>\n",
       "      <td>0.002698</td>\n",
       "      <td>0.001235</td>\n",
       "      <td>-0.000809</td>\n",
       "      <td>0.001217</td>\n",
       "    </tr>\n",
       "    <tr>\n",
       "      <td>568</td>\n",
       "      <td>-771.527622</td>\n",
       "      <td>-88.643106</td>\n",
       "      <td>23.889032</td>\n",
       "      <td>2.547249</td>\n",
       "      <td>-14.717566</td>\n",
       "      <td>4.418123</td>\n",
       "      <td>-2.815752</td>\n",
       "      <td>0.030039</td>\n",
       "      <td>-0.423451</td>\n",
       "      <td>-0.301439</td>\n",
       "      <td>...</td>\n",
       "      <td>0.018435</td>\n",
       "      <td>-0.009224</td>\n",
       "      <td>0.000242</td>\n",
       "      <td>0.011529</td>\n",
       "      <td>0.012745</td>\n",
       "      <td>0.003539</td>\n",
       "      <td>0.001129</td>\n",
       "      <td>-0.004446</td>\n",
       "      <td>0.000243</td>\n",
       "      <td>0.001468</td>\n",
       "    </tr>\n",
       "  </tbody>\n",
       "</table>\n",
       "<p>569 rows × 30 columns</p>\n",
       "</div>"
      ],
      "text/plain": [
       "              0           1          2          3          4         5   \\\n",
       "0    1160.142574 -293.917544  48.578398  -8.711975  32.000486  1.265415   \n",
       "1    1269.122443   15.630182 -35.394534  17.861283  -4.334874 -0.225872   \n",
       "2     995.793889   39.156743  -1.709753   4.199340  -0.466529 -2.652811   \n",
       "3    -407.180803  -67.380320   8.672848 -11.759867   7.115461  1.299436   \n",
       "4     930.341180  189.340742   1.374801   8.499183   7.613289  1.021160   \n",
       "..           ...         ...        ...        ...        ...       ...   \n",
       "564  1414.126684  110.222492  40.065944   6.562240  -5.102856 -0.395424   \n",
       "565  1045.018854   77.057589   0.036669  -4.753245 -12.417863 -0.059637   \n",
       "566   314.501756   47.553525 -10.442407  -9.771881  -6.156213 -0.870726   \n",
       "567  1124.858115   34.129225 -19.742087 -23.660881   3.565133  4.086390   \n",
       "568  -771.527622  -88.643106  23.889032   2.547249 -14.717566  4.418123   \n",
       "\n",
       "           6         7         8         9   ...        20        21  \\\n",
       "0    0.931337  0.148167  0.745463  0.589359  ...  0.021189  0.000241   \n",
       "1   -0.046037  0.200804 -0.485828 -0.084035  ...  0.005237  0.021069   \n",
       "2   -0.779745 -0.274026 -0.173874 -0.186994  ... -0.009865 -0.002394   \n",
       "3   -1.267304 -0.060555 -0.330639 -0.144155  ...  0.011169  0.007063   \n",
       "4   -0.335522  0.289109  0.036087 -0.138502  ... -0.009916  0.010269   \n",
       "..        ...       ...       ...       ...  ...       ...       ...   \n",
       "564 -0.786751  0.037082 -0.452530 -0.235185  ... -0.017214  0.007864   \n",
       "565  0.449831  0.509154 -0.449986  0.493247  ...  0.011219 -0.001905   \n",
       "566 -2.166493 -0.442279 -0.097398 -0.144667  ... -0.003362 -0.002249   \n",
       "567 -1.705401 -0.359964  0.385030  0.615467  ... -0.006130 -0.010804   \n",
       "568 -2.815752  0.030039 -0.423451 -0.301439  ...  0.018435 -0.009224   \n",
       "\n",
       "           22        23        24        25        26        27        28  \\\n",
       "0    0.002528  0.011560  0.005773  0.001377 -0.001982  0.001293  0.001989   \n",
       "1    0.001565  0.006968 -0.006978  0.001411 -0.000083 -0.001347  0.000686   \n",
       "2   -0.004125 -0.004007  0.000709 -0.003781  0.000178  0.000018 -0.000775   \n",
       "3    0.001537  0.007003 -0.010261 -0.002899  0.000016  0.001369 -0.002139   \n",
       "4    0.002204  0.002764  0.002455  0.001665  0.003290  0.000273  0.001783   \n",
       "..        ...       ...       ...       ...       ...       ...       ...   \n",
       "564 -0.002317 -0.002384 -0.003637 -0.008211  0.002418  0.001234 -0.000078   \n",
       "565 -0.003028 -0.007931  0.002905 -0.002519  0.000212  0.001006 -0.000621   \n",
       "566 -0.001248 -0.003927 -0.000921  0.000573 -0.001325  0.000025  0.000484   \n",
       "567  0.005841  0.001127 -0.002646  0.001862  0.002698  0.001235 -0.000809   \n",
       "568  0.000242  0.011529  0.012745  0.003539  0.001129 -0.004446  0.000243   \n",
       "\n",
       "           29  \n",
       "0    0.000704  \n",
       "1   -0.001061  \n",
       "2    0.000405  \n",
       "3   -0.001657  \n",
       "4    0.000327  \n",
       "..        ...  \n",
       "564 -0.000455  \n",
       "565 -0.000741  \n",
       "566 -0.000285  \n",
       "567  0.001217  \n",
       "568  0.001468  \n",
       "\n",
       "[569 rows x 30 columns]"
      ]
     },
     "execution_count": 63,
     "metadata": {},
     "output_type": "execute_result"
    }
   ],
   "source": [
    "pca = PCA(n_components=30)\n",
    "\n",
    "bc = pca.fit_transform(df)\n",
    "bcdf = pd.DataFrame(bc)\n",
    "bcdf"
   ]
  },
  {
   "cell_type": "code",
   "execution_count": 67,
   "metadata": {},
   "outputs": [
    {
     "data": {
      "text/plain": [
       "[Text(167.4, 181.2, 'X[0] <= 54.079\\ngini = 0.472\\nsamples = 455\\nvalue = [281, 174]'),\n",
       " Text(83.7, 108.72, 'X[0] <= -191.457\\ngini = 0.195\\nsamples = 310\\nvalue = [276, 34]'),\n",
       " Text(41.85, 36.23999999999998, 'gini = 0.064\\nsamples = 240\\nvalue = [232, 8]'),\n",
       " Text(125.55000000000001, 36.23999999999998, 'gini = 0.467\\nsamples = 70\\nvalue = [44, 26]'),\n",
       " Text(251.10000000000002, 108.72, 'X[0] <= 260.355\\ngini = 0.067\\nsamples = 145\\nvalue = [5, 140]'),\n",
       " Text(209.25, 36.23999999999998, 'gini = 0.293\\nsamples = 28\\nvalue = [5, 23]'),\n",
       " Text(292.95, 36.23999999999998, 'gini = 0.0\\nsamples = 117\\nvalue = [0, 117]')]"
      ]
     },
     "execution_count": 67,
     "metadata": {},
     "output_type": "execute_result"
    },
    {
     "data": {
      "image/png": "[encoded data removed]",
      "text/plain": [
       "<Figure size 432x288 with 1 Axes>"
      ]
     },
     "metadata": {
      "needs_background": "light"
     },
     "output_type": "display_data"
    }
   ],
   "source": [
    "X = bcdf[[0]]\n",
    "y = diagnosis\n",
    "\n",
    "X_train, X_test, y_train, y_test = model_selection.train_test_split(X, y, test_size=0.2)\n",
    "\n",
    "clf = tree.DecisionTreeClassifier(max_depth=2, min_samples_split=5, min_samples_leaf=2)\n",
    "clf = clf.fit(X_train, y_train)\n",
    "\n",
    "tree.plot_tree(clf)"
   ]
  },
  {
   "cell_type": "code",
   "execution_count": 68,
   "metadata": {},
   "outputs": [
    {
     "name": "stdout",
     "output_type": "stream",
     "text": [
      "              precision    recall  f1-score   support\n",
      "\n",
      "           B       0.88      0.97      0.93        76\n",
      "           M       0.93      0.74      0.82        38\n",
      "\n",
      "    accuracy                           0.89       114\n",
      "   macro avg       0.91      0.86      0.87       114\n",
      "weighted avg       0.90      0.89      0.89       114\n",
      "\n"
     ]
    }
   ],
   "source": [
    "expected = y_test\n",
    "predicted = clf.predict(X_test)\n",
    "\n",
    "print(metrics.classification_report(expected, predicted))"
   ]
  },
  {
   "cell_type": "markdown",
   "metadata": {},
   "source": [
    "Using only one principal component, the values for the precision, recall, and F1-score are all pretty close to the original values. This is because the first principal component does a good job at capturing most of the information."
   ]
  },
  {
   "cell_type": "code",
   "execution_count": 76,
   "metadata": {},
   "outputs": [
    {
     "data": {
      "text/plain": [
       "[Text(167.4, 181.2, 'X[0] <= 41.653\\ngini = 0.46\\nsamples = 455\\nvalue = [292, 163]'),\n",
       " Text(83.7, 108.72, 'X[0] <= -196.667\\ngini = 0.195\\nsamples = 320\\nvalue = [285, 35]'),\n",
       " Text(41.85, 36.23999999999998, 'gini = 0.064\\nsamples = 241\\nvalue = [233, 8]'),\n",
       " Text(125.55000000000001, 36.23999999999998, 'gini = 0.45\\nsamples = 79\\nvalue = [52, 27]'),\n",
       " Text(251.10000000000002, 108.72, 'X[0] <= 132.297\\ngini = 0.098\\nsamples = 135\\nvalue = [7, 128]'),\n",
       " Text(209.25, 36.23999999999998, 'gini = 0.444\\nsamples = 15\\nvalue = [5, 10]'),\n",
       " Text(292.95, 36.23999999999998, 'gini = 0.033\\nsamples = 120\\nvalue = [2, 118]')]"
      ]
     },
     "execution_count": 76,
     "metadata": {},
     "output_type": "execute_result"
    },
    {
     "data": {
      "image/png": "[encoded data removed]",
      "text/plain": [
       "<Figure size 432x288 with 1 Axes>"
      ]
     },
     "metadata": {
      "needs_background": "light"
     },
     "output_type": "display_data"
    }
   ],
   "source": [
    "X = bcdf[[0, 1]]\n",
    "y = diagnosis\n",
    "\n",
    "X_train, X_test, y_train, y_test = model_selection.train_test_split(X, y, test_size=0.2)\n",
    "\n",
    "clf = tree.DecisionTreeClassifier(max_depth=2, min_samples_split=5, min_samples_leaf=2)\n",
    "clf = clf.fit(X_train, y_train)\n",
    "\n",
    "tree.plot_tree(clf)"
   ]
  },
  {
   "cell_type": "code",
   "execution_count": 77,
   "metadata": {},
   "outputs": [
    {
     "name": "stdout",
     "output_type": "stream",
     "text": [
      "              precision    recall  f1-score   support\n",
      "\n",
      "           B       0.90      0.98      0.94        65\n",
      "           M       0.98      0.86      0.91        49\n",
      "\n",
      "    accuracy                           0.93       114\n",
      "   macro avg       0.94      0.92      0.93       114\n",
      "weighted avg       0.93      0.93      0.93       114\n",
      "\n"
     ]
    }
   ],
   "source": [
    "expected = y_test\n",
    "predicted = clf.predict(X_test)\n",
    "\n",
    "print(metrics.classification_report(expected, predicted))"
   ]
  },
  {
   "cell_type": "markdown",
   "metadata": {},
   "source": [
    "Using two principal components, it got even better results for precision, recall, and F1-score."
   ]
  },
  {
   "cell_type": "code",
   "execution_count": 81,
   "metadata": {},
   "outputs": [
    {
     "data": {
      "text/plain": [
       "(64, 1, 7, 42)"
      ]
     },
     "execution_count": 81,
     "metadata": {},
     "output_type": "execute_result"
    }
   ],
   "source": [
    "tn, fp, fn, tp = confusion_matrix(expected, predicted).ravel()\n",
    "(tn, fp, fn, tp)"
   ]
  },
  {
   "cell_type": "markdown",
   "metadata": {},
   "source": [
    "1 false positive and 42 true positives. 1/114 and 42/114 are the false positive rate and true positive rate respectively.\n",
    "Using continuous data is beneficial because the classification error is much lower and the precision and recall are fairly high."
   ]
  },
  {
   "cell_type": "markdown",
   "metadata": {},
   "source": [
    "=====PROBLEM 4====="
   ]
  },
  {
   "cell_type": "code",
   "execution_count": 55,
   "metadata": {
    "scrolled": true
   },
   "outputs": [
    {
     "data": {
      "text/html": [
       "<div>\n",
       "<style scoped>\n",
       "    .dataframe tbody tr th:only-of-type {\n",
       "        vertical-align: middle;\n",
       "    }\n",
       "\n",
       "    .dataframe tbody tr th {\n",
       "        vertical-align: top;\n",
       "    }\n",
       "\n",
       "    .dataframe thead th {\n",
       "        text-align: right;\n",
       "    }\n",
       "</style>\n",
       "<table border=\"1\" class=\"dataframe\">\n",
       "  <thead>\n",
       "    <tr style=\"text-align: right;\">\n",
       "      <th></th>\n",
       "      <th>x0</th>\n",
       "      <th>x1</th>\n",
       "      <th>cl</th>\n",
       "    </tr>\n",
       "  </thead>\n",
       "  <tbody>\n",
       "    <tr>\n",
       "      <td>count</td>\n",
       "      <td>1000.000000</td>\n",
       "      <td>1000.000000</td>\n",
       "      <td>1000.000000</td>\n",
       "    </tr>\n",
       "    <tr>\n",
       "      <td>mean</td>\n",
       "      <td>4.798987</td>\n",
       "      <td>-5.026988</td>\n",
       "      <td>0.507000</td>\n",
       "    </tr>\n",
       "    <tr>\n",
       "      <td>std</td>\n",
       "      <td>1.990037</td>\n",
       "      <td>2.065757</td>\n",
       "      <td>0.500201</td>\n",
       "    </tr>\n",
       "    <tr>\n",
       "      <td>min</td>\n",
       "      <td>-2.467688</td>\n",
       "      <td>-10.524657</td>\n",
       "      <td>0.000000</td>\n",
       "    </tr>\n",
       "    <tr>\n",
       "      <td>25%</td>\n",
       "      <td>3.487232</td>\n",
       "      <td>-6.473656</td>\n",
       "      <td>0.000000</td>\n",
       "    </tr>\n",
       "    <tr>\n",
       "      <td>50%</td>\n",
       "      <td>4.858723</td>\n",
       "      <td>-5.020760</td>\n",
       "      <td>1.000000</td>\n",
       "    </tr>\n",
       "    <tr>\n",
       "      <td>75%</td>\n",
       "      <td>6.209986</td>\n",
       "      <td>-3.620304</td>\n",
       "      <td>1.000000</td>\n",
       "    </tr>\n",
       "    <tr>\n",
       "      <td>max</td>\n",
       "      <td>11.034457</td>\n",
       "      <td>1.302102</td>\n",
       "      <td>1.000000</td>\n",
       "    </tr>\n",
       "  </tbody>\n",
       "</table>\n",
       "</div>"
      ],
      "text/plain": [
       "                x0           x1           cl\n",
       "count  1000.000000  1000.000000  1000.000000\n",
       "mean      4.798987    -5.026988     0.507000\n",
       "std       1.990037     2.065757     0.500201\n",
       "min      -2.467688   -10.524657     0.000000\n",
       "25%       3.487232    -6.473656     0.000000\n",
       "50%       4.858723    -5.020760     1.000000\n",
       "75%       6.209986    -3.620304     1.000000\n",
       "max      11.034457     1.302102     1.000000"
      ]
     },
     "execution_count": 55,
     "metadata": {},
     "output_type": "execute_result"
    }
   ],
   "source": [
    "N = 1000\n",
    "u0 = 5\n",
    "s0 = 2\n",
    "u1 = -5\n",
    "s1 = 2\n",
    "\n",
    "x0 = np.random.normal(u0,s0,N)\n",
    "x1 = np.random.normal(u1,s1,N)\n",
    "cl = np.random.randint(2, size=1000)\n",
    "\n",
    "df = pd.DataFrame(dict(zip(['x0','x1', 'cl'],[x0,x1, cl])))\n",
    "df.describe()"
   ]
  },
  {
   "cell_type": "code",
   "execution_count": 56,
   "metadata": {},
   "outputs": [
    {
     "data": {
      "text/plain": [
       "[Text(167.4, 181.2, 'X[0] <= 5.083\\ngini = 0.5\\nsamples = 800\\nvalue = [399, 401]'),\n",
       " Text(83.7, 108.72, 'X[0] <= 4.288\\ngini = 0.495\\nsamples = 437\\nvalue = [240, 197]'),\n",
       " Text(41.85, 36.23999999999998, 'gini = 0.5\\nsamples = 313\\nvalue = [157, 156]'),\n",
       " Text(125.55000000000001, 36.23999999999998, 'gini = 0.443\\nsamples = 124\\nvalue = [83, 41]'),\n",
       " Text(251.10000000000002, 108.72, 'X[0] <= 8.178\\ngini = 0.492\\nsamples = 363\\nvalue = [159, 204]'),\n",
       " Text(209.25, 36.23999999999998, 'gini = 0.487\\nsamples = 333\\nvalue = [140, 193]'),\n",
       " Text(292.95, 36.23999999999998, 'gini = 0.464\\nsamples = 30\\nvalue = [19, 11]')]"
      ]
     },
     "execution_count": 56,
     "metadata": {},
     "output_type": "execute_result"
    },
    {
     "data": {
      "image/png": "[encoded data removed]",
      "text/plain": [
       "<Figure size 432x288 with 1 Axes>"
      ]
     },
     "metadata": {
      "needs_background": "light"
     },
     "output_type": "display_data"
    }
   ],
   "source": [
    "X = df.drop('cl', axis=1)\n",
    "y = df['cl']\n",
    "\n",
    "X_train, X_test, y_train, y_test = model_selection.train_test_split(X, y, test_size=0.2)\n",
    "\n",
    "bt = tree.DecisionTreeClassifier(max_depth=2, min_samples_split=5, min_samples_leaf=2)\n",
    "bt = bt.fit(X_train, y_train)\n",
    "\n",
    "expected = y_test\n",
    "predicted = bt.predict(X_test)\n",
    "\n",
    "tree.plot_tree(bt)"
   ]
  },
  {
   "cell_type": "code",
   "execution_count": 60,
   "metadata": {},
   "outputs": [
    {
     "data": {
      "text/plain": [
       "0.551"
      ]
     },
     "execution_count": 60,
     "metadata": {},
     "output_type": "execute_result"
    }
   ],
   "source": [
    "from statsmodels.distributions.empirical_distribution import ECDF\n",
    "ecdf = ECDF(x0)\n",
    "ecdf(5.083)"
   ]
  },
  {
   "cell_type": "markdown",
   "metadata": {},
   "source": [
    "It split on 5.083 of x0, which is really close to the mean of 4.799 for x0. This means the data was almost split in half which is backed up by the ecdf of our threshold being 0.551 (55% of our data is on the left side of the threshold). We also see that 437 of the samples ended up on the left side out of 800, so this makes sense."
   ]
  }
 ],
 "metadata": {
  "kernelspec": {
   "display_name": "Python 3",
   "language": "python",
   "name": "python3"
  },
  "language_info": {
   "codemirror_mode": {
    "name": "ipython",
    "version": 3
   },
   "file_extension": ".py",
   "mimetype": "text/x-python",
   "name": "python",
   "nbconvert_exporter": "python",
   "pygments_lexer": "ipython3",
   "version": "3.7.4"
  }
 },
 "nbformat": 4,
 "nbformat_minor": 2
}
